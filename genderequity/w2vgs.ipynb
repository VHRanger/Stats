{
 "cells": [
  {
   "cell_type": "markdown",
   "metadata": {},
   "source": [
    "# Meddling around with gendered names"
   ]
  },
  {
   "cell_type": "markdown",
   "metadata": {},
   "source": [
    "**NOTES:** \n",
    "\n",
    "fasttext-wiki and w2v-googlenews has both upper and lower case names\n",
    "\n",
    "glove-twitter, glove-wiki are lowercased everywhere\n",
    "\n",
    "conceptnet has no names??"
   ]
  },
  {
   "cell_type": "code",
   "execution_count": 2,
   "metadata": {
    "scrolled": true
   },
   "outputs": [
    {
     "data": {
      "text/html": [
       "<style>.container { width:100% !important; }</style>"
      ],
      "text/plain": [
       "<IPython.core.display.HTML object>"
      ]
     },
     "metadata": {},
     "output_type": "display_data"
    },
    {
     "name": "stdout",
     "output_type": "stream",
     "text": [
      "# names:  11316\n"
     ]
    }
   ],
   "source": [
    "import gc\n",
    "import gensim\n",
    "import gensim.downloader as download_api\n",
    "import json\n",
    "import numpy as np\n",
    "import pandas as pd\n",
    "import sklearn\n",
    "from sklearn import cluster\n",
    "import time\n",
    "import urllib.request\n",
    "\n",
    "from IPython.core.display import display, HTML\n",
    "display(HTML(\"<style>.container { width:100% !important; }</style>\"))\n",
    "pd.set_option('display.max_columns', 100)\n",
    "\n",
    "df =  pd.read_csv(\"us-likelihood-of-gender-by-name-in-2014.csv\")\n",
    "df['nameLower'] = df.name.str.lower()\n",
    "df.sex = df.sex.map({'F':0, 'M':1})\n",
    "print(\"# names: \", len(df.name.unique()))"
   ]
  },
  {
   "cell_type": "markdown",
   "metadata": {},
   "source": [
    "Query the [name-prism](name-prism.com/) API to get probable ethnicity from name. [Ethnicolr](https://github.com/appeler/ethnicolr) has bad results and breaks your tensorflow installation -- don't use it."
   ]
  },
  {
   "cell_type": "code",
   "execution_count": 13,
   "metadata": {},
   "outputs": [],
   "source": [
    "def getEthnicity(name: str):\n",
    "    \"\"\"\n",
    "    get ethinicity data for a name from name-prism.com API\n",
    "    \n",
    "    args: Name (str)\n",
    "    returns: dict[str -> float]\n",
    "             which represents [ethnicity -> probability]\n",
    "    \"\"\"\n",
    "#     time.sleep(15)\n",
    "    print(name)\n",
    "    try:\n",
    "        return dict(json.loads(\n",
    "                urllib.request.urlopen(\n",
    "                  \"http://www.name-prism.com/api_eth/json/{0}\".format(name)\n",
    "                ).read()))\n",
    "    # on failure, return empty dict\n",
    "    except Exception as e:\n",
    "        print(\"Problem: \", name)\n",
    "        print(e)\n",
    "        return {}\n",
    "\n",
    "def maxValKey(d: dict):\n",
    "    \"\"\" \n",
    "    Get the key with the maximal value from a dictionary\n",
    "    \"\"\"\n",
    "    if not d: # if empty dict, return NaN (missing)\n",
    "        return None\n",
    "    vals=list(d.values())\n",
    "    keys=list(d.keys())\n",
    "    return keys[vals.index(max(vals))]\n",
    "\n",
    "# create empty column to fill with ethnicity data\n",
    "df['ethnicity'] = np.nan\n",
    "df['ethnicity.prob'] = 1"
   ]
  },
  {
   "cell_type": "code",
   "execution_count": 14,
   "metadata": {},
   "outputs": [
    {
     "name": "stdout",
     "output_type": "stream",
     "text": [
      "Elaine\n",
      "Problem:  Elaine\n",
      "Expecting value: line 1 column 1 (char 0)\n",
      "{}\n",
      "Cathy\n",
      "Problem:  Cathy\n",
      "Expecting value: line 1 column 1 (char 0)\n",
      "{}\n",
      "Heidi\n",
      "Problem:  Heidi\n",
      "Expecting value: line 1 column 1 (char 0)\n",
      "{}\n"
     ]
    }
   ],
   "source": [
    "for i in range(len(df.iloc[:3])):\n",
    "    ethdict = getEthnicity(df['name'].iloc[i])\n",
    "    print(ethdict)\n",
    "    maxkey = maxValKey(ethdict)\n",
    "    if maxkey:\n",
    "        maxprob = ethdict[maxkey]\n",
    "        df['ethnicity'].iloc[i] = maxkey\n",
    "        df['ethnicity.prob'].iloc[i] = maxprob"
   ]
  },
  {
   "cell_type": "code",
   "execution_count": null,
   "metadata": {
    "scrolled": false
   },
   "outputs": [],
   "source": [
    "# gensim models from https://github.com/RaRe-Technologies/gensim-data\n",
    "model_names = [\n",
    "    ['glove-twitter-50', \"nameLower\"],\n",
    "    ['glove-twitter-200', \"nameLower\"],\n",
    "    ['glove-wiki-gigaword-50', \"nameLower\"],\n",
    "    ['glove-wiki-gigaword-300', \"nameLower\"],\n",
    "    ['word2vec-google-news-300', \"nameLower\"],\n",
    "    ['word2vec-google-news-300', \"name\"],\n",
    "    ['fasttext-wiki-news-subwords-300', \"nameLower\"],\n",
    "    ['fasttext-wiki-news-subwords-300', \"name\"],\n",
    "]\n",
    "for m in range(len(model_names)):\n",
    "    model_name = model_names[m][0]\n",
    "    model = download_api.load(model_name)\n",
    "    name_col = model_names[m][1]\n",
    "    nameList = df[name_col].unique()\n",
    "    # pre allocate memory for efficiency\n",
    "    dn = pd.DataFrame(np.zeros(\n",
    "        (len(nameList),\n",
    "         model.vector_size))) # Add names to the dataframe to keep track\n",
    "    dn.index = nameList\n",
    "    oovNames = [] # out of model vocab names\n",
    "    for name in nameList:\n",
    "        try:\n",
    "            dn.loc[dn.index==name, :] = model[name]\n",
    "        except KeyError:\n",
    "            oovNames.append(name)\n",
    "    # clean result to cluster properly\n",
    "    dn = dn.loc[~dn.index.isin(oovNames)]\n",
    "    # get clustering\n",
    "    genderClusters = sklearn.cluster.k_means(dn, 2)[1]\n",
    "    # align result to join with M/F labellings\n",
    "    dn = pd.DataFrame(list(zip(genderClusters, dn.index)), \n",
    "                      columns=[model_name +\"_\"+ name_col, name_col])\n",
    "    # Merge results into final table\n",
    "    # outer join has NaN for oov names\n",
    "    df = df.merge(dn, on=name_col, how=\"outer\")\n",
    "    # cleanup: never trust python GC with big objects\n",
    "    model, dn = None, None\n",
    "    gc.collect()\n",
    "    print('\"{0}\"'.format(model_name), \" OOV words:\", len(oovNames))"
   ]
  },
  {
   "cell_type": "code",
   "execution_count": null,
   "metadata": {
    "scrolled": true
   },
   "outputs": [],
   "source": [
    "df"
   ]
  },
  {
   "cell_type": "code",
   "execution_count": null,
   "metadata": {
    "scrolled": true
   },
   "outputs": [],
   "source": [
    "df.corr()"
   ]
  },
  {
   "cell_type": "code",
   "execution_count": null,
   "metadata": {},
   "outputs": [],
   "source": [
    "from sklearn import cluster, metrics\n",
    "\n",
    "n_clusters = test_set.CAMPAIGNID.nunique()\n",
    "\n",
    "test_set['kms'] = cluster.KMeans(n_clusters=n_clusters\n",
    "                        ).fit(SE).labels_\n",
    "test_set['acs'] = cluster.AgglomerativeClustering(n_clusters=n_clusters, \n",
    "                                                  affinity='euclidean', linkage='ward'\n",
    "                        ).fit(SE).labels_\n",
    "# NOTE: spectral requres hyperparameter fiddling to get good performance\n",
    "test_set['spc'] = cluster.SpectralClustering(n_clusters=n_clusters,\n",
    "                                             affinity= 'poly',# 'nearest_neighbors',\n",
    "                                             n_init=50, \n",
    "                                             degree=3, gamma=0.3,\n",
    "                                             eigen_solver='arpack', # optional (faster)\n",
    "                        ).fit(SE).labels_\n",
    "\n",
    "\n",
    "print(\"adj. MI score:   {0} | {1} | {2}\".format(\n",
    "    int(metrics.adjusted_mutual_info_score(test_set['kms'], test_set['CAMPAIGNID']) * 100),\n",
    "    int(metrics.adjusted_mutual_info_score(test_set['acs'], test_set['CAMPAIGNID']) * 100),\n",
    "    int(metrics.adjusted_mutual_info_score(test_set['spc'], test_set['CAMPAIGNID']) * 100),\n",
    "))\n",
    "print(\"adj. RAND score: {0} | {1} | {2}\".format(\n",
    "    int(metrics.adjusted_rand_score(test_set['kms'], test_set['CAMPAIGNID']) * 100),\n",
    "    int(metrics.adjusted_rand_score(test_set['acs'], test_set['CAMPAIGNID']) * 100),\n",
    "    int(metrics.adjusted_rand_score(test_set['spc'], test_set['CAMPAIGNID']) * 100),\n",
    "))\n",
    "print(\"F-M score:       {0} | {1} | {2}\".format(\n",
    "    int(metrics.fowlkes_mallows_score(test_set['kms'], test_set['CAMPAIGNID']) * 100),\n",
    "    int(metrics.fowlkes_mallows_score(test_set['acs'], test_set['CAMPAIGNID']) * 100),\n",
    "    int(metrics.fowlkes_mallows_score(test_set['spc'], test_set['CAMPAIGNID']) * 100),\n",
    "))"
   ]
  }
 ],
 "metadata": {
  "kernelspec": {
   "display_name": "Python 3",
   "language": "python",
   "name": "python3"
  },
  "language_info": {
   "codemirror_mode": {
    "name": "ipython",
    "version": 3
   },
   "file_extension": ".py",
   "mimetype": "text/x-python",
   "name": "python",
   "nbconvert_exporter": "python",
   "pygments_lexer": "ipython3",
   "version": "3.6.5"
  }
 },
 "nbformat": 4,
 "nbformat_minor": 2
}
