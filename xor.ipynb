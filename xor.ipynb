{
  "nbformat": 4,
  "nbformat_minor": 0,
  "metadata": {
    "colab": {
      "name": "xor.ipynb",
      "version": "0.3.2",
      "views": {},
      "default_view": {},
      "provenance": [],
      "collapsed_sections": []
    },
    "kernelspec": {
      "name": "python3",
      "display_name": "Python 3"
    },
    "accelerator": "GPU"
  },
  "cells": [
    {
      "metadata": {
        "id": "Lzdlx8kld7sN",
        "colab_type": "code",
        "colab": {
          "autoexec": {
            "startup": false,
            "wait_interval": 0
          },
          "output_extras": [
            {
              "item_id": 1
            }
          ],
          "base_uri": "https://localhost:8080/",
          "height": 300
        },
        "outputId": "58077b39-8b0e-430d-bb7f-651dc0843fe0",
        "executionInfo": {
          "status": "ok",
          "timestamp": 1521773775970,
          "user_tz": 240,
          "elapsed": 1554,
          "user": {
            "displayName": "Matthieu",
            "photoUrl": "https://lh3.googleusercontent.com/a/default-user=s128",
            "userId": "103782916960282194779"
          }
        }
      },
      "cell_type": "code",
      "source": [
        "import tensorflow as tf\n",
        "import matplotlib.pyplot as plt\n",
        "import numpy as np\n",
        "from sklearn.neural_network import MLPClassifier\n",
        "import keras\n",
        "from keras.models import Sequential\n",
        "from keras.layers import Dense, LSTM, Dropout, RNN, LSTMCell\n",
        "from keras import layers\n",
        "from keras import optimizers\n",
        "import matplotlib.pyplot as plt\n",
        "from tensorflow.python.client import device_lib\n",
        "print(device_lib.list_local_devices())\n",
        "\n",
        "\n",
        "def createXorData(samples=100000, size=50):\n",
        "  \"\"\"\n",
        "  generates a dataset for the XOR problem in \n",
        "    https://blog.openai.com/requests-for-research-2/\n",
        "  LHS are sequences of bools\n",
        "  RHS computes the parity bit \n",
        "    (eg. wether the sequence has odd or even sum)\n",
        "  \"\"\"\n",
        "  lhs = np.zeros((samples, size), dtype=np.float32)\n",
        "  rhs = np.zeros(samples)\n",
        "  for row in range(samples):\n",
        "    lhs[row] = np.random.randint(0, 2, size)\n",
        "    rhs[row] = lhs[row].sum() % 2\n",
        "  return lhs, rhs"
      ],
      "execution_count": 37,
      "outputs": [
        {
          "output_type": "stream",
          "text": [
            "[name: \"/device:CPU:0\"\n",
            "device_type: \"CPU\"\n",
            "memory_limit: 268435456\n",
            "locality {\n",
            "}\n",
            "incarnation: 12986928932043762479\n",
            ", name: \"/device:GPU:0\"\n",
            "device_type: \"GPU\"\n",
            "memory_limit: 338690048\n",
            "locality {\n",
            "  bus_id: 1\n",
            "}\n",
            "incarnation: 15964170320547248916\n",
            "physical_device_desc: \"device: 0, name: Tesla K80, pci bus id: 0000:00:04.0, compute capability: 3.7\"\n",
            "]\n"
          ],
          "name": "stdout"
        }
      ]
    },
    {
      "metadata": {
        "id": "8wrDYUx8d-b8",
        "colab_type": "code",
        "colab": {
          "autoexec": {
            "startup": false,
            "wait_interval": 0
          }
        }
      },
      "cell_type": "code",
      "source": [
        "SIZE = 4\n",
        "SAMPLES = 64000\n",
        "BATCH_SIZE = 32\n",
        "\n",
        "Xtrain, Ytrain = createXorData(SAMPLES, SIZE)\n",
        "Xtest, Ytest = createXorData(SAMPLES//10, SIZE)"
      ],
      "execution_count": 0,
      "outputs": []
    },
    {
      "metadata": {
        "id": "lMwqXa9avJKg",
        "colab_type": "code",
        "colab": {
          "autoexec": {
            "startup": false,
            "wait_interval": 0
          },
          "output_extras": [
            {
              "item_id": 1
            },
            {
              "item_id": 2
            }
          ],
          "base_uri": "https://localhost:8080/",
          "height": 1668
        },
        "outputId": "8cd277c9-e953-492e-8689-e1a1d681eb55",
        "executionInfo": {
          "status": "error",
          "timestamp": 1521777040820,
          "user_tz": 240,
          "elapsed": 421128,
          "user": {
            "displayName": "Matthieu",
            "photoUrl": "https://lh3.googleusercontent.com/a/default-user=s128",
            "userId": "103782916960282194779"
          }
        }
      },
      "cell_type": "code",
      "source": [
        "\"\"\"\n",
        "Training data is shaped as a normal matrix\n",
        "[[0,1,1], [1,0,0], ..., [1,1,1]]\n",
        "\n",
        "The RNN cell takes as input a sequence of sequences,\n",
        "so to have a rnn sequence length of [# features] \n",
        "the data needs to be reshaped as\n",
        "[[[0],[1],[1]], [[1],[0],[0]], ..., [[1],[1],[1]]]\n",
        "\n",
        "(alternatively the data can be further split \n",
        " in more sub-array of sequences in the features)\n",
        "\"\"\"\n",
        "model = Sequential()\n",
        "model.add(layers.LSTM(50, batch_input_shape=(BATCH_SIZE, SIZE, 1), \n",
        "               kernel_initializer='random_uniform', \n",
        "               stateful=True))\n",
        "model.add(Dense(1, activation='sigmoid'))\n",
        "\n",
        "model_opt = optimizers.Adadelta(lr=0.5, rho=0.95, epsilon=None, decay=0.0)\n",
        "model.compile(optimizer=model_opt, loss='binary_crossentropy', metrics=['acc'])\n",
        "\n",
        "model.summary()\n",
        "history = model.fit(\n",
        "    # reshape training data in \n",
        "    Xtrain.reshape((len(Xtrain), SIZE, 1)),\n",
        "    Ytrain, epochs=350,\n",
        "    batch_size=BATCH_SIZE,\n",
        "    validation_split=0.1, \n",
        "    shuffle=False, verbose=False)\n",
        "#\n",
        "# Plotting output\n",
        "#\n",
        "loss = history.history['loss']\n",
        "val_loss = history.history['val_loss']\n",
        "epochs = range(1, len(loss) + 1)\n",
        "\n",
        "plt.figure()\n",
        "plt.plot(epochs, loss, 'bo', label='Training loss')\n",
        "plt.plot(epochs, val_loss, 'b', label='Validation loss')\n",
        "plt.title('Training and validation loss')\n",
        "plt.xlabel('Epochs')\n",
        "plt.ylabel('Loss')\n",
        "plt.legend()\n",
        "plt.figure()\n",
        "\n",
        "acc = history.history['acc']\n",
        "val_acc = history.history['val_acc']\n",
        "plt.plot(epochs, acc, 'bo', label='Training acc')\n",
        "plt.plot(epochs, val_acc, 'b', label='Validation acc')\n",
        "plt.title('Training and validation accuracy')\n",
        "plt.xlabel('Epochs')\n",
        "plt.ylabel('Accuracy')\n",
        "plt.legend()\n",
        "\n",
        "plt.show()\n",
        "preds = model.predict(Xtest.reshape((len(Xtest), SIZE, 1)), \n",
        "                      batch_size=BATCH_SIZE)\n",
        "preds = np.round(preds[:, 0]).astype('float32')\n",
        "acc = (np.sum(preds == Ytest) / len(Ytest)) * 100.\n",
        "print('Accuracy: {:.2f}%'.format(acc))"
      ],
      "execution_count": 76,
      "outputs": [
        {
          "output_type": "stream",
          "text": [
            "_________________________________________________________________\n",
            "Layer (type)                 Output Shape              Param #   \n",
            "=================================================================\n",
            "lstm_20 (LSTM)               (32, 50)                  10400     \n",
            "_________________________________________________________________\n",
            "dense_38 (Dense)             (32, 1)                   51        \n",
            "=================================================================\n",
            "Total params: 10,451\n",
            "Trainable params: 10,451\n",
            "Non-trainable params: 0\n",
            "_________________________________________________________________\n"
          ],
          "name": "stdout"
        },
        {
          "output_type": "error",
          "ename": "KeyboardInterrupt",
          "evalue": "ignored",
          "traceback": [
            "\u001b[0;31m---------------------------------------------------------------------------\u001b[0m",
            "\u001b[0;31mKeyboardInterrupt\u001b[0m                         Traceback (most recent call last)",
            "\u001b[0;32m<ipython-input-76-2270cbd418b9>\u001b[0m in \u001b[0;36m<module>\u001b[0;34m()\u001b[0m\n\u001b[1;32m     27\u001b[0m     \u001b[0mbatch_size\u001b[0m\u001b[0;34m=\u001b[0m\u001b[0mBATCH_SIZE\u001b[0m\u001b[0;34m,\u001b[0m\u001b[0;34m\u001b[0m\u001b[0m\n\u001b[1;32m     28\u001b[0m     \u001b[0mvalidation_split\u001b[0m\u001b[0;34m=\u001b[0m\u001b[0;36m0.1\u001b[0m\u001b[0;34m,\u001b[0m\u001b[0;34m\u001b[0m\u001b[0m\n\u001b[0;32m---> 29\u001b[0;31m     shuffle=False, verbose=False)\n\u001b[0m\u001b[1;32m     30\u001b[0m \u001b[0;31m#\u001b[0m\u001b[0;34m\u001b[0m\u001b[0;34m\u001b[0m\u001b[0m\n\u001b[1;32m     31\u001b[0m \u001b[0;31m# Plotting output\u001b[0m\u001b[0;34m\u001b[0m\u001b[0;34m\u001b[0m\u001b[0m\n",
            "\u001b[0;32m/usr/local/lib/python3.6/dist-packages/keras/models.py\u001b[0m in \u001b[0;36mfit\u001b[0;34m(self, x, y, batch_size, epochs, verbose, callbacks, validation_split, validation_data, shuffle, class_weight, sample_weight, initial_epoch, steps_per_epoch, validation_steps, **kwargs)\u001b[0m\n\u001b[1;32m    961\u001b[0m                               \u001b[0minitial_epoch\u001b[0m\u001b[0;34m=\u001b[0m\u001b[0minitial_epoch\u001b[0m\u001b[0;34m,\u001b[0m\u001b[0;34m\u001b[0m\u001b[0m\n\u001b[1;32m    962\u001b[0m                               \u001b[0msteps_per_epoch\u001b[0m\u001b[0;34m=\u001b[0m\u001b[0msteps_per_epoch\u001b[0m\u001b[0;34m,\u001b[0m\u001b[0;34m\u001b[0m\u001b[0m\n\u001b[0;32m--> 963\u001b[0;31m                               validation_steps=validation_steps)\n\u001b[0m\u001b[1;32m    964\u001b[0m \u001b[0;34m\u001b[0m\u001b[0m\n\u001b[1;32m    965\u001b[0m     def evaluate(self, x=None, y=None,\n",
            "\u001b[0;32m/usr/local/lib/python3.6/dist-packages/keras/engine/training.py\u001b[0m in \u001b[0;36mfit\u001b[0;34m(self, x, y, batch_size, epochs, verbose, callbacks, validation_split, validation_data, shuffle, class_weight, sample_weight, initial_epoch, steps_per_epoch, validation_steps, **kwargs)\u001b[0m\n\u001b[1;32m   1703\u001b[0m                               \u001b[0minitial_epoch\u001b[0m\u001b[0;34m=\u001b[0m\u001b[0minitial_epoch\u001b[0m\u001b[0;34m,\u001b[0m\u001b[0;34m\u001b[0m\u001b[0m\n\u001b[1;32m   1704\u001b[0m                               \u001b[0msteps_per_epoch\u001b[0m\u001b[0;34m=\u001b[0m\u001b[0msteps_per_epoch\u001b[0m\u001b[0;34m,\u001b[0m\u001b[0;34m\u001b[0m\u001b[0m\n\u001b[0;32m-> 1705\u001b[0;31m                               validation_steps=validation_steps)\n\u001b[0m\u001b[1;32m   1706\u001b[0m \u001b[0;34m\u001b[0m\u001b[0m\n\u001b[1;32m   1707\u001b[0m     def evaluate(self, x=None, y=None,\n",
            "\u001b[0;32m/usr/local/lib/python3.6/dist-packages/keras/engine/training.py\u001b[0m in \u001b[0;36m_fit_loop\u001b[0;34m(self, f, ins, out_labels, batch_size, epochs, verbose, callbacks, val_f, val_ins, shuffle, callback_metrics, initial_epoch, steps_per_epoch, validation_steps)\u001b[0m\n\u001b[1;32m   1233\u001b[0m                         \u001b[0mins_batch\u001b[0m\u001b[0;34m[\u001b[0m\u001b[0mi\u001b[0m\u001b[0;34m]\u001b[0m \u001b[0;34m=\u001b[0m \u001b[0mins_batch\u001b[0m\u001b[0;34m[\u001b[0m\u001b[0mi\u001b[0m\u001b[0;34m]\u001b[0m\u001b[0;34m.\u001b[0m\u001b[0mtoarray\u001b[0m\u001b[0;34m(\u001b[0m\u001b[0;34m)\u001b[0m\u001b[0;34m\u001b[0m\u001b[0m\n\u001b[1;32m   1234\u001b[0m \u001b[0;34m\u001b[0m\u001b[0m\n\u001b[0;32m-> 1235\u001b[0;31m                     \u001b[0mouts\u001b[0m \u001b[0;34m=\u001b[0m \u001b[0mf\u001b[0m\u001b[0;34m(\u001b[0m\u001b[0mins_batch\u001b[0m\u001b[0;34m)\u001b[0m\u001b[0;34m\u001b[0m\u001b[0m\n\u001b[0m\u001b[1;32m   1236\u001b[0m                     \u001b[0;32mif\u001b[0m \u001b[0;32mnot\u001b[0m \u001b[0misinstance\u001b[0m\u001b[0;34m(\u001b[0m\u001b[0mouts\u001b[0m\u001b[0;34m,\u001b[0m \u001b[0mlist\u001b[0m\u001b[0;34m)\u001b[0m\u001b[0;34m:\u001b[0m\u001b[0;34m\u001b[0m\u001b[0m\n\u001b[1;32m   1237\u001b[0m                         \u001b[0mouts\u001b[0m \u001b[0;34m=\u001b[0m \u001b[0;34m[\u001b[0m\u001b[0mouts\u001b[0m\u001b[0;34m]\u001b[0m\u001b[0;34m\u001b[0m\u001b[0m\n",
            "\u001b[0;32m/usr/local/lib/python3.6/dist-packages/keras/backend/tensorflow_backend.py\u001b[0m in \u001b[0;36m__call__\u001b[0;34m(self, inputs)\u001b[0m\n\u001b[1;32m   2476\u001b[0m         \u001b[0msession\u001b[0m \u001b[0;34m=\u001b[0m \u001b[0mget_session\u001b[0m\u001b[0;34m(\u001b[0m\u001b[0;34m)\u001b[0m\u001b[0;34m\u001b[0m\u001b[0m\n\u001b[1;32m   2477\u001b[0m         updated = session.run(fetches=fetches, feed_dict=feed_dict,\n\u001b[0;32m-> 2478\u001b[0;31m                               **self.session_kwargs)\n\u001b[0m\u001b[1;32m   2479\u001b[0m         \u001b[0;32mreturn\u001b[0m \u001b[0mupdated\u001b[0m\u001b[0;34m[\u001b[0m\u001b[0;34m:\u001b[0m\u001b[0mlen\u001b[0m\u001b[0;34m(\u001b[0m\u001b[0mself\u001b[0m\u001b[0;34m.\u001b[0m\u001b[0moutputs\u001b[0m\u001b[0;34m)\u001b[0m\u001b[0;34m]\u001b[0m\u001b[0;34m\u001b[0m\u001b[0m\n\u001b[1;32m   2480\u001b[0m \u001b[0;34m\u001b[0m\u001b[0m\n",
            "\u001b[0;32m/usr/local/lib/python3.6/dist-packages/tensorflow/python/client/session.py\u001b[0m in \u001b[0;36mrun\u001b[0;34m(self, fetches, feed_dict, options, run_metadata)\u001b[0m\n\u001b[1;32m    903\u001b[0m     \u001b[0;32mtry\u001b[0m\u001b[0;34m:\u001b[0m\u001b[0;34m\u001b[0m\u001b[0m\n\u001b[1;32m    904\u001b[0m       result = self._run(None, fetches, feed_dict, options_ptr,\n\u001b[0;32m--> 905\u001b[0;31m                          run_metadata_ptr)\n\u001b[0m\u001b[1;32m    906\u001b[0m       \u001b[0;32mif\u001b[0m \u001b[0mrun_metadata\u001b[0m\u001b[0;34m:\u001b[0m\u001b[0;34m\u001b[0m\u001b[0m\n\u001b[1;32m    907\u001b[0m         \u001b[0mproto_data\u001b[0m \u001b[0;34m=\u001b[0m \u001b[0mtf_session\u001b[0m\u001b[0;34m.\u001b[0m\u001b[0mTF_GetBuffer\u001b[0m\u001b[0;34m(\u001b[0m\u001b[0mrun_metadata_ptr\u001b[0m\u001b[0;34m)\u001b[0m\u001b[0;34m\u001b[0m\u001b[0m\n",
            "\u001b[0;32m/usr/local/lib/python3.6/dist-packages/tensorflow/python/client/session.py\u001b[0m in \u001b[0;36m_run\u001b[0;34m(self, handle, fetches, feed_dict, options, run_metadata)\u001b[0m\n\u001b[1;32m   1135\u001b[0m     \u001b[0;32mif\u001b[0m \u001b[0mfinal_fetches\u001b[0m \u001b[0;32mor\u001b[0m \u001b[0mfinal_targets\u001b[0m \u001b[0;32mor\u001b[0m \u001b[0;34m(\u001b[0m\u001b[0mhandle\u001b[0m \u001b[0;32mand\u001b[0m \u001b[0mfeed_dict_tensor\u001b[0m\u001b[0;34m)\u001b[0m\u001b[0;34m:\u001b[0m\u001b[0;34m\u001b[0m\u001b[0m\n\u001b[1;32m   1136\u001b[0m       results = self._do_run(handle, final_targets, final_fetches,\n\u001b[0;32m-> 1137\u001b[0;31m                              feed_dict_tensor, options, run_metadata)\n\u001b[0m\u001b[1;32m   1138\u001b[0m     \u001b[0;32melse\u001b[0m\u001b[0;34m:\u001b[0m\u001b[0;34m\u001b[0m\u001b[0m\n\u001b[1;32m   1139\u001b[0m       \u001b[0mresults\u001b[0m \u001b[0;34m=\u001b[0m \u001b[0;34m[\u001b[0m\u001b[0;34m]\u001b[0m\u001b[0;34m\u001b[0m\u001b[0m\n",
            "\u001b[0;32m/usr/local/lib/python3.6/dist-packages/tensorflow/python/client/session.py\u001b[0m in \u001b[0;36m_do_run\u001b[0;34m(self, handle, target_list, fetch_list, feed_dict, options, run_metadata)\u001b[0m\n\u001b[1;32m   1353\u001b[0m     \u001b[0;32mif\u001b[0m \u001b[0mhandle\u001b[0m \u001b[0;32mis\u001b[0m \u001b[0;32mNone\u001b[0m\u001b[0;34m:\u001b[0m\u001b[0;34m\u001b[0m\u001b[0m\n\u001b[1;32m   1354\u001b[0m       return self._do_call(_run_fn, self._session, feeds, fetches, targets,\n\u001b[0;32m-> 1355\u001b[0;31m                            options, run_metadata)\n\u001b[0m\u001b[1;32m   1356\u001b[0m     \u001b[0;32melse\u001b[0m\u001b[0;34m:\u001b[0m\u001b[0;34m\u001b[0m\u001b[0m\n\u001b[1;32m   1357\u001b[0m       \u001b[0;32mreturn\u001b[0m \u001b[0mself\u001b[0m\u001b[0;34m.\u001b[0m\u001b[0m_do_call\u001b[0m\u001b[0;34m(\u001b[0m\u001b[0m_prun_fn\u001b[0m\u001b[0;34m,\u001b[0m \u001b[0mself\u001b[0m\u001b[0;34m.\u001b[0m\u001b[0m_session\u001b[0m\u001b[0;34m,\u001b[0m \u001b[0mhandle\u001b[0m\u001b[0;34m,\u001b[0m \u001b[0mfeeds\u001b[0m\u001b[0;34m,\u001b[0m \u001b[0mfetches\u001b[0m\u001b[0;34m)\u001b[0m\u001b[0;34m\u001b[0m\u001b[0m\n",
            "\u001b[0;32m/usr/local/lib/python3.6/dist-packages/tensorflow/python/client/session.py\u001b[0m in \u001b[0;36m_do_call\u001b[0;34m(self, fn, *args)\u001b[0m\n\u001b[1;32m   1359\u001b[0m   \u001b[0;32mdef\u001b[0m \u001b[0m_do_call\u001b[0m\u001b[0;34m(\u001b[0m\u001b[0mself\u001b[0m\u001b[0;34m,\u001b[0m \u001b[0mfn\u001b[0m\u001b[0;34m,\u001b[0m \u001b[0;34m*\u001b[0m\u001b[0margs\u001b[0m\u001b[0;34m)\u001b[0m\u001b[0;34m:\u001b[0m\u001b[0;34m\u001b[0m\u001b[0m\n\u001b[1;32m   1360\u001b[0m     \u001b[0;32mtry\u001b[0m\u001b[0;34m:\u001b[0m\u001b[0;34m\u001b[0m\u001b[0m\n\u001b[0;32m-> 1361\u001b[0;31m       \u001b[0;32mreturn\u001b[0m \u001b[0mfn\u001b[0m\u001b[0;34m(\u001b[0m\u001b[0;34m*\u001b[0m\u001b[0margs\u001b[0m\u001b[0;34m)\u001b[0m\u001b[0;34m\u001b[0m\u001b[0m\n\u001b[0m\u001b[1;32m   1362\u001b[0m     \u001b[0;32mexcept\u001b[0m \u001b[0merrors\u001b[0m\u001b[0;34m.\u001b[0m\u001b[0mOpError\u001b[0m \u001b[0;32mas\u001b[0m \u001b[0me\u001b[0m\u001b[0;34m:\u001b[0m\u001b[0;34m\u001b[0m\u001b[0m\n\u001b[1;32m   1363\u001b[0m       \u001b[0mmessage\u001b[0m \u001b[0;34m=\u001b[0m \u001b[0mcompat\u001b[0m\u001b[0;34m.\u001b[0m\u001b[0mas_text\u001b[0m\u001b[0;34m(\u001b[0m\u001b[0me\u001b[0m\u001b[0;34m.\u001b[0m\u001b[0mmessage\u001b[0m\u001b[0;34m)\u001b[0m\u001b[0;34m\u001b[0m\u001b[0m\n",
            "\u001b[0;32m/usr/local/lib/python3.6/dist-packages/tensorflow/python/client/session.py\u001b[0m in \u001b[0;36m_run_fn\u001b[0;34m(session, feed_dict, fetch_list, target_list, options, run_metadata)\u001b[0m\n\u001b[1;32m   1338\u001b[0m         \u001b[0;32melse\u001b[0m\u001b[0;34m:\u001b[0m\u001b[0;34m\u001b[0m\u001b[0m\n\u001b[1;32m   1339\u001b[0m           return tf_session.TF_Run(session, options, feed_dict, fetch_list,\n\u001b[0;32m-> 1340\u001b[0;31m                                    target_list, status, run_metadata)\n\u001b[0m\u001b[1;32m   1341\u001b[0m \u001b[0;34m\u001b[0m\u001b[0m\n\u001b[1;32m   1342\u001b[0m     \u001b[0;32mdef\u001b[0m \u001b[0m_prun_fn\u001b[0m\u001b[0;34m(\u001b[0m\u001b[0msession\u001b[0m\u001b[0;34m,\u001b[0m \u001b[0mhandle\u001b[0m\u001b[0;34m,\u001b[0m \u001b[0mfeed_dict\u001b[0m\u001b[0;34m,\u001b[0m \u001b[0mfetch_list\u001b[0m\u001b[0;34m)\u001b[0m\u001b[0;34m:\u001b[0m\u001b[0;34m\u001b[0m\u001b[0m\n",
            "\u001b[0;31mKeyboardInterrupt\u001b[0m: "
          ]
        }
      ]
    },
    {
      "metadata": {
        "id": "LIMooBxOxSVc",
        "colab_type": "code",
        "colab": {
          "autoexec": {
            "startup": false,
            "wait_interval": 0
          },
          "output_extras": [
            {
              "item_id": 7
            },
            {
              "item_id": 38
            },
            {
              "item_id": 75
            },
            {
              "item_id": 103
            },
            {
              "item_id": 139
            },
            {
              "item_id": 158
            },
            {
              "item_id": 194
            },
            {
              "item_id": 215
            },
            {
              "item_id": 249
            },
            {
              "item_id": 273
            },
            {
              "item_id": 324
            }
          ],
          "base_uri": "https://localhost:8080/",
          "height": 886
        },
        "outputId": "5ef12201-b962-4ec8-df9c-85d6f31026ff"
      },
      "cell_type": "code",
      "source": [
        "# This returns a tensor\n",
        "inputs = layers.Input(batch_shape=(BATCH_SIZE, SIZE, 1))\n",
        "\n",
        "cell_size = 50\n",
        "\n",
        "cells = [\n",
        "    LSTMCell(cell_size)\n",
        "]\n",
        "input_cells = keras.layers.StackedRNNCells(cells)\n",
        "\n",
        "x = keras.layers.RNN(input_cells, stateful=True)(inputs)\n",
        "logits = Dense(1, activation='sigmoid')(x)\n",
        "\n",
        "model = keras.models.Model(inputs=inputs, outputs=logits)\n",
        "model_opt = optimizers.Adadelta(lr=0.5, rho=0.95, epsilon=None, decay=0.0)\n",
        "model.compile(optimizer=model_opt,\n",
        "              loss='binary_crossentropy',\n",
        "              metrics=['accuracy'])\n",
        "model.summary()\n",
        "model.fit(Xtrain.reshape((len(Xtrain), SIZE, 1)),\n",
        "          Ytrain, batch_size=BATCH_SIZE, epochs=350)"
      ],
      "execution_count": 0,
      "outputs": [
        {
          "output_type": "stream",
          "text": [
            "_________________________________________________________________\n",
            "Layer (type)                 Output Shape              Param #   \n",
            "=================================================================\n",
            "input_31 (InputLayer)        (32, 4, 1)                0         \n",
            "_________________________________________________________________\n",
            "rnn_28 (RNN)                 (32, 50)                  10400     \n",
            "_________________________________________________________________\n",
            "dense_41 (Dense)             (32, 1)                   51        \n",
            "=================================================================\n",
            "Total params: 10,451\n",
            "Trainable params: 10,451\n",
            "Non-trainable params: 0\n",
            "_________________________________________________________________\n",
            "Epoch 1/350\n",
            "18784/64000 [=======>......................] - ETA: 22s - loss: 0.6934 - acc: 0.4950"
          ],
          "name": "stdout"
        },
        {
          "output_type": "stream",
          "text": [
            "64000/64000 [==============================] - 25s 386us/step - loss: 0.6934 - acc: 0.4931\n",
            "Epoch 2/350\n",
            "64000/64000 [==============================] - 22s 337us/step - loss: 0.6932 - acc: 0.5052\n",
            "Epoch 3/350\n",
            "  352/64000 [..............................] - ETA: 23s - loss: 0.6932 - acc: 0.4972"
          ],
          "name": "stdout"
        },
        {
          "output_type": "stream",
          "text": [
            "64000/64000 [==============================] - 21s 335us/step - loss: 0.6933 - acc: 0.5021\n",
            "Epoch 4/350\n",
            "56512/64000 [=========================>....] - ETA: 2s - loss: 0.6932 - acc: 0.5043"
          ],
          "name": "stdout"
        },
        {
          "output_type": "stream",
          "text": [
            "64000/64000 [==============================] - 22s 336us/step - loss: 0.6933 - acc: 0.5036\n",
            "Epoch 5/350\n",
            "64000/64000 [==============================] - 22s 339us/step - loss: 0.6932 - acc: 0.5010\n",
            "Epoch 6/350\n",
            "11008/64000 [====>.........................] - ETA: 17s - loss: 0.6931 - acc: 0.4996"
          ],
          "name": "stdout"
        },
        {
          "output_type": "stream",
          "text": [
            "64000/64000 [==============================] - 21s 336us/step - loss: 0.6932 - acc: 0.5006\n",
            "Epoch 7/350\n",
            "61696/64000 [===========================>..] - ETA: 0s - loss: 0.6932 - acc: 0.5002"
          ],
          "name": "stdout"
        },
        {
          "output_type": "stream",
          "text": [
            "64000/64000 [==============================] - 21s 334us/step - loss: 0.6932 - acc: 0.4998\n",
            "Epoch 8/350\n",
            "64000/64000 [==============================] - 21s 336us/step - loss: 0.6932 - acc: 0.5009\n",
            "Epoch 9/350\n",
            "12736/64000 [====>.........................] - ETA: 17s - loss: 0.6931 - acc: 0.5082"
          ],
          "name": "stdout"
        },
        {
          "output_type": "stream",
          "text": [
            "64000/64000 [==============================] - 21s 333us/step - loss: 0.6932 - acc: 0.5035\n",
            "Epoch 10/350\n",
            "61984/64000 [============================>.] - ETA: 0s - loss: 0.6932 - acc: 0.4992"
          ],
          "name": "stdout"
        },
        {
          "output_type": "stream",
          "text": [
            "64000/64000 [==============================] - 21s 334us/step - loss: 0.6932 - acc: 0.4992\n",
            "Epoch 11/350\n",
            "64000/64000 [==============================] - 21s 332us/step - loss: 0.6932 - acc: 0.5011\n",
            "Epoch 12/350\n",
            "12704/64000 [====>.........................] - ETA: 17s - loss: 0.6931 - acc: 0.5076"
          ],
          "name": "stdout"
        },
        {
          "output_type": "stream",
          "text": [
            "64000/64000 [==============================] - 21s 333us/step - loss: 0.6932 - acc: 0.5015\n",
            "Epoch 13/350\n",
            "62080/64000 [============================>.] - ETA: 0s - loss: 0.6932 - acc: 0.5009"
          ],
          "name": "stdout"
        },
        {
          "output_type": "stream",
          "text": [
            "64000/64000 [==============================] - 21s 330us/step - loss: 0.6932 - acc: 0.5013\n",
            "Epoch 14/350\n",
            "64000/64000 [==============================] - 21s 330us/step - loss: 0.6932 - acc: 0.5016\n",
            "Epoch 15/350\n",
            "12800/64000 [=====>........................] - ETA: 17s - loss: 0.6932 - acc: 0.5034"
          ],
          "name": "stdout"
        },
        {
          "output_type": "stream",
          "text": [
            "64000/64000 [==============================] - 21s 332us/step - loss: 0.6932 - acc: 0.5005\n",
            "Epoch 16/350\n",
            "26848/64000 [===========>..................] - ETA: 12s - loss: 0.6932 - acc: 0.4988"
          ],
          "name": "stdout"
        }
      ]
    },
    {
      "metadata": {
        "id": "eBc-pUFX-oQk",
        "colab_type": "code",
        "colab": {
          "autoexec": {
            "startup": false,
            "wait_interval": 0
          },
          "output_extras": [
            {
              "item_id": 1
            }
          ],
          "base_uri": "https://localhost:8080/",
          "height": 36
        },
        "outputId": "05d76961-82c8-4426-910e-6828ed55872f",
        "executionInfo": {
          "status": "ok",
          "timestamp": 1521765358668,
          "user_tz": 240,
          "elapsed": 8724,
          "user": {
            "displayName": "Matthieu",
            "photoUrl": "https://lh3.googleusercontent.com/a/default-user=s128",
            "userId": "103782916960282194779"
          }
        }
      },
      "cell_type": "code",
      "source": [
        "#\n",
        "# overkill MLP\n",
        "#\n",
        "mlp = MLPClassifier(hidden_layer_sizes=[10, 10, 10],\n",
        "                    activation=\"relu\"\n",
        "                   ).fit(Xtrain, Ytrain)\n",
        "pred_score = mlp.score(Xtest, Ytest)\n",
        "print(pred_score)"
      ],
      "execution_count": 3,
      "outputs": [
        {
          "output_type": "stream",
          "text": [
            "1.0\n"
          ],
          "name": "stdout"
        }
      ]
    },
    {
      "metadata": {
        "id": "-VMFA_sj4ppI",
        "colab_type": "code",
        "colab": {
          "autoexec": {
            "startup": false,
            "wait_interval": 0
          },
          "output_extras": [
            {
              "item_id": 21
            },
            {
              "item_id": 22
            },
            {
              "item_id": 53
            }
          ],
          "base_uri": "https://localhost:8080/",
          "height": 1905
        },
        "outputId": "3d58557d-9df7-4afe-c6ae-22353abfd36b",
        "executionInfo": {
          "status": "ok",
          "timestamp": 1521760569738,
          "user_tz": 240,
          "elapsed": 583464,
          "user": {
            "displayName": "Matthieu",
            "photoUrl": "https://lh3.googleusercontent.com/a/default-user=s128",
            "userId": "103782916960282194779"
          }
        }
      },
      "cell_type": "code",
      "source": [
        "from copy import deepcopy\n",
        "results_list = []\n",
        "mlp_layers = [2]\n",
        "for input_size in range(1, 24):\n",
        "  print(\"\\nLen = \", input_size)\n",
        "  Xtrain, Ytrain = createXorData(50000, input_size)\n",
        "  Xtest, Ytest = createXorData(5000, input_size)\n",
        "  pred_score = 0.0\n",
        "  while pred_score < 0.85:\n",
        "    print(\"Trying \", mlp_layers)\n",
        "    mlp = MLPClassifier(hidden_layer_sizes=mlp_layers,\n",
        "                      activation=\"relu\"\n",
        "                     ).fit(Xtrain, Ytrain)\n",
        "    pred_score = mlp.score(Xtest, Ytest)\n",
        "    if pred_score < 0.85:\n",
        "      # If huge number of neurons, add a layer\n",
        "      if mlp_layers[0] >= 50:\n",
        "        mlp_layers.append(mlp_layers[0])\n",
        "      mlp_layers = [i * 2 for i in mlp_layers]\n",
        "  results_list.append(deepcopy(mlp_layers))\n",
        "  print(results_list)"
      ],
      "execution_count": 14,
      "outputs": [
        {
          "output_type": "stream",
          "text": [
            "\n",
            "Len =  1\n",
            "Trying  [2]\n",
            "Trying  [4]\n",
            "[[4]]\n",
            "\n",
            "Len =  2\n",
            "Trying  [4]\n",
            "[[4], [4]]\n",
            "\n",
            "Len =  3\n",
            "Trying  [4]\n",
            "[[4], [4], [4]]\n",
            "\n",
            "Len =  4\n",
            "Trying  [4]\n",
            "Trying  [8]\n",
            "[[4], [4], [4], [8]]\n",
            "\n",
            "Len =  5\n",
            "Trying  [8]\n",
            "[[4], [4], [4], [8], [8]]\n",
            "\n",
            "Len =  6\n",
            "Trying  [8]\n",
            "Trying  [16]\n",
            "[[4], [4], [4], [8], [8], [16]]\n",
            "\n",
            "Len =  7\n",
            "Trying  [16]\n",
            "[[4], [4], [4], [8], [8], [16], [16]]\n",
            "\n",
            "Len =  8\n",
            "Trying  [16]\n",
            "[[4], [4], [4], [8], [8], [16], [16], [16]]\n",
            "\n",
            "Len =  9\n",
            "Trying  [16]\n"
          ],
          "name": "stdout"
        },
        {
          "output_type": "stream",
          "text": [
            "/usr/local/lib/python3.6/dist-packages/sklearn/neural_network/multilayer_perceptron.py:564: ConvergenceWarning: Stochastic Optimizer: Maximum iterations (200) reached and the optimization hasn't converged yet.\n",
            "  % self.max_iter, ConvergenceWarning)\n"
          ],
          "name": "stderr"
        },
        {
          "output_type": "stream",
          "text": [
            "[[4], [4], [4], [8], [8], [16], [16], [16], [16]]\n",
            "\n",
            "Len =  10\n",
            "Trying  [16]\n",
            "Trying  [32]\n",
            "[[4], [4], [4], [8], [8], [16], [16], [16], [16], [32]]\n",
            "\n",
            "Len =  11\n",
            "Trying  [32]\n",
            "[[4], [4], [4], [8], [8], [16], [16], [16], [16], [32], [32]]\n",
            "\n",
            "Len =  12\n",
            "Trying  [32]\n",
            "[[4], [4], [4], [8], [8], [16], [16], [16], [16], [32], [32], [32]]\n",
            "\n",
            "Len =  13\n",
            "Trying  [32]\n",
            "[[4], [4], [4], [8], [8], [16], [16], [16], [16], [32], [32], [32], [32]]\n",
            "\n",
            "Len =  14\n",
            "Trying  [32]\n",
            "[[4], [4], [4], [8], [8], [16], [16], [16], [16], [32], [32], [32], [32], [32]]\n",
            "\n",
            "Len =  15\n",
            "Trying  [32]\n",
            "[[4], [4], [4], [8], [8], [16], [16], [16], [16], [32], [32], [32], [32], [32], [32]]\n",
            "\n",
            "Len =  16\n",
            "Trying  [32]\n",
            "[[4], [4], [4], [8], [8], [16], [16], [16], [16], [32], [32], [32], [32], [32], [32], [32]]\n",
            "\n",
            "Len =  17\n",
            "Trying  [32]\n",
            "[[4], [4], [4], [8], [8], [16], [16], [16], [16], [32], [32], [32], [32], [32], [32], [32], [32]]\n",
            "\n",
            "Len =  18\n",
            "Trying  [32]\n",
            "[[4], [4], [4], [8], [8], [16], [16], [16], [16], [32], [32], [32], [32], [32], [32], [32], [32], [32]]\n",
            "\n",
            "Len =  19\n",
            "Trying  [32]\n",
            "[[4], [4], [4], [8], [8], [16], [16], [16], [16], [32], [32], [32], [32], [32], [32], [32], [32], [32], [32]]\n",
            "\n",
            "Len =  20\n",
            "Trying  [32]\n",
            "[[4], [4], [4], [8], [8], [16], [16], [16], [16], [32], [32], [32], [32], [32], [32], [32], [32], [32], [32], [32]]\n",
            "\n",
            "Len =  21\n",
            "Trying  [32]\n",
            "[[4], [4], [4], [8], [8], [16], [16], [16], [16], [32], [32], [32], [32], [32], [32], [32], [32], [32], [32], [32], [32]]\n",
            "\n",
            "Len =  22\n",
            "Trying  [32]\n",
            "Trying  [64]\n",
            "[[4], [4], [4], [8], [8], [16], [16], [16], [16], [32], [32], [32], [32], [32], [32], [32], [32], [32], [32], [32], [32], [64]]\n",
            "\n",
            "Len =  23\n",
            "Trying  [64]\n",
            "[[4], [4], [4], [8], [8], [16], [16], [16], [16], [32], [32], [32], [32], [32], [32], [32], [32], [32], [32], [32], [32], [64], [64]]\n"
          ],
          "name": "stdout"
        }
      ]
    },
    {
      "metadata": {
        "id": "rAwt77uNTaj0",
        "colab_type": "code",
        "colab": {
          "autoexec": {
            "startup": false,
            "wait_interval": 0
          }
        }
      },
      "cell_type": "code",
      "source": [
        "[[4], [4], [4], [8], [8], [16], [16], [16], [16], [32], [32], [32], [32], [32], [32], [32], [32], [32], [32], [32], [32], [64], [64]]"
      ],
      "execution_count": 0,
      "outputs": []
    }
  ]
}