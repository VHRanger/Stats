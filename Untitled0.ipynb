{
  "nbformat": 4,
  "nbformat_minor": 0,
  "metadata": {
    "colab": {
      "name": "Untitled0.ipynb",
      "version": "0.3.2",
      "views": {},
      "default_view": {},
      "provenance": [],
      "collapsed_sections": []
    },
    "kernelspec": {
      "name": "python3",
      "display_name": "Python 3"
    },
    "accelerator": "GPU"
  },
  "cells": [
    {
      "metadata": {
        "id": "4r4cG85YOvEu",
        "colab_type": "code",
        "colab": {
          "autoexec": {
            "startup": false,
            "wait_interval": 0
          },
          "output_extras": [
            {
              "item_id": 5
            }
          ],
          "base_uri": "https://localhost:8080/",
          "height": 170
        },
        "outputId": "15e92ee7-2bb5-445a-f82c-f82be3fc77be",
        "executionInfo": {
          "status": "ok",
          "timestamp": 1521818680177,
          "user_tz": 240,
          "elapsed": 6576,
          "user": {
            "displayName": "Matthieu Ranger",
            "photoUrl": "https://lh3.googleusercontent.com/a/default-user=s128",
            "userId": "117809876292530454426"
          }
        }
      },
      "cell_type": "code",
      "source": [
        "# memory footprint support libraries/code\n",
        "!ln -sf /opt/bin/nvidia-smi /usr/bin/nvidia-smi\n",
        "!pip install gputil\n",
        "!pip install psutil\n",
        "!pip install humanize\n",
        "import psutil\n",
        "import humanize\n",
        "import os\n",
        "import GPUtil as GPU\n",
        "GPUs = GPU.getGPUs()\n",
        "# XXX: only one GPU on Colab and isn’t guaranteed\n",
        "gpu = GPUs[0]\n",
        "process = psutil.Process(os.getpid())\n",
        "print(\"\\n\\n\\nGen RAM Free: \" + humanize.naturalsize(psutil.virtual_memory().available), \n",
        "      ' I Proc size: ' + humanize.naturalsize( process.memory_info().rss))\n",
        "print(\"GPU RAM Free: {0:.0f}MB | Used: {1:.0f}MB | Util {2:3.0f}% | Total {3:.0f}MB\".format(\n",
        "      gpu.memoryFree, gpu.memoryUsed, gpu.memoryUtil*100, gpu.memoryTotal))"
      ],
      "execution_count": 1,
      "outputs": [
        {
          "output_type": "stream",
          "text": [
            "Requirement already satisfied: gputil in /usr/local/lib/python3.6/dist-packages\n",
            "Requirement already satisfied: numpy in /usr/local/lib/python3.6/dist-packages (from gputil)\n",
            "Requirement already satisfied: psutil in /usr/local/lib/python3.6/dist-packages\n",
            "Requirement already satisfied: humanize in /usr/local/lib/python3.6/dist-packages\n",
            "\n",
            "\n",
            "\n",
            "Gen RAM Free: 12.3 GB  I Proc size: 131.5 MB\n",
            "GPU RAM Free: 11439MB | Used: 0MB | Util   0% | Total 11439MB\n"
          ],
          "name": "stdout"
        }
      ]
    },
    {
      "metadata": {
        "id": "IR7tbKv9O0cS",
        "colab_type": "code",
        "colab": {
          "autoexec": {
            "startup": false,
            "wait_interval": 0
          },
          "output_extras": [
            {
              "item_id": 1
            },
            {
              "item_id": 2
            }
          ],
          "base_uri": "https://localhost:8080/",
          "height": 289
        },
        "outputId": "4c9eee50-2af8-41b4-d208-bc4d9eda9ca0",
        "executionInfo": {
          "status": "ok",
          "timestamp": 1521818682359,
          "user_tz": 240,
          "elapsed": 2148,
          "user": {
            "displayName": "Matthieu Ranger",
            "photoUrl": "https://lh3.googleusercontent.com/a/default-user=s128",
            "userId": "117809876292530454426"
          }
        }
      },
      "cell_type": "code",
      "source": [
        "import tensorflow as tf\n",
        "import matplotlib.pyplot as plt\n",
        "import numpy as np\n",
        "from sklearn.neural_network import MLPClassifier\n",
        "import keras\n",
        "from keras.models import Sequential\n",
        "from keras.layers import Dense, LSTM, Dropout, RNN, LSTMCell\n",
        "from keras import layers\n",
        "from keras import optimizers\n",
        "import matplotlib.pyplot as plt\n",
        "from tensorflow.python.client import device_lib\n",
        "print(device_lib.list_local_devices())\n",
        "\n",
        "\n",
        "def createXorData(samples=100000, size=50):\n",
        "  \"\"\"\n",
        "  generates a dataset for the XOR problem in \n",
        "    https://blog.openai.com/requests-for-research-2/\n",
        "  LHS are sequences of bools\n",
        "  RHS computes the parity bit \n",
        "    (eg. wether the sequence has odd or even sum)\n",
        "  \"\"\"\n",
        "  lhs = np.zeros((samples, size), dtype=np.float32)\n",
        "  rhs = np.zeros(samples)\n",
        "  for row in range(samples):\n",
        "    lhs[row] = np.random.randint(0, 2, size)\n",
        "    rhs[row] = lhs[row].sum() % 2\n",
        "  return lhs, rhs"
      ],
      "execution_count": 2,
      "outputs": [
        {
          "output_type": "stream",
          "text": [
            "Using TensorFlow backend.\n"
          ],
          "name": "stderr"
        },
        {
          "output_type": "stream",
          "text": [
            "[name: \"/device:CPU:0\"\n",
            "device_type: \"CPU\"\n",
            "memory_limit: 268435456\n",
            "locality {\n",
            "}\n",
            "incarnation: 13573016103824359789\n",
            ", name: \"/device:GPU:0\"\n",
            "device_type: \"GPU\"\n",
            "memory_limit: 11297803469\n",
            "locality {\n",
            "  bus_id: 1\n",
            "}\n",
            "incarnation: 13370317350165697122\n",
            "physical_device_desc: \"device: 0, name: Tesla K80, pci bus id: 0000:00:04.0, compute capability: 3.7\"\n",
            "]\n"
          ],
          "name": "stdout"
        }
      ]
    },
    {
      "metadata": {
        "id": "5SmTeXlHPRGJ",
        "colab_type": "code",
        "colab": {
          "autoexec": {
            "startup": false,
            "wait_interval": 0
          }
        }
      },
      "cell_type": "code",
      "source": [
        "SIZE = 17\n",
        "SAMPLES = 64000\n",
        "BATCH_SIZE = 640\n",
        "\n",
        "Xtrain, Ytrain = createXorData(SAMPLES, SIZE)\n",
        "Xtest, Ytest = createXorData(SAMPLES//10, SIZE)"
      ],
      "execution_count": 0,
      "outputs": []
    },
    {
      "metadata": {
        "id": "cIe74pXYPXlK",
        "colab_type": "code",
        "colab": {
          "autoexec": {
            "startup": false,
            "wait_interval": 0
          },
          "output_extras": [
            {
              "item_id": 18
            },
            {
              "item_id": 59
            },
            {
              "item_id": 105
            },
            {
              "item_id": 146
            },
            {
              "item_id": 186
            },
            {
              "item_id": 221
            },
            {
              "item_id": 264
            },
            {
              "item_id": 304
            },
            {
              "item_id": 343
            },
            {
              "item_id": 382
            },
            {
              "item_id": 422
            },
            {
              "item_id": 462
            },
            {
              "item_id": 502
            },
            {
              "item_id": 541
            },
            {
              "item_id": 580
            },
            {
              "item_id": 614
            },
            {
              "item_id": 658
            },
            {
              "item_id": 697
            },
            {
              "item_id": 736
            },
            {
              "item_id": 780
            },
            {
              "item_id": 821
            },
            {
              "item_id": 860
            },
            {
              "item_id": 899
            },
            {
              "item_id": 935
            },
            {
              "item_id": 966
            },
            {
              "item_id": 1000
            },
            {
              "item_id": 1039
            },
            {
              "item_id": 1079
            },
            {
              "item_id": 1110
            },
            {
              "item_id": 1144
            },
            {
              "item_id": 1176
            },
            {
              "item_id": 1213
            },
            {
              "item_id": 1246
            },
            {
              "item_id": 1279
            },
            {
              "item_id": 1312
            },
            {
              "item_id": 1349
            },
            {
              "item_id": 1378
            },
            {
              "item_id": 1416
            },
            {
              "item_id": 1450
            },
            {
              "item_id": 1490
            },
            {
              "item_id": 1528
            },
            {
              "item_id": 1559
            },
            {
              "item_id": 1591
            },
            {
              "item_id": 1618
            },
            {
              "item_id": 1657
            },
            {
              "item_id": 1696
            },
            {
              "item_id": 1736
            },
            {
              "item_id": 1774
            },
            {
              "item_id": 1813
            },
            {
              "item_id": 1847
            },
            {
              "item_id": 1881
            },
            {
              "item_id": 1918
            },
            {
              "item_id": 1958
            },
            {
              "item_id": 1998
            },
            {
              "item_id": 2037
            },
            {
              "item_id": 2078
            },
            {
              "item_id": 2118
            },
            {
              "item_id": 2158
            },
            {
              "item_id": 2193
            },
            {
              "item_id": 2237
            },
            {
              "item_id": 2278
            },
            {
              "item_id": 2318
            },
            {
              "item_id": 2358
            },
            {
              "item_id": 2398
            },
            {
              "item_id": 2438
            },
            {
              "item_id": 2479
            },
            {
              "item_id": 2499
            }
          ],
          "base_uri": "https://localhost:8080/",
          "height": 11580
        },
        "outputId": "8d2ce287-d19e-483f-8201-fb4fb3ee687c"
      },
      "cell_type": "code",
      "source": [
        "cell_size = 15\n",
        "\n",
        "# This returns a tensor\n",
        "inputs = layers.Input(batch_shape=(BATCH_SIZE, SIZE, 1))\n",
        "# Masking is to deal with heterogeneous sequence length\n",
        "mask_output = layers.Masking(mask_value=0)(inputs)\n",
        "# RNN Cells add cells to input list to grow this RNN layer\n",
        "cells = keras.layers.StackedRNNCells([ LSTMCell(cell_size) ] )\n",
        "# RNN layer built from above\n",
        "rnn_out, rnn_out2, state_out = keras.layers.RNN(cells, return_state=True)(mask_output)\n",
        "# output layer, gathers last RNN state in input\n",
        "logits = Dense(1, activation='sigmoid')(state_out)\n",
        "\n",
        "model = keras.models.Model(inputs=inputs, outputs=logits)\n",
        "model_opt = optimizers.Adam()\n",
        "model.compile(optimizer=model_opt,\n",
        "              loss='binary_crossentropy',\n",
        "              metrics=['accuracy'])\n",
        "model.summary()\n",
        "model.fit(Xtrain.reshape((len(Xtrain), SIZE, 1)),\n",
        "          Ytrain, batch_size=BATCH_SIZE, \n",
        "          epochs=750, shuffle=False)\n",
        "\n",
        "# Validate on test set\n",
        "preds = model.predict(Xtest.reshape((len(Xtest), SIZE, 1)),\n",
        "                      batch_size=BATCH_SIZE)\n",
        "preds = np.round(preds[:, 0]).astype('float32')\n",
        "acc = (np.sum(preds == Ytest) / len(Ytest)) * 100\n",
        "print('Accuracy: {:.2f}%'.format(acc))"
      ],
      "execution_count": 0,
      "outputs": [
        {
          "output_type": "stream",
          "text": [
            "_________________________________________________________________\n",
            "Layer (type)                 Output Shape              Param #   \n",
            "=================================================================\n",
            "input_33 (InputLayer)        (640, 17, 1)              0         \n",
            "_________________________________________________________________\n",
            "masking_21 (Masking)         (640, 17, 1)              0         \n",
            "_________________________________________________________________\n",
            "rnn_32 (RNN)                 [(640, 15), (640, 15), (6 1020      \n",
            "_________________________________________________________________\n",
            "dense_32 (Dense)             (640, 1)                  16        \n",
            "=================================================================\n",
            "Total params: 1,036\n",
            "Trainable params: 1,036\n",
            "Non-trainable params: 0\n",
            "_________________________________________________________________\n",
            "Epoch 1/750\n",
            "64000/64000 [==============================] - 7s 103us/step - loss: 0.6938 - acc: 0.4954\n",
            "Epoch 2/750\n",
            "56960/64000 [=========================>....] - ETA: 0s - loss: 0.6933 - acc: 0.5021"
          ],
          "name": "stdout"
        },
        {
          "output_type": "stream",
          "text": [
            "64000/64000 [==============================] - 4s 60us/step - loss: 0.6933 - acc: 0.5022\n",
            "Epoch 3/750\n",
            "64000/64000 [==============================] - 4s 60us/step - loss: 0.6933 - acc: 0.4898\n",
            "Epoch 4/750\n",
            "64000/64000 [==============================] - 4s 60us/step - loss: 0.6933 - acc: 0.5014\n",
            "Epoch 5/750\n",
            "64000/64000 [==============================] - 4s 60us/step - loss: 0.6933 - acc: 0.5038\n",
            "Epoch 6/750\n",
            "64000/64000 [==============================] - 4s 61us/step - loss: 0.6933 - acc: 0.4980\n",
            "Epoch 7/750\n",
            "64000/64000 [==============================] - 4s 60us/step - loss: 0.6932 - acc: 0.4984\n"
          ],
          "name": "stdout"
        },
        {
          "output_type": "stream",
          "text": [
            "Epoch 8/750\n",
            "64000/64000 [==============================] - 4s 61us/step - loss: 0.6932 - acc: 0.4963\n",
            "Epoch 9/750\n",
            "64000/64000 [==============================] - 4s 61us/step - loss: 0.6932 - acc: 0.4945\n",
            "Epoch 10/750\n",
            "64000/64000 [==============================] - 4s 59us/step - loss: 0.6932 - acc: 0.4940\n",
            "Epoch 11/750\n",
            "64000/64000 [==============================] - 4s 60us/step - loss: 0.6932 - acc: 0.5013\n",
            "Epoch 12/750\n",
            "64000/64000 [==============================] - 4s 60us/step - loss: 0.6932 - acc: 0.4976\n",
            "Epoch 13/750\n",
            "46720/64000 [====================>.........] - ETA: 1s - loss: 0.6933 - acc: 0.4975"
          ],
          "name": "stdout"
        },
        {
          "output_type": "stream",
          "text": [
            "64000/64000 [==============================] - 4s 60us/step - loss: 0.6932 - acc: 0.4997\n",
            "Epoch 14/750\n",
            "64000/64000 [==============================] - 4s 60us/step - loss: 0.6932 - acc: 0.4987\n",
            "Epoch 15/750\n",
            "64000/64000 [==============================] - 4s 60us/step - loss: 0.6932 - acc: 0.4960\n",
            "Epoch 16/750\n",
            "64000/64000 [==============================] - 4s 60us/step - loss: 0.6932 - acc: 0.4998\n",
            "Epoch 17/750\n",
            "64000/64000 [==============================] - 4s 60us/step - loss: 0.6932 - acc: 0.5017\n",
            "Epoch 18/750\n",
            "60160/64000 [===========================>..] - ETA: 0s - loss: 0.6932 - acc: 0.5014"
          ],
          "name": "stdout"
        },
        {
          "output_type": "stream",
          "text": [
            "64000/64000 [==============================] - 4s 60us/step - loss: 0.6932 - acc: 0.5010\n",
            "Epoch 19/750\n",
            "64000/64000 [==============================] - 4s 59us/step - loss: 0.6932 - acc: 0.5004\n",
            "Epoch 20/750\n",
            "64000/64000 [==============================] - 4s 60us/step - loss: 0.6932 - acc: 0.4993\n",
            "Epoch 21/750\n",
            "64000/64000 [==============================] - 4s 61us/step - loss: 0.6932 - acc: 0.5009\n",
            "Epoch 22/750\n",
            "64000/64000 [==============================] - 4s 60us/step - loss: 0.6932 - acc: 0.5010\n",
            "Epoch 23/750\n",
            "63360/64000 [============================>.] - ETA: 0s - loss: 0.6932 - acc: 0.4982"
          ],
          "name": "stdout"
        },
        {
          "output_type": "stream",
          "text": [
            "\b\b\b\b\b\b\b\b\b\b\b\b\b\b\b\b\b\b\b\b\b\b\b\b\b\b\b\b\b\b\b\b\b\b\b\b\b\b\b\b\b\b\b\b\b\b\b\b\b\b\b\b\b\b\b\b\b\b\b\b\b\b\b\b\b\b\b\b\b\b\b\b\b\b\b\b\b\b\b\b\b\b\b\r64000/64000 [==============================] - 4s 61us/step - loss: 0.6932 - acc: 0.4984\n",
            "Epoch 24/750\n",
            "64000/64000 [==============================] - 4s 60us/step - loss: 0.6932 - acc: 0.4955\n",
            "Epoch 25/750\n",
            "64000/64000 [==============================] - 4s 60us/step - loss: 0.6932 - acc: 0.4940\n",
            "Epoch 26/750\n",
            "64000/64000 [==============================] - 4s 60us/step - loss: 0.6932 - acc: 0.5000\n",
            "Epoch 27/750\n",
            "64000/64000 [==============================] - 4s 60us/step - loss: 0.6932 - acc: 0.4996\n",
            "Epoch 28/750\n",
            "21120/64000 [========>.....................] - ETA: 2s - loss: 0.6932 - acc: 0.4920"
          ],
          "name": "stdout"
        },
        {
          "output_type": "stream",
          "text": [
            "64000/64000 [==============================] - 4s 60us/step - loss: 0.6932 - acc: 0.4993\n",
            "Epoch 29/750\n",
            "64000/64000 [==============================] - 4s 59us/step - loss: 0.6932 - acc: 0.5006\n",
            "Epoch 30/750\n",
            "64000/64000 [==============================] - 4s 60us/step - loss: 0.6932 - acc: 0.5021\n",
            "Epoch 31/750\n",
            "64000/64000 [==============================] - 4s 59us/step - loss: 0.6932 - acc: 0.4977\n",
            "Epoch 32/750\n",
            "64000/64000 [==============================] - 4s 60us/step - loss: 0.6932 - acc: 0.5028\n",
            "Epoch 33/750\n",
            "55040/64000 [========================>.....] - ETA: 0s - loss: 0.6932 - acc: 0.5036"
          ],
          "name": "stdout"
        },
        {
          "output_type": "stream",
          "text": [
            "64000/64000 [==============================] - 4s 59us/step - loss: 0.6932 - acc: 0.5032\n",
            "Epoch 34/750\n",
            "64000/64000 [==============================] - 4s 60us/step - loss: 0.6932 - acc: 0.5005\n",
            "Epoch 35/750\n",
            "64000/64000 [==============================] - 4s 61us/step - loss: 0.6932 - acc: 0.5004\n",
            "Epoch 36/750\n",
            "64000/64000 [==============================] - 4s 60us/step - loss: 0.6932 - acc: 0.4979\n",
            "Epoch 37/750\n",
            "64000/64000 [==============================] - 4s 59us/step - loss: 0.6932 - acc: 0.4987\n",
            "Epoch 38/750\n",
            "62080/64000 [============================>.] - ETA: 0s - loss: 0.6932 - acc: 0.4986"
          ],
          "name": "stdout"
        },
        {
          "output_type": "stream",
          "text": [
            "64000/64000 [==============================] - 4s 59us/step - loss: 0.6932 - acc: 0.4984\n",
            "Epoch 39/750\n",
            "64000/64000 [==============================] - 4s 60us/step - loss: 0.6932 - acc: 0.4957\n",
            "Epoch 40/750\n",
            "64000/64000 [==============================] - 4s 60us/step - loss: 0.6932 - acc: 0.4972\n",
            "Epoch 41/750\n",
            "64000/64000 [==============================] - 4s 60us/step - loss: 0.6932 - acc: 0.4959\n",
            "Epoch 42/750\n",
            "64000/64000 [==============================] - 4s 59us/step - loss: 0.6932 - acc: 0.4947\n",
            "Epoch 43/750\n",
            "61440/64000 [===========================>..] - ETA: 0s - loss: 0.6932 - acc: 0.4961"
          ],
          "name": "stdout"
        },
        {
          "output_type": "stream",
          "text": [
            "64000/64000 [==============================] - 4s 59us/step - loss: 0.6932 - acc: 0.4961\n",
            "Epoch 44/750\n",
            "64000/64000 [==============================] - 4s 59us/step - loss: 0.6932 - acc: 0.4985\n",
            "Epoch 45/750\n",
            "64000/64000 [==============================] - 4s 60us/step - loss: 0.6932 - acc: 0.4970\n",
            "Epoch 46/750\n",
            "64000/64000 [==============================] - 4s 60us/step - loss: 0.6932 - acc: 0.4987\n",
            "Epoch 47/750\n",
            "64000/64000 [==============================] - 4s 60us/step - loss: 0.6932 - acc: 0.5014\n",
            "Epoch 48/750\n",
            "62720/64000 [============================>.] - ETA: 0s - loss: 0.6932 - acc: 0.5012"
          ],
          "name": "stdout"
        },
        {
          "output_type": "stream",
          "text": [
            "64000/64000 [==============================] - 4s 59us/step - loss: 0.6932 - acc: 0.5010\n",
            "Epoch 49/750\n",
            "64000/64000 [==============================] - 4s 60us/step - loss: 0.6932 - acc: 0.5002\n",
            "Epoch 50/750\n",
            "64000/64000 [==============================] - 4s 60us/step - loss: 0.6932 - acc: 0.5025\n",
            "Epoch 51/750\n",
            "64000/64000 [==============================] - 4s 60us/step - loss: 0.6932 - acc: 0.5037\n",
            "Epoch 52/750\n",
            "64000/64000 [==============================] - 4s 59us/step - loss: 0.6932 - acc: 0.5025\n",
            "Epoch 53/750\n",
            "61440/64000 [===========================>..] - ETA: 0s - loss: 0.6932 - acc: 0.5045"
          ],
          "name": "stdout"
        },
        {
          "output_type": "stream",
          "text": [
            "64000/64000 [==============================] - 4s 60us/step - loss: 0.6932 - acc: 0.5042\n",
            "Epoch 54/750\n",
            "64000/64000 [==============================] - 4s 60us/step - loss: 0.6932 - acc: 0.5041\n",
            "Epoch 55/750\n",
            "64000/64000 [==============================] - 4s 60us/step - loss: 0.6932 - acc: 0.5053\n",
            "Epoch 56/750\n",
            "64000/64000 [==============================] - 4s 60us/step - loss: 0.6932 - acc: 0.5049\n",
            "Epoch 57/750\n",
            "64000/64000 [==============================] - 4s 60us/step - loss: 0.6932 - acc: 0.5052\n",
            "Epoch 58/750\n",
            "60800/64000 [===========================>..] - ETA: 0s - loss: 0.6932 - acc: 0.5016"
          ],
          "name": "stdout"
        },
        {
          "output_type": "stream",
          "text": [
            "64000/64000 [==============================] - 4s 60us/step - loss: 0.6932 - acc: 0.5013\n",
            "Epoch 59/750\n",
            "64000/64000 [==============================] - 4s 60us/step - loss: 0.6932 - acc: 0.5021\n",
            "Epoch 60/750\n",
            "64000/64000 [==============================] - 4s 61us/step - loss: 0.6932 - acc: 0.5013\n",
            "Epoch 61/750\n",
            "64000/64000 [==============================] - 4s 59us/step - loss: 0.6932 - acc: 0.5011\n",
            "Epoch 62/750\n",
            "64000/64000 [==============================] - 4s 60us/step - loss: 0.6932 - acc: 0.5030\n",
            "Epoch 63/750\n",
            "62080/64000 [============================>.] - ETA: 0s - loss: 0.6932 - acc: 0.5035"
          ],
          "name": "stdout"
        },
        {
          "output_type": "stream",
          "text": [
            "64000/64000 [==============================] - 4s 60us/step - loss: 0.6932 - acc: 0.5032\n",
            "Epoch 64/750\n",
            "64000/64000 [==============================] - 4s 60us/step - loss: 0.6932 - acc: 0.5033\n",
            "Epoch 65/750\n",
            "64000/64000 [==============================] - 4s 61us/step - loss: 0.6932 - acc: 0.5032\n",
            "Epoch 66/750\n",
            "64000/64000 [==============================] - 4s 60us/step - loss: 0.6932 - acc: 0.5022\n",
            "Epoch 67/750\n",
            "64000/64000 [==============================] - 4s 60us/step - loss: 0.6932 - acc: 0.5006\n",
            "Epoch 68/750\n",
            "62080/64000 [============================>.] - ETA: 0s - loss: 0.6932 - acc: 0.5008"
          ],
          "name": "stdout"
        },
        {
          "output_type": "stream",
          "text": [
            "64000/64000 [==============================] - 4s 60us/step - loss: 0.6932 - acc: 0.5006\n",
            "Epoch 69/750\n",
            "64000/64000 [==============================] - 4s 61us/step - loss: 0.6932 - acc: 0.4985\n",
            "Epoch 70/750\n",
            "64000/64000 [==============================] - 4s 60us/step - loss: 0.6932 - acc: 0.5026\n",
            "Epoch 71/750\n",
            "64000/64000 [==============================] - 4s 60us/step - loss: 0.6932 - acc: 0.5010\n",
            "Epoch 72/750\n",
            "64000/64000 [==============================] - 4s 60us/step - loss: 0.6932 - acc: 0.4990\n",
            "Epoch 73/750\n",
            "63360/64000 [============================>.] - ETA: 0s - loss: 0.6932 - acc: 0.4967"
          ],
          "name": "stdout"
        },
        {
          "output_type": "stream",
          "text": [
            "\b\b\b\b\b\b\b\b\b\b\b\b\b\b\b\b\b\b\b\b\b\b\b\b\b\b\b\b\b\b\b\b\b\b\b\b\b\b\b\b\b\b\b\b\b\b\b\b\b\b\b\b\b\b\b\b\b\b\b\b\b\b\b\b\b\b\b\b\b\b\b\b\b\b\b\b\b\b\b\b\b\b\b\r64000/64000 [==============================] - 4s 60us/step - loss: 0.6932 - acc: 0.4968\n",
            "Epoch 74/750\n",
            "64000/64000 [==============================] - 4s 60us/step - loss: 0.6932 - acc: 0.4986\n",
            "Epoch 75/750\n",
            "64000/64000 [==============================] - 4s 59us/step - loss: 0.6932 - acc: 0.4986\n",
            "Epoch 76/750\n",
            "64000/64000 [==============================] - 4s 60us/step - loss: 0.6932 - acc: 0.4986\n",
            "Epoch 77/750\n",
            "64000/64000 [==============================] - 4s 60us/step - loss: 0.6932 - acc: 0.4970\n",
            "Epoch 78/750\n",
            "21760/64000 [=========>....................] - ETA: 2s - loss: 0.6931 - acc: 0.4994"
          ],
          "name": "stdout"
        },
        {
          "output_type": "stream",
          "text": [
            "64000/64000 [==============================] - 4s 60us/step - loss: 0.6932 - acc: 0.4969\n",
            "Epoch 79/750\n",
            "64000/64000 [==============================] - 4s 60us/step - loss: 0.6932 - acc: 0.4951\n",
            "Epoch 80/750\n",
            "64000/64000 [==============================] - 4s 60us/step - loss: 0.6932 - acc: 0.4949\n",
            "Epoch 81/750\n",
            "64000/64000 [==============================] - 4s 60us/step - loss: 0.6932 - acc: 0.4966\n",
            "Epoch 82/750\n",
            "64000/64000 [==============================] - 4s 60us/step - loss: 0.6932 - acc: 0.4994\n",
            "Epoch 83/750\n",
            "56960/64000 [=========================>....] - ETA: 0s - loss: 0.6931 - acc: 0.5030"
          ],
          "name": "stdout"
        },
        {
          "output_type": "stream",
          "text": [
            "64000/64000 [==============================] - 4s 61us/step - loss: 0.6932 - acc: 0.5024\n",
            "Epoch 84/750\n",
            "64000/64000 [==============================] - 4s 58us/step - loss: 0.6932 - acc: 0.5002\n",
            "Epoch 85/750\n",
            "64000/64000 [==============================] - 4s 59us/step - loss: 0.6932 - acc: 0.5003\n",
            "Epoch 86/750\n",
            "64000/64000 [==============================] - 4s 59us/step - loss: 0.6932 - acc: 0.5028\n",
            "Epoch 87/750\n",
            "64000/64000 [==============================] - 4s 59us/step - loss: 0.6932 - acc: 0.5019\n",
            "Epoch 88/750\n",
            "60800/64000 [===========================>..] - ETA: 0s - loss: 0.6932 - acc: 0.5030"
          ],
          "name": "stdout"
        },
        {
          "output_type": "stream",
          "text": [
            "64000/64000 [==============================] - 4s 58us/step - loss: 0.6932 - acc: 0.5026\n",
            "Epoch 89/750\n",
            "64000/64000 [==============================] - 4s 59us/step - loss: 0.6932 - acc: 0.5000\n",
            "Epoch 90/750\n",
            "64000/64000 [==============================] - 4s 59us/step - loss: 0.6932 - acc: 0.5000\n",
            "Epoch 91/750\n",
            "64000/64000 [==============================] - 4s 60us/step - loss: 0.6932 - acc: 0.5000\n",
            "Epoch 92/750\n",
            "64000/64000 [==============================] - 4s 59us/step - loss: 0.6932 - acc: 0.4969\n",
            "Epoch 93/750\n",
            "64000/64000 [==============================] - 4s 58us/step - loss: 0.6932 - acc: 0.4968\n"
          ],
          "name": "stdout"
        },
        {
          "output_type": "stream",
          "text": [
            "Epoch 94/750\n",
            "64000/64000 [==============================] - 4s 59us/step - loss: 0.6932 - acc: 0.5024\n",
            "Epoch 95/750\n",
            "64000/64000 [==============================] - 4s 59us/step - loss: 0.6932 - acc: 0.5012\n",
            "Epoch 96/750\n",
            "64000/64000 [==============================] - 4s 59us/step - loss: 0.6932 - acc: 0.5001\n",
            "Epoch 97/750\n",
            "64000/64000 [==============================] - 4s 60us/step - loss: 0.6932 - acc: 0.5003\n",
            "Epoch 98/750\n",
            "64000/64000 [==============================] - 4s 60us/step - loss: 0.6932 - acc: 0.5017\n",
            "Epoch 99/750\n",
            "46720/64000 [====================>.........] - ETA: 1s - loss: 0.6932 - acc: 0.5014"
          ],
          "name": "stdout"
        },
        {
          "output_type": "stream",
          "text": [
            "64000/64000 [==============================] - 4s 58us/step - loss: 0.6932 - acc: 0.5027\n",
            "Epoch 100/750\n",
            "64000/64000 [==============================] - 4s 60us/step - loss: 0.6932 - acc: 0.5051\n",
            "Epoch 101/750\n",
            "64000/64000 [==============================] - 4s 59us/step - loss: 0.6932 - acc: 0.5091\n",
            "Epoch 102/750\n",
            "64000/64000 [==============================] - 4s 59us/step - loss: 0.6932 - acc: 0.5108\n",
            "Epoch 103/750\n",
            "64000/64000 [==============================] - 4s 59us/step - loss: 0.6932 - acc: 0.5106\n",
            "Epoch 104/750\n",
            "58240/64000 [==========================>...] - ETA: 0s - loss: 0.6931 - acc: 0.5133"
          ],
          "name": "stdout"
        },
        {
          "output_type": "stream",
          "text": [
            "64000/64000 [==============================] - 4s 58us/step - loss: 0.6932 - acc: 0.5115\n",
            "Epoch 105/750\n",
            "64000/64000 [==============================] - 4s 58us/step - loss: 0.6932 - acc: 0.5115\n",
            "Epoch 106/750\n",
            "64000/64000 [==============================] - 4s 58us/step - loss: 0.6932 - acc: 0.5130\n",
            "Epoch 107/750\n",
            "64000/64000 [==============================] - 4s 59us/step - loss: 0.6932 - acc: 0.5119\n",
            "Epoch 108/750\n",
            "64000/64000 [==============================] - 4s 59us/step - loss: 0.6932 - acc: 0.5103\n",
            "Epoch 109/750\n",
            "59520/64000 [==========================>...] - ETA: 0s - loss: 0.6931 - acc: 0.5101"
          ],
          "name": "stdout"
        },
        {
          "output_type": "stream",
          "text": [
            "64000/64000 [==============================] - 4s 60us/step - loss: 0.6932 - acc: 0.5090\n",
            "Epoch 110/750\n",
            "64000/64000 [==============================] - 4s 60us/step - loss: 0.6932 - acc: 0.5090\n",
            "Epoch 111/750\n",
            "64000/64000 [==============================] - 4s 59us/step - loss: 0.6932 - acc: 0.5083\n",
            "Epoch 112/750\n",
            "64000/64000 [==============================] - 4s 60us/step - loss: 0.6932 - acc: 0.5083\n",
            "Epoch 113/750\n",
            "64000/64000 [==============================] - 4s 62us/step - loss: 0.6932 - acc: 0.5078\n",
            "Epoch 114/750\n",
            "60800/64000 [===========================>..] - ETA: 0s - loss: 0.6931 - acc: 0.5085"
          ],
          "name": "stdout"
        },
        {
          "output_type": "stream",
          "text": [
            "64000/64000 [==============================] - 4s 59us/step - loss: 0.6932 - acc: 0.5078\n",
            "Epoch 115/750\n",
            "64000/64000 [==============================] - 4s 58us/step - loss: 0.6932 - acc: 0.5087\n",
            "Epoch 116/750\n",
            "64000/64000 [==============================] - 4s 58us/step - loss: 0.6932 - acc: 0.5079\n",
            "Epoch 117/750\n",
            "64000/64000 [==============================] - 4s 58us/step - loss: 0.6932 - acc: 0.5085\n",
            "Epoch 118/750\n",
            "64000/64000 [==============================] - 4s 58us/step - loss: 0.6932 - acc: 0.5086\n",
            "Epoch 119/750\n",
            "59520/64000 [==========================>...] - ETA: 0s - loss: 0.6931 - acc: 0.5088"
          ],
          "name": "stdout"
        },
        {
          "output_type": "stream",
          "text": [
            "64000/64000 [==============================] - 4s 59us/step - loss: 0.6932 - acc: 0.5078\n",
            "Epoch 120/750\n",
            "64000/64000 [==============================] - 4s 59us/step - loss: 0.6932 - acc: 0.5085\n",
            "Epoch 121/750\n",
            "64000/64000 [==============================] - 4s 59us/step - loss: 0.6932 - acc: 0.5080\n",
            "Epoch 122/750\n",
            "64000/64000 [==============================] - 4s 58us/step - loss: 0.6932 - acc: 0.5067\n",
            "Epoch 123/750\n",
            "64000/64000 [==============================] - 4s 60us/step - loss: 0.6932 - acc: 0.5049\n",
            "Epoch 124/750\n",
            "60800/64000 [===========================>..] - ETA: 0s - loss: 0.6931 - acc: 0.5056"
          ],
          "name": "stdout"
        },
        {
          "output_type": "stream",
          "text": [
            "64000/64000 [==============================] - 4s 58us/step - loss: 0.6932 - acc: 0.5050\n",
            "Epoch 125/750\n",
            "64000/64000 [==============================] - 4s 58us/step - loss: 0.6932 - acc: 0.5051\n",
            "Epoch 126/750\n",
            "64000/64000 [==============================] - 4s 58us/step - loss: 0.6932 - acc: 0.5050\n",
            "Epoch 127/750\n",
            "64000/64000 [==============================] - 4s 59us/step - loss: 0.6932 - acc: 0.5080\n",
            "Epoch 128/750\n",
            "64000/64000 [==============================] - 4s 59us/step - loss: 0.6932 - acc: 0.5080\n",
            "Epoch 129/750\n",
            "59520/64000 [==========================>...] - ETA: 0s - loss: 0.6931 - acc: 0.5090"
          ],
          "name": "stdout"
        },
        {
          "output_type": "stream",
          "text": [
            "64000/64000 [==============================] - 4s 58us/step - loss: 0.6932 - acc: 0.5079\n",
            "Epoch 130/750\n",
            "64000/64000 [==============================] - 4s 59us/step - loss: 0.6932 - acc: 0.5080\n",
            "Epoch 131/750\n",
            "64000/64000 [==============================] - 4s 58us/step - loss: 0.6932 - acc: 0.5077\n",
            "Epoch 132/750\n",
            "64000/64000 [==============================] - 4s 59us/step - loss: 0.6932 - acc: 0.5075\n",
            "Epoch 133/750\n",
            "64000/64000 [==============================] - 4s 60us/step - loss: 0.6932 - acc: 0.5061\n",
            "Epoch 134/750\n",
            "60800/64000 [===========================>..] - ETA: 0s - loss: 0.6931 - acc: 0.5064"
          ],
          "name": "stdout"
        },
        {
          "output_type": "stream",
          "text": [
            "64000/64000 [==============================] - 4s 60us/step - loss: 0.6932 - acc: 0.5058\n",
            "Epoch 135/750\n",
            "64000/64000 [==============================] - 4s 60us/step - loss: 0.6932 - acc: 0.5058\n",
            "Epoch 136/750\n",
            "64000/64000 [==============================] - 4s 60us/step - loss: 0.6932 - acc: 0.5039\n",
            "Epoch 137/750\n",
            "64000/64000 [==============================] - 4s 61us/step - loss: 0.6932 - acc: 0.5018\n",
            "Epoch 138/750\n",
            "64000/64000 [==============================] - 4s 61us/step - loss: 0.6932 - acc: 0.5020\n",
            "Epoch 139/750\n",
            "60160/64000 [===========================>..] - ETA: 0s - loss: 0.6931 - acc: 0.5045"
          ],
          "name": "stdout"
        },
        {
          "output_type": "stream",
          "text": [
            "64000/64000 [==============================] - 4s 60us/step - loss: 0.6932 - acc: 0.5039\n",
            "Epoch 140/750\n",
            "64000/64000 [==============================] - 4s 60us/step - loss: 0.6932 - acc: 0.5038\n",
            "Epoch 141/750\n",
            "64000/64000 [==============================] - 4s 60us/step - loss: 0.6932 - acc: 0.5038\n",
            "Epoch 142/750\n",
            "64000/64000 [==============================] - 4s 60us/step - loss: 0.6932 - acc: 0.5038\n",
            "Epoch 143/750\n",
            "64000/64000 [==============================] - 4s 61us/step - loss: 0.6932 - acc: 0.5063\n",
            "Epoch 144/750\n",
            "62080/64000 [============================>.] - ETA: 0s - loss: 0.6931 - acc: 0.5067"
          ],
          "name": "stdout"
        },
        {
          "output_type": "stream",
          "text": [
            "64000/64000 [==============================] - 4s 60us/step - loss: 0.6932 - acc: 0.5063\n",
            "Epoch 145/750\n",
            "64000/64000 [==============================] - 4s 60us/step - loss: 0.6932 - acc: 0.5024\n",
            "Epoch 146/750\n",
            "64000/64000 [==============================] - 4s 61us/step - loss: 0.6932 - acc: 0.5026\n",
            "Epoch 147/750\n",
            "64000/64000 [==============================] - 4s 61us/step - loss: 0.6932 - acc: 0.5026\n",
            "Epoch 148/750\n",
            "64000/64000 [==============================] - 4s 60us/step - loss: 0.6932 - acc: 0.5005\n",
            "Epoch 149/750\n",
            "59520/64000 [==========================>...] - ETA: 0s - loss: 0.6931 - acc: 0.5011"
          ],
          "name": "stdout"
        },
        {
          "output_type": "stream",
          "text": [
            "64000/64000 [==============================] - 4s 61us/step - loss: 0.6932 - acc: 0.5006\n",
            "Epoch 150/750\n",
            "64000/64000 [==============================] - 4s 60us/step - loss: 0.6932 - acc: 0.5019\n",
            "Epoch 151/750\n",
            "64000/64000 [==============================] - 4s 61us/step - loss: 0.6932 - acc: 0.5051\n",
            "Epoch 152/750\n",
            "64000/64000 [==============================] - 4s 60us/step - loss: 0.6932 - acc: 0.5024\n",
            "Epoch 153/750\n",
            "64000/64000 [==============================] - 4s 60us/step - loss: 0.6932 - acc: 0.5027\n",
            "Epoch 154/750\n",
            "59520/64000 [==========================>...] - ETA: 0s - loss: 0.6931 - acc: 0.5020"
          ],
          "name": "stdout"
        },
        {
          "output_type": "stream",
          "text": [
            "64000/64000 [==============================] - 4s 59us/step - loss: 0.6932 - acc: 0.5015\n",
            "Epoch 155/750\n",
            "64000/64000 [==============================] - 4s 60us/step - loss: 0.6932 - acc: 0.5015\n",
            "Epoch 156/750\n",
            "64000/64000 [==============================] - 4s 60us/step - loss: 0.6932 - acc: 0.5005\n",
            "Epoch 157/750\n",
            "64000/64000 [==============================] - 4s 60us/step - loss: 0.6932 - acc: 0.5002\n",
            "Epoch 158/750\n",
            "64000/64000 [==============================] - 4s 60us/step - loss: 0.6932 - acc: 0.4997\n",
            "Epoch 159/750\n",
            "60800/64000 [===========================>..] - ETA: 0s - loss: 0.6931 - acc: 0.5028"
          ],
          "name": "stdout"
        },
        {
          "output_type": "stream",
          "text": [
            "64000/64000 [==============================] - 4s 58us/step - loss: 0.6932 - acc: 0.5025\n",
            "Epoch 160/750\n",
            "64000/64000 [==============================] - 4s 59us/step - loss: 0.6932 - acc: 0.5015\n",
            "Epoch 161/750\n",
            "64000/64000 [==============================] - 4s 60us/step - loss: 0.6932 - acc: 0.5017\n",
            "Epoch 162/750\n",
            "64000/64000 [==============================] - 4s 60us/step - loss: 0.6932 - acc: 0.5018\n",
            "Epoch 163/750\n",
            "64000/64000 [==============================] - 4s 60us/step - loss: 0.6932 - acc: 0.5013\n",
            "Epoch 164/750\n",
            "62080/64000 [============================>.] - ETA: 0s - loss: 0.6931 - acc: 0.5021"
          ],
          "name": "stdout"
        },
        {
          "output_type": "stream",
          "text": [
            "64000/64000 [==============================] - 4s 60us/step - loss: 0.6932 - acc: 0.5018\n",
            "Epoch 165/750\n",
            "64000/64000 [==============================] - 4s 59us/step - loss: 0.6932 - acc: 0.4978\n",
            "Epoch 166/750\n",
            "64000/64000 [==============================] - 4s 60us/step - loss: 0.6932 - acc: 0.4970\n",
            "Epoch 167/750\n",
            "64000/64000 [==============================] - 4s 60us/step - loss: 0.6932 - acc: 0.4988\n",
            "Epoch 168/750\n",
            "64000/64000 [==============================] - 4s 60us/step - loss: 0.6932 - acc: 0.4984\n",
            "Epoch 169/750\n",
            "60800/64000 [===========================>..] - ETA: 0s - loss: 0.6931 - acc: 0.4999"
          ],
          "name": "stdout"
        },
        {
          "output_type": "stream",
          "text": [
            "64000/64000 [==============================] - 4s 61us/step - loss: 0.6932 - acc: 0.4996\n",
            "Epoch 170/750\n",
            "64000/64000 [==============================] - 4s 61us/step - loss: 0.6932 - acc: 0.4988\n",
            "Epoch 171/750\n",
            "64000/64000 [==============================] - 4s 60us/step - loss: 0.6932 - acc: 0.4998\n",
            "Epoch 172/750\n",
            "64000/64000 [==============================] - 4s 61us/step - loss: 0.6932 - acc: 0.4986\n",
            "Epoch 173/750\n",
            "64000/64000 [==============================] - 4s 60us/step - loss: 0.6932 - acc: 0.5035\n",
            "Epoch 174/750\n",
            "62080/64000 [============================>.] - ETA: 0s - loss: 0.6931 - acc: 0.5014"
          ],
          "name": "stdout"
        },
        {
          "output_type": "stream",
          "text": [
            "64000/64000 [==============================] - 4s 60us/step - loss: 0.6932 - acc: 0.5011\n",
            "Epoch 175/750\n",
            "64000/64000 [==============================] - 4s 60us/step - loss: 0.6932 - acc: 0.5029\n",
            "Epoch 176/750\n",
            "64000/64000 [==============================] - 4s 60us/step - loss: 0.6932 - acc: 0.5004\n",
            "Epoch 177/750\n",
            "64000/64000 [==============================] - 4s 61us/step - loss: 0.6932 - acc: 0.5040\n",
            "Epoch 178/750\n",
            "64000/64000 [==============================] - 4s 61us/step - loss: 0.6932 - acc: 0.5030\n",
            "Epoch 179/750\n",
            "60800/64000 [===========================>..] - ETA: 0s - loss: 0.6931 - acc: 0.5043"
          ],
          "name": "stdout"
        },
        {
          "output_type": "stream",
          "text": [
            "64000/64000 [==============================] - 4s 60us/step - loss: 0.6932 - acc: 0.5039\n",
            "Epoch 180/750\n",
            "64000/64000 [==============================] - 4s 60us/step - loss: 0.6932 - acc: 0.5000\n",
            "Epoch 181/750\n",
            "64000/64000 [==============================] - 4s 60us/step - loss: 0.6932 - acc: 0.5031\n",
            "Epoch 182/750\n",
            "64000/64000 [==============================] - 4s 59us/step - loss: 0.6932 - acc: 0.5011\n",
            "Epoch 183/750\n",
            "64000/64000 [==============================] - 4s 60us/step - loss: 0.6932 - acc: 0.5016\n",
            "Epoch 184/750\n",
            "59520/64000 [==========================>...] - ETA: 0s - loss: 0.6931 - acc: 0.5017"
          ],
          "name": "stdout"
        },
        {
          "output_type": "stream",
          "text": [
            "64000/64000 [==============================] - 4s 59us/step - loss: 0.6932 - acc: 0.5012\n",
            "Epoch 185/750\n",
            "64000/64000 [==============================] - 4s 60us/step - loss: 0.6931 - acc: 0.5018\n",
            "Epoch 186/750\n",
            "64000/64000 [==============================] - 4s 60us/step - loss: 0.6931 - acc: 0.5034\n",
            "Epoch 187/750\n",
            "64000/64000 [==============================] - 4s 60us/step - loss: 0.6931 - acc: 0.5031\n",
            "Epoch 188/750\n",
            "64000/64000 [==============================] - 4s 60us/step - loss: 0.6931 - acc: 0.5024\n",
            "Epoch 189/750\n",
            "59520/64000 [==========================>...] - ETA: 0s - loss: 0.6931 - acc: 0.5025"
          ],
          "name": "stdout"
        },
        {
          "output_type": "stream",
          "text": [
            "64000/64000 [==============================] - 4s 59us/step - loss: 0.6931 - acc: 0.5019\n",
            "Epoch 190/750\n",
            "64000/64000 [==============================] - 4s 60us/step - loss: 0.6931 - acc: 0.5016\n",
            "Epoch 191/750\n",
            "64000/64000 [==============================] - 4s 60us/step - loss: 0.6931 - acc: 0.5018\n",
            "Epoch 192/750\n",
            "64000/64000 [==============================] - 4s 60us/step - loss: 0.6931 - acc: 0.5023\n",
            "Epoch 193/750\n",
            "64000/64000 [==============================] - 4s 60us/step - loss: 0.6931 - acc: 0.5026\n",
            "Epoch 194/750\n",
            "62080/64000 [============================>.] - ETA: 0s - loss: 0.6931 - acc: 0.5035"
          ],
          "name": "stdout"
        },
        {
          "output_type": "stream",
          "text": [
            "64000/64000 [==============================] - 4s 60us/step - loss: 0.6931 - acc: 0.5032\n",
            "Epoch 195/750\n",
            "64000/64000 [==============================] - 4s 60us/step - loss: 0.6931 - acc: 0.5038\n",
            "Epoch 196/750\n",
            "64000/64000 [==============================] - 4s 61us/step - loss: 0.6931 - acc: 0.5036\n",
            "Epoch 197/750\n",
            "64000/64000 [==============================] - 4s 60us/step - loss: 0.6931 - acc: 0.5034\n",
            "Epoch 198/750\n",
            "64000/64000 [==============================] - 4s 61us/step - loss: 0.6931 - acc: 0.5032\n",
            "Epoch 199/750\n",
            "61440/64000 [===========================>..] - ETA: 0s - loss: 0.6931 - acc: 0.5031"
          ],
          "name": "stdout"
        },
        {
          "output_type": "stream",
          "text": [
            "64000/64000 [==============================] - 4s 61us/step - loss: 0.6931 - acc: 0.5029\n",
            "Epoch 200/750\n",
            "64000/64000 [==============================] - 4s 61us/step - loss: 0.6931 - acc: 0.5030\n",
            "Epoch 201/750\n",
            "64000/64000 [==============================] - 4s 61us/step - loss: 0.6931 - acc: 0.5029\n",
            "Epoch 202/750\n",
            "64000/64000 [==============================] - 4s 61us/step - loss: 0.6931 - acc: 0.5029\n",
            "Epoch 203/750\n",
            "64000/64000 [==============================] - 4s 60us/step - loss: 0.6931 - acc: 0.5030\n",
            "Epoch 204/750\n",
            "60800/64000 [===========================>..] - ETA: 0s - loss: 0.6931 - acc: 0.5035"
          ],
          "name": "stdout"
        },
        {
          "output_type": "stream",
          "text": [
            "64000/64000 [==============================] - 4s 60us/step - loss: 0.6931 - acc: 0.5030\n",
            "Epoch 205/750\n",
            "64000/64000 [==============================] - 4s 61us/step - loss: 0.6931 - acc: 0.5030\n",
            "Epoch 206/750\n",
            "64000/64000 [==============================] - 4s 60us/step - loss: 0.6931 - acc: 0.5030\n",
            "Epoch 207/750\n",
            "64000/64000 [==============================] - 4s 60us/step - loss: 0.6931 - acc: 0.5030\n",
            "Epoch 208/750\n",
            "64000/64000 [==============================] - 4s 60us/step - loss: 0.6931 - acc: 0.5030\n",
            "Epoch 209/750\n",
            "61440/64000 [===========================>..] - ETA: 0s - loss: 0.6931 - acc: 0.5032"
          ],
          "name": "stdout"
        },
        {
          "output_type": "stream",
          "text": [
            "64000/64000 [==============================] - 4s 59us/step - loss: 0.6931 - acc: 0.5030\n",
            "Epoch 210/750\n",
            "64000/64000 [==============================] - 4s 60us/step - loss: 0.6931 - acc: 0.5030\n",
            "Epoch 211/750\n",
            "64000/64000 [==============================] - 4s 60us/step - loss: 0.6931 - acc: 0.5030\n",
            "Epoch 212/750\n",
            "64000/64000 [==============================] - 4s 60us/step - loss: 0.6931 - acc: 0.5030\n",
            "Epoch 213/750\n",
            "64000/64000 [==============================] - 4s 60us/step - loss: 0.6931 - acc: 0.5030\n",
            "Epoch 214/750\n",
            "60160/64000 [===========================>..] - ETA: 0s - loss: 0.6931 - acc: 0.5035"
          ],
          "name": "stdout"
        },
        {
          "output_type": "stream",
          "text": [
            "64000/64000 [==============================] - 4s 60us/step - loss: 0.6931 - acc: 0.5030\n",
            "Epoch 215/750\n",
            "64000/64000 [==============================] - 4s 60us/step - loss: 0.6931 - acc: 0.5029\n",
            "Epoch 216/750\n",
            "64000/64000 [==============================] - 4s 60us/step - loss: 0.6931 - acc: 0.5029\n",
            "Epoch 217/750\n",
            "64000/64000 [==============================] - 4s 60us/step - loss: 0.6931 - acc: 0.5029\n",
            "Epoch 218/750\n",
            "64000/64000 [==============================] - 4s 61us/step - loss: 0.6931 - acc: 0.5029\n",
            "Epoch 219/750\n",
            "60800/64000 [===========================>..] - ETA: 0s - loss: 0.6931 - acc: 0.5034"
          ],
          "name": "stdout"
        },
        {
          "output_type": "stream",
          "text": [
            "64000/64000 [==============================] - 4s 61us/step - loss: 0.6931 - acc: 0.5029\n",
            "Epoch 220/750\n",
            "64000/64000 [==============================] - 4s 60us/step - loss: 0.6931 - acc: 0.5029\n",
            "Epoch 221/750\n",
            "64000/64000 [==============================] - 4s 61us/step - loss: 0.6931 - acc: 0.5030\n",
            "Epoch 222/750\n",
            "64000/64000 [==============================] - 4s 61us/step - loss: 0.6931 - acc: 0.5030\n",
            "Epoch 223/750\n",
            "64000/64000 [==============================] - 4s 60us/step - loss: 0.6931 - acc: 0.5030\n",
            "Epoch 224/750\n",
            "60800/64000 [===========================>..] - ETA: 0s - loss: 0.6931 - acc: 0.5034"
          ],
          "name": "stdout"
        },
        {
          "output_type": "stream",
          "text": [
            "64000/64000 [==============================] - 4s 61us/step - loss: 0.6931 - acc: 0.5030\n",
            "Epoch 225/750\n",
            "64000/64000 [==============================] - 4s 60us/step - loss: 0.6931 - acc: 0.5030\n",
            "Epoch 226/750\n",
            "64000/64000 [==============================] - 4s 60us/step - loss: 0.6931 - acc: 0.5030\n",
            "Epoch 227/750\n",
            "64000/64000 [==============================] - 4s 60us/step - loss: 0.6931 - acc: 0.5030\n",
            "Epoch 228/750\n",
            "64000/64000 [==============================] - 4s 60us/step - loss: 0.6931 - acc: 0.5030\n",
            "Epoch 229/750\n",
            "61440/64000 [===========================>..] - ETA: 0s - loss: 0.6931 - acc: 0.5032"
          ],
          "name": "stdout"
        },
        {
          "output_type": "stream",
          "text": [
            "64000/64000 [==============================] - 4s 60us/step - loss: 0.6931 - acc: 0.5030\n",
            "Epoch 230/750\n",
            "64000/64000 [==============================] - 4s 60us/step - loss: 0.6931 - acc: 0.5030\n",
            "Epoch 231/750\n",
            "64000/64000 [==============================] - 4s 60us/step - loss: 0.6931 - acc: 0.5030\n",
            "Epoch 232/750\n",
            "64000/64000 [==============================] - 4s 61us/step - loss: 0.6931 - acc: 0.5030\n",
            "Epoch 233/750\n",
            "64000/64000 [==============================] - 4s 60us/step - loss: 0.6931 - acc: 0.5030\n",
            "Epoch 234/750\n",
            "60800/64000 [===========================>..] - ETA: 0s - loss: 0.6931 - acc: 0.5034"
          ],
          "name": "stdout"
        },
        {
          "output_type": "stream",
          "text": [
            "64000/64000 [==============================] - 4s 61us/step - loss: 0.6931 - acc: 0.5030\n",
            "Epoch 235/750\n",
            "64000/64000 [==============================] - 4s 60us/step - loss: 0.6931 - acc: 0.5030\n",
            "Epoch 236/750\n",
            "64000/64000 [==============================] - 4s 59us/step - loss: 0.6931 - acc: 0.5030\n",
            "Epoch 237/750\n",
            "64000/64000 [==============================] - 4s 60us/step - loss: 0.6931 - acc: 0.5030\n",
            "Epoch 238/750\n",
            "64000/64000 [==============================] - 4s 61us/step - loss: 0.6931 - acc: 0.5030\n",
            "Epoch 239/750\n",
            "60160/64000 [===========================>..] - ETA: 0s - loss: 0.6931 - acc: 0.5036"
          ],
          "name": "stdout"
        },
        {
          "output_type": "stream",
          "text": [
            "64000/64000 [==============================] - 4s 60us/step - loss: 0.6931 - acc: 0.5030\n",
            "Epoch 240/750\n",
            "64000/64000 [==============================] - 4s 60us/step - loss: 0.6931 - acc: 0.5030\n",
            "Epoch 241/750\n",
            "64000/64000 [==============================] - 4s 60us/step - loss: 0.6931 - acc: 0.5030\n",
            "Epoch 242/750\n",
            "64000/64000 [==============================] - 4s 61us/step - loss: 0.6931 - acc: 0.5030\n",
            "Epoch 243/750\n",
            "64000/64000 [==============================] - 4s 60us/step - loss: 0.6931 - acc: 0.5030\n",
            "Epoch 244/750\n",
            "62080/64000 [============================>.] - ETA: 0s - loss: 0.6931 - acc: 0.5033"
          ],
          "name": "stdout"
        },
        {
          "output_type": "stream",
          "text": [
            "64000/64000 [==============================] - 4s 60us/step - loss: 0.6931 - acc: 0.5030\n",
            "Epoch 245/750\n",
            "64000/64000 [==============================] - 4s 61us/step - loss: 0.6931 - acc: 0.5030\n",
            "Epoch 246/750\n",
            "64000/64000 [==============================] - 4s 60us/step - loss: 0.6931 - acc: 0.5030\n",
            "Epoch 247/750\n",
            "64000/64000 [==============================] - 4s 60us/step - loss: 0.6931 - acc: 0.5030\n",
            "Epoch 248/750\n",
            "64000/64000 [==============================] - 4s 59us/step - loss: 0.6931 - acc: 0.5030\n",
            "Epoch 249/750\n",
            "60800/64000 [===========================>..] - ETA: 0s - loss: 0.6931 - acc: 0.5035"
          ],
          "name": "stdout"
        },
        {
          "output_type": "stream",
          "text": [
            "64000/64000 [==============================] - 4s 59us/step - loss: 0.6931 - acc: 0.5030\n",
            "Epoch 250/750\n",
            "64000/64000 [==============================] - 4s 60us/step - loss: 0.6931 - acc: 0.5030\n",
            "Epoch 251/750\n",
            "64000/64000 [==============================] - 4s 59us/step - loss: 0.6931 - acc: 0.5030\n",
            "Epoch 252/750\n",
            "64000/64000 [==============================] - 4s 59us/step - loss: 0.6931 - acc: 0.5030\n",
            "Epoch 253/750\n",
            "64000/64000 [==============================] - 4s 60us/step - loss: 0.6931 - acc: 0.5030\n",
            "Epoch 254/750\n",
            "60160/64000 [===========================>..] - ETA: 0s - loss: 0.6931 - acc: 0.5036"
          ],
          "name": "stdout"
        },
        {
          "output_type": "stream",
          "text": [
            "64000/64000 [==============================] - 4s 59us/step - loss: 0.6931 - acc: 0.5030\n",
            "Epoch 255/750\n",
            "64000/64000 [==============================] - 4s 60us/step - loss: 0.6931 - acc: 0.5030\n",
            "Epoch 256/750\n",
            "64000/64000 [==============================] - 4s 60us/step - loss: 0.6931 - acc: 0.5030\n",
            "Epoch 257/750\n",
            "64000/64000 [==============================] - 4s 60us/step - loss: 0.6931 - acc: 0.5030\n",
            "Epoch 258/750\n",
            "64000/64000 [==============================] - 4s 60us/step - loss: 0.6931 - acc: 0.5030\n",
            "Epoch 259/750\n",
            "60800/64000 [===========================>..] - ETA: 0s - loss: 0.6931 - acc: 0.5035"
          ],
          "name": "stdout"
        },
        {
          "output_type": "stream",
          "text": [
            "64000/64000 [==============================] - 4s 60us/step - loss: 0.6931 - acc: 0.5030\n",
            "Epoch 260/750\n",
            "64000/64000 [==============================] - 4s 60us/step - loss: 0.6931 - acc: 0.5030\n",
            "Epoch 261/750\n",
            "64000/64000 [==============================] - 4s 60us/step - loss: 0.6931 - acc: 0.5030\n",
            "Epoch 262/750\n",
            "64000/64000 [==============================] - 4s 60us/step - loss: 0.6931 - acc: 0.5030\n",
            "Epoch 263/750\n",
            "64000/64000 [==============================] - 4s 60us/step - loss: 0.6931 - acc: 0.5030\n",
            "Epoch 264/750\n",
            "62080/64000 [============================>.] - ETA: 0s - loss: 0.6931 - acc: 0.5033"
          ],
          "name": "stdout"
        },
        {
          "output_type": "stream",
          "text": [
            "64000/64000 [==============================] - 4s 60us/step - loss: 0.6931 - acc: 0.5030\n",
            "Epoch 265/750\n",
            "64000/64000 [==============================] - 4s 60us/step - loss: 0.6931 - acc: 0.5030\n",
            "Epoch 266/750\n",
            "64000/64000 [==============================] - 4s 60us/step - loss: 0.6931 - acc: 0.5030\n",
            "Epoch 267/750\n",
            "64000/64000 [==============================] - 4s 61us/step - loss: 0.6931 - acc: 0.5030\n",
            "Epoch 268/750\n",
            "64000/64000 [==============================] - 4s 61us/step - loss: 0.6931 - acc: 0.5030\n",
            "Epoch 269/750\n",
            "60800/64000 [===========================>..] - ETA: 0s - loss: 0.6931 - acc: 0.5035"
          ],
          "name": "stdout"
        },
        {
          "output_type": "stream",
          "text": [
            "64000/64000 [==============================] - 4s 60us/step - loss: 0.6931 - acc: 0.5030\n",
            "Epoch 270/750\n",
            "64000/64000 [==============================] - 4s 60us/step - loss: 0.6931 - acc: 0.5030\n",
            "Epoch 271/750\n",
            "64000/64000 [==============================] - 4s 60us/step - loss: 0.6931 - acc: 0.5030\n",
            "Epoch 272/750\n",
            "64000/64000 [==============================] - 4s 61us/step - loss: 0.6931 - acc: 0.5030\n",
            "Epoch 273/750\n",
            "64000/64000 [==============================] - 4s 60us/step - loss: 0.6931 - acc: 0.5030\n",
            "Epoch 274/750\n",
            "58880/64000 [==========================>...] - ETA: 0s - loss: 0.6931 - acc: 0.5040"
          ],
          "name": "stdout"
        },
        {
          "output_type": "stream",
          "text": [
            "64000/64000 [==============================] - 4s 60us/step - loss: 0.6931 - acc: 0.5030\n",
            "Epoch 275/750\n",
            "64000/64000 [==============================] - 4s 60us/step - loss: 0.6931 - acc: 0.5030\n",
            "Epoch 276/750\n",
            "64000/64000 [==============================] - 4s 60us/step - loss: 0.6931 - acc: 0.5030\n",
            "Epoch 277/750\n",
            "64000/64000 [==============================] - 4s 60us/step - loss: 0.6931 - acc: 0.5030\n",
            "Epoch 278/750\n",
            "64000/64000 [==============================] - 4s 62us/step - loss: 0.6931 - acc: 0.5030\n",
            "Epoch 279/750\n",
            "60800/64000 [===========================>..] - ETA: 0s - loss: 0.6931 - acc: 0.5035"
          ],
          "name": "stdout"
        },
        {
          "output_type": "stream",
          "text": [
            "64000/64000 [==============================] - 4s 61us/step - loss: 0.6931 - acc: 0.5030\n",
            "Epoch 280/750\n",
            "64000/64000 [==============================] - 4s 61us/step - loss: 0.6931 - acc: 0.5030\n",
            "Epoch 281/750\n",
            "64000/64000 [==============================] - 4s 60us/step - loss: 0.6931 - acc: 0.5030\n",
            "Epoch 282/750\n",
            "64000/64000 [==============================] - 4s 61us/step - loss: 0.6931 - acc: 0.5030\n",
            "Epoch 283/750\n",
            "64000/64000 [==============================] - 4s 61us/step - loss: 0.6931 - acc: 0.5030\n",
            "Epoch 284/750\n",
            "62080/64000 [============================>.] - ETA: 0s - loss: 0.6931 - acc: 0.5033"
          ],
          "name": "stdout"
        },
        {
          "output_type": "stream",
          "text": [
            "64000/64000 [==============================] - 4s 60us/step - loss: 0.6931 - acc: 0.5030\n",
            "Epoch 285/750\n",
            "64000/64000 [==============================] - 4s 60us/step - loss: 0.6931 - acc: 0.5030\n",
            "Epoch 286/750\n",
            "64000/64000 [==============================] - 4s 60us/step - loss: 0.6931 - acc: 0.5030\n",
            "Epoch 287/750\n",
            "64000/64000 [==============================] - 4s 61us/step - loss: 0.6931 - acc: 0.5030\n",
            "Epoch 288/750\n",
            "64000/64000 [==============================] - 4s 61us/step - loss: 0.6931 - acc: 0.5030\n",
            "Epoch 289/750\n",
            "62720/64000 [============================>.] - ETA: 0s - loss: 0.6931 - acc: 0.5033"
          ],
          "name": "stdout"
        },
        {
          "output_type": "stream",
          "text": [
            "\b\b\b\b\b\b\b\b\b\b\b\b\b\b\b\b\b\b\b\b\b\b\b\b\b\b\b\b\b\b\b\b\b\b\b\b\b\b\b\b\b\b\b\b\b\b\b\b\b\b\b\b\b\b\b\b\b\b\b\b\b\b\b\b\b\b\b\b\b\b\b\b\b\b\b\b\b\b\b\b\b\b\b\r64000/64000 [==============================] - 4s 60us/step - loss: 0.6931 - acc: 0.5030\n",
            "Epoch 290/750\n",
            "64000/64000 [==============================] - 4s 60us/step - loss: 0.6931 - acc: 0.5030\n",
            "Epoch 291/750\n",
            "64000/64000 [==============================] - 4s 61us/step - loss: 0.6931 - acc: 0.5030\n",
            "Epoch 292/750\n",
            "64000/64000 [==============================] - 4s 61us/step - loss: 0.6931 - acc: 0.5030\n",
            "Epoch 293/750\n",
            "64000/64000 [==============================] - 4s 61us/step - loss: 0.6931 - acc: 0.5030\n",
            "Epoch 294/750\n",
            "21120/64000 [========>.....................] - ETA: 2s - loss: 0.6931 - acc: 0.5036"
          ],
          "name": "stdout"
        },
        {
          "output_type": "stream",
          "text": [
            "64000/64000 [==============================] - 4s 61us/step - loss: 0.6931 - acc: 0.5030\n",
            "Epoch 295/750\n",
            "64000/64000 [==============================] - 4s 60us/step - loss: 0.6931 - acc: 0.5030\n",
            "Epoch 296/750\n",
            "64000/64000 [==============================] - 4s 60us/step - loss: 0.6931 - acc: 0.5030\n",
            "Epoch 297/750\n",
            "64000/64000 [==============================] - 4s 61us/step - loss: 0.6931 - acc: 0.5030\n",
            "Epoch 298/750\n",
            "64000/64000 [==============================] - 4s 61us/step - loss: 0.6931 - acc: 0.5030\n",
            "Epoch 299/750\n",
            "53120/64000 [=======================>......] - ETA: 0s - loss: 0.6931 - acc: 0.5031"
          ],
          "name": "stdout"
        },
        {
          "output_type": "stream",
          "text": [
            "64000/64000 [==============================] - 4s 61us/step - loss: 0.6931 - acc: 0.5030\n",
            "Epoch 300/750\n",
            "64000/64000 [==============================] - 4s 61us/step - loss: 0.6931 - acc: 0.5030\n",
            "Epoch 301/750\n",
            "64000/64000 [==============================] - 4s 61us/step - loss: 0.6931 - acc: 0.5030\n",
            "Epoch 302/750\n",
            "64000/64000 [==============================] - 4s 60us/step - loss: 0.6931 - acc: 0.5030\n",
            "Epoch 303/750\n",
            "64000/64000 [==============================] - 4s 60us/step - loss: 0.6931 - acc: 0.5030\n",
            "Epoch 304/750\n",
            "60800/64000 [===========================>..] - ETA: 0s - loss: 0.6931 - acc: 0.5035"
          ],
          "name": "stdout"
        },
        {
          "output_type": "stream",
          "text": [
            "64000/64000 [==============================] - 4s 59us/step - loss: 0.6931 - acc: 0.5030\n",
            "Epoch 305/750\n",
            "64000/64000 [==============================] - 4s 60us/step - loss: 0.6931 - acc: 0.5030\n",
            "Epoch 306/750\n",
            "64000/64000 [==============================] - 4s 60us/step - loss: 0.6931 - acc: 0.5030\n",
            "Epoch 307/750\n",
            "64000/64000 [==============================] - 4s 60us/step - loss: 0.6931 - acc: 0.5030\n",
            "Epoch 308/750\n",
            "64000/64000 [==============================] - 4s 60us/step - loss: 0.6931 - acc: 0.5030\n",
            "Epoch 309/750\n",
            "59520/64000 [==========================>...] - ETA: 0s - loss: 0.6931 - acc: 0.5037"
          ],
          "name": "stdout"
        },
        {
          "output_type": "stream",
          "text": [
            "64000/64000 [==============================] - 4s 60us/step - loss: 0.6931 - acc: 0.5030\n",
            "Epoch 310/750\n",
            "64000/64000 [==============================] - 4s 60us/step - loss: 0.6931 - acc: 0.5030\n",
            "Epoch 311/750\n",
            "64000/64000 [==============================] - 4s 60us/step - loss: 0.6931 - acc: 0.5030\n",
            "Epoch 312/750\n",
            "64000/64000 [==============================] - 4s 60us/step - loss: 0.6931 - acc: 0.5030\n",
            "Epoch 313/750\n",
            "64000/64000 [==============================] - 4s 60us/step - loss: 0.6931 - acc: 0.5030\n",
            "Epoch 314/750\n",
            "60800/64000 [===========================>..] - ETA: 0s - loss: 0.6931 - acc: 0.5035"
          ],
          "name": "stdout"
        },
        {
          "output_type": "stream",
          "text": [
            "64000/64000 [==============================] - 4s 60us/step - loss: 0.6931 - acc: 0.5030\n",
            "Epoch 315/750\n",
            "64000/64000 [==============================] - 4s 60us/step - loss: 0.6931 - acc: 0.5030\n",
            "Epoch 316/750\n",
            "64000/64000 [==============================] - 4s 60us/step - loss: 0.6931 - acc: 0.5030\n",
            "Epoch 317/750\n",
            "64000/64000 [==============================] - 4s 60us/step - loss: 0.6931 - acc: 0.5030\n",
            "Epoch 318/750\n",
            "64000/64000 [==============================] - 4s 60us/step - loss: 0.6931 - acc: 0.5030\n",
            "Epoch 319/750\n",
            "62080/64000 [============================>.] - ETA: 0s - loss: 0.6931 - acc: 0.5033"
          ],
          "name": "stdout"
        },
        {
          "output_type": "stream",
          "text": [
            "64000/64000 [==============================] - 4s 60us/step - loss: 0.6931 - acc: 0.5030\n",
            "Epoch 320/750\n",
            "64000/64000 [==============================] - 4s 60us/step - loss: 0.6931 - acc: 0.5030\n",
            "Epoch 321/750\n",
            "64000/64000 [==============================] - 4s 60us/step - loss: 0.6931 - acc: 0.5030\n",
            "Epoch 322/750\n",
            "64000/64000 [==============================] - 4s 60us/step - loss: 0.6931 - acc: 0.5030\n",
            "Epoch 323/750\n",
            "64000/64000 [==============================] - 4s 61us/step - loss: 0.6931 - acc: 0.5030\n",
            "Epoch 324/750\n",
            "58880/64000 [==========================>...] - ETA: 0s - loss: 0.6931 - acc: 0.5040"
          ],
          "name": "stdout"
        },
        {
          "output_type": "stream",
          "text": [
            "64000/64000 [==============================] - 4s 60us/step - loss: 0.6931 - acc: 0.5030\n",
            "Epoch 325/750\n",
            "64000/64000 [==============================] - 4s 61us/step - loss: 0.6931 - acc: 0.5030\n",
            "Epoch 326/750\n",
            "64000/64000 [==============================] - 4s 60us/step - loss: 0.6931 - acc: 0.5030\n",
            "Epoch 327/750\n",
            "64000/64000 [==============================] - 4s 62us/step - loss: 0.6931 - acc: 0.5030\n",
            "Epoch 328/750\n",
            "64000/64000 [==============================] - 4s 61us/step - loss: 0.6931 - acc: 0.5030\n",
            "Epoch 329/750\n",
            "62080/64000 [============================>.] - ETA: 0s - loss: 0.6931 - acc: 0.5033"
          ],
          "name": "stdout"
        },
        {
          "output_type": "stream",
          "text": [
            "64000/64000 [==============================] - 4s 60us/step - loss: 0.6931 - acc: 0.5030\n",
            "Epoch 330/750\n",
            "64000/64000 [==============================] - 4s 61us/step - loss: 0.6931 - acc: 0.5030\n",
            "Epoch 331/750\n",
            "64000/64000 [==============================] - 4s 60us/step - loss: 0.6931 - acc: 0.5030\n",
            "Epoch 332/750\n",
            "27520/64000 [===========>..................] - ETA: 2s - loss: 0.6932 - acc: 0.5015"
          ],
          "name": "stdout"
        }
      ]
    },
    {
      "metadata": {
        "id": "yV6wXXnvPUz_",
        "colab_type": "code",
        "colab": {
          "autoexec": {
            "startup": false,
            "wait_interval": 0
          }
        }
      },
      "cell_type": "code",
      "source": [
        "\"\"\"\n",
        "Training data is shaped as a normal matrix\n",
        "[[0,1,1], [1,0,0], ..., [1,1,1]]\n",
        "\n",
        "The RNN cell takes as input a sequence of sequences,\n",
        "so to have a rnn sequence length of [# features] \n",
        "the data needs to be reshaped as\n",
        "[[[0],[1],[1]], [[1],[0],[0]], ..., [[1],[1],[1]]]\n",
        "\n",
        "(alternatively the data can be further split \n",
        " in more sub-array of sequences in the features)\n",
        "\"\"\"\n",
        "model = Sequential()\n",
        "model.add(layers.LSTM(10, batch_input_shape=(BATCH_SIZE, SIZE, 1), \n",
        "               kernel_initializer='random_uniform'))\n",
        "model.add(Dense(1, activation='sigmoid'))\n",
        "\n",
        "model_opt = optimizers.Adadelta(lr=0.5, rho=0.95, epsilon=None, decay=0.0)\n",
        "model.compile(optimizer=model_opt, loss='binary_crossentropy', metrics=['acc'])\n",
        "\n",
        "model.summary()\n",
        "history = model.fit(\n",
        "    # reshape training data in \n",
        "    Xtrain.reshape((len(Xtrain), SIZE, 1)),\n",
        "    Ytrain, epochs=350,\n",
        "    batch_size=BATCH_SIZE,\n",
        "    validation_split=0.1, \n",
        "    shuffle=False, verbose=True)\n",
        "#\n",
        "# Plotting output\n",
        "#\n",
        "loss = history.history['loss']\n",
        "val_loss = history.history['val_loss']\n",
        "epochs = range(1, len(loss) + 1)\n",
        "\n",
        "plt.figure()\n",
        "plt.plot(epochs, loss, 'bo', label='Training loss')\n",
        "plt.plot(epochs, val_loss, 'b', label='Validation loss')\n",
        "plt.title('Training and validation loss')\n",
        "plt.xlabel('Epochs')\n",
        "plt.ylabel('Loss')\n",
        "plt.legend()\n",
        "plt.figure()\n",
        "\n",
        "acc = history.history['acc']\n",
        "val_acc = history.history['val_acc']\n",
        "plt.plot(epochs, acc, 'bo', label='Training acc')\n",
        "plt.plot(epochs, val_acc, 'b', label='Validation acc')\n",
        "plt.title('Training and validation accuracy')\n",
        "plt.xlabel('Epochs')\n",
        "plt.ylabel('Accuracy')\n",
        "plt.legend()\n",
        "\n",
        "plt.show()\n",
        "preds = model.predict(Xtest.reshape((len(Xtest), SIZE, 1)), \n",
        "                      batch_size=BATCH_SIZE)\n",
        "preds = np.round(preds[:, 0]).astype('float32')\n",
        "acc = (np.sum(preds == Ytest) / len(Ytest)) * 100.\n",
        "print('Accuracy: {:.2f}%'.format(acc))"
      ],
      "execution_count": 0,
      "outputs": []
    },
    {
      "metadata": {
        "id": "4J6yHcCJPh0s",
        "colab_type": "code",
        "colab": {
          "autoexec": {
            "startup": false,
            "wait_interval": 0
          }
        }
      },
      "cell_type": "code",
      "source": [
        "j"
      ],
      "execution_count": 0,
      "outputs": []
    }
  ]
}