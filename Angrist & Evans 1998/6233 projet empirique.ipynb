{
 "cells": [
  {
   "cell_type": "markdown",
   "metadata": {},
   "source": [
    "# Paper Notes (Angrist & Evans, AER 1998)\n",
    "\n",
    "Hard to draw causal inference on fertility->labor suply since fertility is both dependent & exogenous. Robus negative correlations are found historically, though\n",
    "\n",
    "Angrist & Evans use a IVreg strategy. Parents prefer mixed siblings; same sex siblings increase likelihood of parents having another child. IV is dummy(first two children same sex). Previous literature tended to use first born twins as instruments; here we can compare estimates (note third born is older in sex-mix instrument)"
   ]
  },
  {
   "cell_type": "code",
   "execution_count": 1,
   "metadata": {
    "collapsed": false
   },
   "outputs": [],
   "source": [
    "# Import statistical libraries\n",
    "\n",
    "import pandas as pd\n",
    "import statsmodels.api as sm\n",
    "import statsmodels.formula.api as smf\n",
    "import numpy as np\n",
    "from numba import jit"
   ]
  },
  {
   "cell_type": "code",
   "execution_count": 110,
   "metadata": {
    "collapsed": false
   },
   "outputs": [],
   "source": [
    "# Import Data\n",
    "\n",
    "df = pd.read_stata('c:/users/matt/desktop/Projet Empirique/data_angrist_evans.dta')"
   ]
  },
  {
   "cell_type": "markdown",
   "metadata": {},
   "source": [
    "# Data cleanup"
   ]
  },
  {
   "cell_type": "code",
   "execution_count": 111,
   "metadata": {
    "collapsed": false
   },
   "outputs": [],
   "source": [
    "# Clean NA values on children dummy variables\n",
    "df['firstborn_male'] = df['firstborn_male'].fillna(0).astype(int)\n",
    "df['firstborn_fem'] = df['firstborn_fem'].fillna(0).astype(int)\n",
    "df['secondborn_male'] = df['secondborn_male'].fillna(0).astype(int)\n",
    "df['secondborn_fem'] = df['secondborn_fem'].fillna(0).astype(int)\n",
    "\n",
    "\n",
    "# Clean nonsensical data\n",
    "df = df[df['secondborn_male'] == (1-df['secondborn_fem'])]\n",
    "df = df[df['firstborn_male'] == (1-df['firstborn_fem'])]\n",
    "\n",
    "\n",
    "\n",
    "# Create dummy variables for two boys/girls\n",
    "df['two_boys'] = ((df['firstborn_male'] == 1) & (df['secondborn_male'] == 1)).astype(int)\n",
    "df['two_girls'] = ((df['firstborn_fem'] == 1) & (df['secondborn_fem'] == 1)).astype(int)\n",
    "\n",
    "# dummy variable for different gendered kids\n",
    "df['one_boy_one_girl'] = (((df['firstborn_male'] == 1) & (df['secondborn_fem'] == 1)) | \\\n",
    "                         ((df['firstborn_fem'] == 1) & (df['secondborn_male'] == 1))).astype(int)\n",
    "    \n",
    "####################\n",
    "# The Instrument   #\n",
    "####################\n",
    "    \n",
    "# Same sex instrument\n",
    "df['same_sex'] = (df['one_boy_one_girl'] == False).astype(int)\n",
    "\n",
    "\n",
    "# Change to integer valued data\n",
    "df['nchild'] = df['nchild'].replace('9+', 9).astype(int)\n",
    "df['eldch'] = df['eldch'].replace('Less than 1 year old', 1).astype(int)\n",
    "df['age'] = df['age'].astype(int)\n",
    "\n",
    "# more than two kids dummy\n",
    "df['>2'] = (df['nchild'] > 2).astype(int)\n",
    "\n",
    "# Worked for pay binary\n",
    "df['worked_for_pay'] = (df['wkswork2'] != 'N/A')\n",
    "    \n",
    "# Age @ First Birth\n",
    "df['AAFB'] = (df['age'] - df['eldch']).astype(int)\n",
    "\n",
    "\n",
    "# Race dummies\n",
    "df['black'] = (df['race'] == 'Black/Negro').astype(int)\n",
    "df['other_race'] = (df['race'] == 'Other race, nec').astype(int)\n",
    "\n",
    "# Mean based variable of weeks worked\n",
    "df['wkswork'] = \\\n",
    "df['wkswork2'].replace('N/A', 0)\\\n",
    "              .replace('1-13 weeks', 6.5)\\\n",
    "              .replace('14-26 weeks', 20.5)\\\n",
    "              .replace('27-39 weeks', 33.5)\\\n",
    "              .replace('40-47 weeks', 43.5)\\\n",
    "              .replace('48-49 weeks', 48.5)\\\n",
    "              .replace('50-52 weeks', 51)\n",
    "# Same as above for hours worked   \n",
    "df['hrswork'] = \\\n",
    "df['hrswork2'].replace('N/A', 0)\\\n",
    "              .replace('1-14 hours', 7)\\\n",
    "              .replace('15-29 hours', 22.5)\\\n",
    "              .replace('30-34 hours', 32.5)\\\n",
    "              .replace('35-39 hours', 37.5)\\\n",
    "              .replace('40 hours', 48.5)\\\n",
    "              .replace('41-48 hours', 45.5)\\\n",
    "              .replace('49-59 hours', 55)\\\n",
    "              .replace('60+ hours', 65)              \n",
    "# Mean based variable of years of schooling\n",
    "df['yrsshool'] = \\\n",
    "df['educ'].replace('N/A or no schooling', 0)\\\n",
    "              .replace('Nursery school to grade 4', 3)\\\n",
    "              .replace('Grade 5, 6, 7, or 8', 7)\\\n",
    "              .replace('Grade 9', 9)\\\n",
    "              .replace('Grade 10', 10)\\\n",
    "              .replace('Grade 11', 11)\\\n",
    "              .replace('Grade 12', 12)\\\n",
    "              .replace('1 year of college', 13)\\\n",
    "              .replace('2 years of college', 14)\\\n",
    "              .replace('4 years of college', 16)\\\n",
    "              .replace('5+ years of college', 18.5)\n",
    "\n",
    "# dataset subsampled on married women\n",
    "married = df[df['marst']  == \"Married, spouse present\"].append(df[df['marst']  == \"Married, spouse absent\"])"
   ]
  },
  {
   "cell_type": "markdown",
   "metadata": {},
   "source": [
    "# THE PROBLEM"
   ]
  },
  {
   "cell_type": "code",
   "execution_count": 91,
   "metadata": {
    "collapsed": false
   },
   "outputs": [
    {
     "data": {
      "text/plain": [
       "Index(['year', 'serial', 'subsamp', 'hhwt', 'region', 'statefip', 'urban',\n",
       "       'city', 'cntygp98', 'farm', 'mortgage', 'valueh', 'perwt', 'slwt',\n",
       "       'slrec', 'famsize', 'nchild', 'nchlt5', 'eldch', 'yngch', 'nsibs',\n",
       "       'sex', 'age', 'marst', 'birthyr', 'chborn', 'race', 'hispan', 'bpl',\n",
       "       'bpld', 'mbpl', 'mbpld', 'fbpl', 'fbpld', 'school', 'higrade',\n",
       "       'higraded', 'educ', 'educd', 'empstat', 'empstatd', 'labforce', 'occ',\n",
       "       'occ1990', 'ind', 'ind1990', 'classwkr', 'wkswork2', 'hrswork2',\n",
       "       'inctot', 'ftotinc', 'incwage', 'disabwrk', 'firstborn_male',\n",
       "       'firstborn_fem', 'secondborn_male', 'secondborn_fem', 'two_boys',\n",
       "       'two_girls', 'one_boy_one_girl', 'same_sex', '>2', 'worked_for_pay',\n",
       "       'AAFB', 'black', 'other_race', 'wkswork', 'hrswork', 'yrsshool'],\n",
       "      dtype='object')"
      ]
     },
     "execution_count": 91,
     "metadata": {},
     "output_type": "execute_result"
    }
   ],
   "source": [
    "df.columns"
   ]
  },
  {
   "cell_type": "markdown",
   "metadata": {},
   "source": [
    "# number 1"
   ]
  },
  {
   "cell_type": "code",
   "execution_count": 92,
   "metadata": {
    "collapsed": false
   },
   "outputs": [
    {
     "name": "stdout",
     "output_type": "stream",
     "text": [
      "-----ALL WOMEN-------\n",
      "n_child 2.5635 (0.8246)\n",
      "avg_first_boy 0.5168 (0.4997)\n",
      "avg_sec_boy 0.5164 (0.4997)\n",
      "two_boys 0.2684 (0.4431)\n",
      "two_girls 0.2352 (0.4241)\n",
      "same_sex 0.5036 (0.5000)\n",
      "age 30.4116 (3.4837)\n",
      "age @ first birth 21.6739 (3.8616)\n",
      "worked_for_pay 0.6679 (0.4710)\n",
      "wksworked 26.0169 (22.5353)\n",
      "hrsworked 20.6631 (21.7496)\n",
      "wage income 7292.0777 (10293.7682)\n",
      "family income 36077.2282 (27634.2942)\n",
      "non wife income 28785.1505 (25385.3384)\n"
     ]
    }
   ],
   "source": [
    "nchild = df['nchild'].astype(int)\n",
    "avg_first_boy = df['firstborn_male']\n",
    "avg_sec_boy = df['secondborn_male']\n",
    "two_boys = df['two_boys']\n",
    "two_girls = df['two_girls']\n",
    "same_sex = df['same_sex']\n",
    "age = df['age'].astype(int)\n",
    "AAFB = (df['age'].astype(int) - df['eldch'])\n",
    "worked_for_pay = df['worked_for_pay']\n",
    "weeks_worked = df['wkswork']\n",
    "hours_worked = df['hrswork']\n",
    "wage_income = df['incwage']\n",
    "family_income = df['ftotinc']\n",
    "non_wife_income = (df['ftotinc'] - df['incwage'])\n",
    "\n",
    "\n",
    "print('-----ALL WOMEN-------')\n",
    "print('n_child %.4f' %nchild.mean(), \"(%.4f)\" %nchild.std())\n",
    "print('avg_first_boy %.4f' %avg_first_boy.mean(), \"(%.4f)\" %avg_first_boy.std())\n",
    "print('avg_sec_boy %.4f' %avg_sec_boy.mean(), \"(%.4f)\" %avg_sec_boy.std())\n",
    "print('two_boys %.4f' %two_boys.mean(), \"(%.4f)\" %two_boys.std())\n",
    "print('two_girls %.4f' %two_girls.mean(), \"(%.4f)\" %two_girls.std())\n",
    "print('same_sex %.4f' %same_sex.mean(), \"(%.4f)\" %same_sex.std())\n",
    "print('age %.4f' %age.mean(), \"(%.4f)\" %age.std())\n",
    "print('age @ first birth %.4f' %AAFB.mean(), \"(%.4f)\" %AAFB.std())\n",
    "print('worked_for_pay %.4f' %worked_for_pay.mean(), \"(%.4f)\" %worked_for_pay.std())\n",
    "print('wksworked %.4f' %weeks_worked.mean(), \"(%.4f)\" %weeks_worked.std())\n",
    "print('hrsworked %.4f' %hours_worked.mean(), \"(%.4f)\" %hours_worked.std())\n",
    "print('wage income %.4f' %wage_income.mean(), \"(%.4f)\" %wage_income.std())\n",
    "print('family income %.4f' % family_income.mean(), \"(%.4f)\" %family_income.std())\n",
    "print('non wife income %.4f' % non_wife_income.mean(), \"(%.4f)\" %non_wife_income.std())"
   ]
  },
  {
   "cell_type": "code",
   "execution_count": 93,
   "metadata": {
    "collapsed": false
   },
   "outputs": [
    {
     "name": "stdout",
     "output_type": "stream",
     "text": [
      "------MARRIED WOMEN--------\n",
      "n_child 2.4984 (0.7894)\n",
      "avg_first_boy 0.5186 (0.4997)\n",
      "avg_sec_boy 0.5167 (0.4997)\n",
      "two_boys 0.2692 (0.4435)\n",
      "two_girls 0.2339 (0.4233)\n",
      "same_sex 0.5031 (0.5000)\n",
      "age 30.4693 (3.4596)\n",
      "age @ first birth 21.9151 (3.8462)\n",
      "worked_for_pay 0.6775 (0.4675)\n",
      "wksworked 26.4958 (22.4849)\n",
      "hrsworked 21.0321 (21.7158)\n",
      "wage income 7465.0125 (10420.7064)\n",
      "family income 38350.9613 (27518.9143)\n",
      "non wife income 30885.9489 (25336.9734)\n"
     ]
    }
   ],
   "source": [
    "nchild = married['nchild'].astype(int)\n",
    "avg_first_boy = married['firstborn_male']\n",
    "avg_sec_boy = married['secondborn_male']\n",
    "two_boys = married['two_boys']\n",
    "two_girls = married['two_girls']\n",
    "same_sex = married['same_sex']\n",
    "age = married['age'].astype(int)\n",
    "AAFB = (married['age'].astype(int) - married['eldch'])\n",
    "worked_for_pay = married['worked_for_pay']\n",
    "weeks_worked = married['wkswork']\n",
    "hours_worked = married['hrswork']\n",
    "wage_income = married['incwage']\n",
    "family_income = married['ftotinc']\n",
    "non_wife_income = (married['ftotinc'] - married['incwage'])\n",
    "\n",
    "\n",
    "print('------MARRIED WOMEN--------')\n",
    "print('n_child %.4f' %nchild.mean(), \"(%.4f)\" %nchild.std())\n",
    "print('avg_first_boy %.4f' %avg_first_boy.mean(), \"(%.4f)\" %avg_first_boy.std())\n",
    "print('avg_sec_boy %.4f' %avg_sec_boy.mean(), \"(%.4f)\" %avg_sec_boy.std())\n",
    "print('two_boys %.4f' %two_boys.mean(), \"(%.4f)\" %two_boys.std())\n",
    "print('two_girls %.4f' %two_girls.mean(), \"(%.4f)\" %two_girls.std())\n",
    "print('same_sex %.4f' %same_sex.mean(), \"(%.4f)\" %same_sex.std())\n",
    "print('age %.4f' %age.mean(), \"(%.4f)\" %age.std())\n",
    "print('age @ first birth %.4f' %AAFB.mean(), \"(%.4f)\" %AAFB.std())\n",
    "print('worked_for_pay %.4f' %worked_for_pay.mean(), \"(%.4f)\" %worked_for_pay.std())\n",
    "print('wksworked %.4f' %weeks_worked.mean(), \"(%.4f)\" %weeks_worked.std())\n",
    "print('hrsworked %.4f' %hours_worked.mean(), \"(%.4f)\" %hours_worked.std())\n",
    "print('wage income %.4f' %wage_income.mean(), \"(%.4f)\" %wage_income.std())\n",
    "print('family income %.4f' % family_income.mean(), \"(%.4f)\" %family_income.std())\n",
    "print('non wife income %.4f' % non_wife_income.mean(), \"(%.4f)\" %non_wife_income.std())"
   ]
  },
  {
   "cell_type": "markdown",
   "metadata": {},
   "source": [
    "# Number 2"
   ]
  },
  {
   "cell_type": "code",
   "execution_count": 94,
   "metadata": {
    "collapsed": false
   },
   "outputs": [
    {
     "name": "stdout",
     "output_type": "stream",
     "text": [
      "fraction of one of each that had other child 0.3793  (0.4852)\n",
      "fraction of two boys that had other child 0.4331  (0.4955)\n",
      "fraction of two girls that had other child 0.4410  (0.4965)\n",
      "Difference 0.0617  (nan)\n"
     ]
    }
   ],
   "source": [
    "one_one = df[df['one_boy_one_girl'] == True]['>2']\n",
    "\n",
    "two_boys_had_other =  df[df['two_boys'] == 1]['>2']\n",
    "\n",
    "two_girls_had_other =  df[df['two_girls'] == 1]['>2']\n",
    "    \n",
    "print(\"fraction of one of each that had other child %.4f\" % one_one.mean(), ' (%.4f)' %one_one.std())\n",
    "print(\"fraction of two boys that had other child %.4f\" % two_boys_had_other.mean(),  ' (%.4f)' %two_boys_had_other.std())\n",
    "print(\"fraction of two girls that had other child %.4f\" % two_girls_had_other.mean(),  ' (%.4f)' %two_girls_had_other.std())\n",
    "print(\"Difference %.4f\" % (df[df['two_girls'] == 1]['>2'].mean() - one_one.mean()),  ' (%.4f)' %\n",
    "                             (df[df['two_girls'] == 1]['>2'] - one_one).std())"
   ]
  },
  {
   "cell_type": "markdown",
   "metadata": {},
   "source": [
    "# Number 3"
   ]
  },
  {
   "cell_type": "code",
   "execution_count": 95,
   "metadata": {
    "collapsed": false
   },
   "outputs": [
    {
     "name": "stdout",
     "output_type": "stream",
     "text": [
      "-------Differences in means------\n",
      "Age -0.0127\n",
      "Age @ first birth -0.0644\n",
      "Black 0.0015\n",
      "White 0.0025\n",
      "Other race 0.0020\n",
      "years edu -0.0319\n"
     ]
    }
   ],
   "source": [
    "diff_sex = df[df['one_boy_one_girl'] == True]\n",
    "same_sex = df[df['same_sex'] == True]\n",
    "\n",
    "age_diff = (same_sex['age'].astype(int).mean() - diff_sex['age'].astype(int).mean())\n",
    "AAFB = (same_sex['age'].astype(int) - same_sex['eldch']).mean() - \\\n",
    "       (diff_sex['age'].astype(int) - diff_sex['eldch']).mean()\n",
    "yrs = same_sex['yrsshool'].astype(int).mean() - diff_sex['yrsshool'].astype(int).mean()\n",
    "black = ( len(same_sex[same_sex['race'] == 'Black/Negro']) / len(df) ) - \\\n",
    "        ( len(diff_sex[diff_sex['race'] == 'Black/Negro']) / len(df) )\n",
    "white = ( len(same_sex[same_sex['race'] == 'White']) / len(df) ) - \\\n",
    "        ( len(diff_sex[diff_sex['race'] == 'White']) / len(df) )\n",
    "other = ( len(same_sex[same_sex['race'] == 'Other race, nec']) / len(df) ) - \\\n",
    "        ( len(diff_sex[diff_sex['race'] == 'Other race, nec']) / len(df) )\n",
    "\n",
    "print(\"-------Differences in means------\")\n",
    "print(\"Age %.4f\" % age_diff)\n",
    "print(\"Age @ first birth %.4f\" % AAFB)\n",
    "print(\"Black %.4f\" % black)\n",
    "print(\"White %.4f\"% white)\n",
    "print('Other race %.4f' % other)\n",
    "print('years edu %.4f'% yrs)"
   ]
  },
  {
   "cell_type": "markdown",
   "metadata": {},
   "source": [
    "Instrument critique: effect is LATE on people whos likelihood of getting an additional child is increased by having children with same sex first two children. \n",
    "\n",
    "Possible other instruments: twins (as before), infant with disability (grave mental or physical handicap), possible change in technology in discovering infant with disability, etc."
   ]
  },
  {
   "cell_type": "markdown",
   "metadata": {},
   "source": [
    "# Number 4"
   ]
  },
  {
   "cell_type": "code",
   "execution_count": 96,
   "metadata": {
    "collapsed": false
   },
   "outputs": [
    {
     "name": "stdout",
     "output_type": "stream",
     "text": [
      "Number of children diff 0.0746\n",
      ">2 children diff 0.0575\n",
      "----Difference-------------------Wald >2 Child----------Wald # Child-\n",
      "Worked for Pay 0.0030             0.0526              0.0405\n",
      "Weeks worked   0.1788             3.1122              2.3974\n",
      "Hours worked   -0.1048             -1.8232              -1.4045\n",
      "total income   57.985             1009.2              777.4\n",
      "ln fam income  -0.0027             -0.0464              -0.0358\n"
     ]
    }
   ],
   "source": [
    "@jit(nopython=True)\n",
    "def safeln(x):\n",
    "    ret = np.zeros(len(x))\n",
    "    for i in range(len(x)):\n",
    "        if x[i] <= 0:\n",
    "            continue\n",
    "        else:\n",
    "            ret[i] = np.log(x[i])\n",
    "    return ret\n",
    "\n",
    "\n",
    "# The two X variables\n",
    "waldxn =  same_sex['nchild'].mean() - diff_sex['nchild'].mean()\n",
    "waldx = same_sex['>2'].mean() - diff_sex['>2'].mean()\n",
    "\n",
    "\n",
    "wfp = same_sex['worked_for_pay'].mean() - diff_sex['worked_for_pay'].mean()\n",
    "\n",
    "wwork = same_sex['wkswork'].mean() - diff_sex['wkswork'].mean()\n",
    "\n",
    "hwork = same_sex['hrswork'].mean() - diff_sex['hrswork'].mean()\n",
    "\n",
    "linc = same_sex['inctot'].mean() - diff_sex['inctot'].mean()\n",
    "\n",
    "lnfam = safeln(np.array(same_sex['ftotinc'])).mean() - safeln(np.array(diff_sex['ftotinc'])).mean()\n",
    "\n",
    "\n",
    "print(\"Number of children diff %.4f\" %waldxn)\n",
    "print(\">2 children diff %.4f\" %waldx)\n",
    "print(\"----Difference-------------------Wald >2 Child----------Wald # Child-\")\n",
    "print(\"Worked for Pay %.4f\" %wfp, \"            %.4f\"%(wfp/waldx), \"             %.4f\"%(wfp/waldxn))\n",
    "print(\"Weeks worked   %.4f\" %wwork, \"            %.4f\"%(wwork/waldx), \"             %.4f\"%(wwork/waldxn))\n",
    "print(\"Hours worked   %.4f\" %hwork, \"            %.4f\"%(hwork/waldx), \"             %.4f\"%(hwork/waldxn))\n",
    "print(\"total income   %.3f\" %linc, \"            %.1f\"%(linc/waldx), \"             %.1f\"%(linc/waldxn))\n",
    "print(\"ln fam income  %.4f\" %lnfam, \"            %.4f\"%(lnfam/waldx), \"             %.4f\"%(lnfam/waldxn))"
   ]
  },
  {
   "cell_type": "markdown",
   "metadata": {},
   "source": [
    "# Number 5\n",
    "\n",
    "**Table 6**"
   ]
  },
  {
   "cell_type": "code",
   "execution_count": 97,
   "metadata": {
    "collapsed": false,
    "scrolled": true
   },
   "outputs": [],
   "source": [
    "X1 = sm.add_constant(df['same_sex'])\n",
    "t61 = sm.OLS(df['>2'], X1).fit()\n",
    "\n",
    "X2 = sm.add_constant(df[['firstborn_male', 'secondborn_male', 'age',\\\n",
    "                         'same_sex', 'AAFB', 'black', 'other_race']])\n",
    "t62 = sm.OLS(df['>2'], X2).fit()\n",
    "\n",
    "X3 = sm.add_constant(df[['firstborn_male','two_boys', 'two_girls',\\\n",
    "                          'age', 'AAFB', 'black', 'other_race']])\n",
    "t63 = sm.OLS(df['>2'], X3).fit()\n",
    "\n",
    "X4 = sm.add_constant(married['same_sex'])\n",
    "t64 = sm.OLS(married['>2'], X4).fit()\n",
    "\n",
    "X5 = sm.add_constant(married[['firstborn_male', 'secondborn_male', 'age',\\\n",
    "                              'same_sex', 'AAFB', 'black', 'other_race']])\n",
    "t65 = sm.OLS(married['>2'], X5).fit()\n",
    "\n",
    "X6 = sm.add_constant(married[['firstborn_male','two_boys', 'two_girls',\\\n",
    "                              'age', 'AAFB', 'black', 'other_race']])\n",
    "t66 = sm.OLS(married['>2'], X6).fit()"
   ]
  },
  {
   "cell_type": "markdown",
   "metadata": {},
   "source": [
    "# Number 6\n",
    "\n",
    "**Table 7**"
   ]
  },
  {
   "cell_type": "code",
   "execution_count": 98,
   "metadata": {
    "collapsed": false
   },
   "outputs": [],
   "source": [
    "X = sm.add_constant(df[['firstborn_male', 'secondborn_male', 'age',\\\n",
    "        'AAFB', 'black', 'other_race']])\n",
    "\n",
    "lninc = safeln(np.array(df['ftotinc']))\n",
    "\n",
    "# table 7 (1) estimates\n",
    "\n",
    "X1 = X\n",
    "X1['>2'] = df['>2']\n",
    "t711 = sm.OLS(df['worked_for_pay'], X1).fit()\n",
    "t712 = sm.OLS(df['wkswork'], X1).fit()\n",
    "t713 = sm.OLS(df['hrswork'], X1).fit()\n",
    "t714 = sm.OLS(df['inctot'], X1).fit()\n",
    "t715 = sm.OLS(lninc, X1).fit()\n",
    "\n",
    "# table 7 (2) estimates\n",
    "\n",
    "X1 = X\n",
    "X1['>2'] = t62.predict()\n",
    "t721 = sm.OLS(df['worked_for_pay'], X1).fit()\n",
    "t722 = sm.OLS(df['wkswork'], X1).fit()\n",
    "t723 = sm.OLS(df['hrswork'], X1).fit()\n",
    "t724 = sm.OLS(df['inctot'], X1).fit()\n",
    "t725 = sm.OLS(lninc, X1).fit()\n",
    "\n",
    "# table 7 (3) estimates\n",
    "\n",
    "X1 = X\n",
    "X1['>2'] = t63.predict()\n",
    "t731 = sm.OLS(df['worked_for_pay'], X1).fit()\n",
    "t732 = sm.OLS(df['wkswork'], X1).fit()\n",
    "t733 = sm.OLS(df['hrswork'], X1).fit()\n",
    "t734 = sm.OLS(df['inctot'], X1).fit()\n",
    "t735 = sm.OLS(lninc, X1).fit()"
   ]
  },
  {
   "cell_type": "code",
   "execution_count": 99,
   "metadata": {
    "collapsed": true
   },
   "outputs": [],
   "source": [
    "X = sm.add_constant(married[['firstborn_male', 'secondborn_male', 'age',\\\n",
    "        'AAFB', 'black', 'other_race']])\n",
    "\n",
    "lninc = safeln(np.array(married['ftotinc']))\n",
    "\n",
    "# table 7 (4) estimates\n",
    "\n",
    "X1 = X\n",
    "X1['>2'] = df['>2']\n",
    "t741 = sm.OLS(married['worked_for_pay'], X1).fit()\n",
    "t742 = sm.OLS(married['wkswork'], X1).fit()\n",
    "t743 = sm.OLS(married['hrswork'], X1).fit()\n",
    "t744 = sm.OLS(married['inctot'], X1).fit()\n",
    "t745 = sm.OLS(lninc, X1).fit()\n",
    "\n",
    "# table 7 (5) estimates\n",
    "\n",
    "X1 = X\n",
    "X1['>2'] = t65.predict()\n",
    "t751 = sm.OLS(married['worked_for_pay'], X1).fit()\n",
    "t752 = sm.OLS(married['wkswork'], X1).fit()\n",
    "t753 = sm.OLS(married['hrswork'], X1).fit()\n",
    "t754 = sm.OLS(married['inctot'], X1).fit()\n",
    "t755 = sm.OLS(lninc, X1).fit()\n",
    "\n",
    "# table 7 (6) estimates\n",
    "\n",
    "X1 = X\n",
    "X1['>2'] = t66.predict()\n",
    "t761 = sm.OLS(married['worked_for_pay'], X1).fit()\n",
    "t762 = sm.OLS(married['wkswork'], X1).fit()\n",
    "t763 = sm.OLS(married['hrswork'], X1).fit()\n",
    "t764 = sm.OLS(married['inctot'], X1).fit()\n",
    "t765 = sm.OLS(lninc, X1).fit()"
   ]
  },
  {
   "cell_type": "code",
   "execution_count": 109,
   "metadata": {
    "collapsed": false,
    "scrolled": false
   },
   "outputs": [
    {
     "data": {
      "text/html": [
       "<table class=\"simpletable\">\n",
       "<caption>OLS Regression Results</caption>\n",
       "<tr>\n",
       "  <th>Dep. Variable:</th>     <td>worked_for_pay</td>  <th>  R-squared:         </th> <td>   0.011</td> \n",
       "</tr>\n",
       "<tr>\n",
       "  <th>Model:</th>                   <td>OLS</td>       <th>  Adj. R-squared:    </th> <td>   0.011</td> \n",
       "</tr>\n",
       "<tr>\n",
       "  <th>Method:</th>             <td>Least Squares</td>  <th>  F-statistic:       </th> <td>   70.24</td> \n",
       "</tr>\n",
       "<tr>\n",
       "  <th>Date:</th>             <td>Mon, 03 Apr 2017</td> <th>  Prob (F-statistic):</th> <td>1.86e-101</td>\n",
       "</tr>\n",
       "<tr>\n",
       "  <th>Time:</th>                 <td>23:21:56</td>     <th>  Log-Likelihood:    </th> <td> -29262.</td> \n",
       "</tr>\n",
       "<tr>\n",
       "  <th>No. Observations:</th>      <td> 44305</td>      <th>  AIC:               </th> <td>5.854e+04</td>\n",
       "</tr>\n",
       "<tr>\n",
       "  <th>Df Residuals:</th>          <td> 44297</td>      <th>  BIC:               </th> <td>5.861e+04</td>\n",
       "</tr>\n",
       "<tr>\n",
       "  <th>Df Model:</th>              <td>     7</td>      <th>                     </th>     <td> </td>    \n",
       "</tr>\n",
       "<tr>\n",
       "  <th>Covariance Type:</th>      <td>nonrobust</td>    <th>                     </th>     <td> </td>    \n",
       "</tr>\n",
       "</table>\n",
       "<table class=\"simpletable\">\n",
       "<tr>\n",
       "         <td></td>            <th>coef</th>     <th>std err</th>      <th>t</th>      <th>P>|t|</th> <th>[95.0% Conf. Int.]</th> \n",
       "</tr>\n",
       "<tr>\n",
       "  <th>const</th>           <td>    0.3615</td> <td>    0.047</td> <td>    7.619</td> <td> 0.000</td> <td>    0.269     0.455</td>\n",
       "</tr>\n",
       "<tr>\n",
       "  <th>firstborn_male</th>  <td>    0.0014</td> <td>    0.005</td> <td>    0.309</td> <td> 0.758</td> <td>   -0.008     0.010</td>\n",
       "</tr>\n",
       "<tr>\n",
       "  <th>secondborn_male</th> <td>   -0.0033</td> <td>    0.004</td> <td>   -0.751</td> <td> 0.453</td> <td>   -0.012     0.005</td>\n",
       "</tr>\n",
       "<tr>\n",
       "  <th>age</th>             <td>    0.0115</td> <td>    0.003</td> <td>    4.588</td> <td> 0.000</td> <td>    0.007     0.016</td>\n",
       "</tr>\n",
       "<tr>\n",
       "  <th>AAFB</th>            <td>   -0.0029</td> <td>    0.004</td> <td>   -0.739</td> <td> 0.460</td> <td>   -0.011     0.005</td>\n",
       "</tr>\n",
       "<tr>\n",
       "  <th>black</th>           <td>    0.0078</td> <td>    0.016</td> <td>    0.505</td> <td> 0.614</td> <td>   -0.023     0.038</td>\n",
       "</tr>\n",
       "<tr>\n",
       "  <th>other_race</th>      <td>   -0.1101</td> <td>    0.014</td> <td>   -7.741</td> <td> 0.000</td> <td>   -0.138    -0.082</td>\n",
       "</tr>\n",
       "<tr>\n",
       "  <th>>2</th>              <td>    0.0590</td> <td>    0.082</td> <td>    0.721</td> <td> 0.471</td> <td>   -0.101     0.219</td>\n",
       "</tr>\n",
       "</table>\n",
       "<table class=\"simpletable\">\n",
       "<tr>\n",
       "  <th>Omnibus:</th>       <td>2988.148</td> <th>  Durbin-Watson:     </th> <td>   1.947</td>\n",
       "</tr>\n",
       "<tr>\n",
       "  <th>Prob(Omnibus):</th>  <td> 0.000</td>  <th>  Jarque-Bera (JB):  </th> <td>7560.138</td>\n",
       "</tr>\n",
       "<tr>\n",
       "  <th>Skew:</th>           <td>-0.702</td>  <th>  Prob(JB):          </th> <td>    0.00</td>\n",
       "</tr>\n",
       "<tr>\n",
       "  <th>Kurtosis:</th>       <td> 1.543</td>  <th>  Cond. No.          </th> <td>1.59e+03</td>\n",
       "</tr>\n",
       "</table>"
      ],
      "text/plain": [
       "<class 'statsmodels.iolib.summary.Summary'>\n",
       "\"\"\"\n",
       "                            OLS Regression Results                            \n",
       "==============================================================================\n",
       "Dep. Variable:         worked_for_pay   R-squared:                       0.011\n",
       "Model:                            OLS   Adj. R-squared:                  0.011\n",
       "Method:                 Least Squares   F-statistic:                     70.24\n",
       "Date:                Mon, 03 Apr 2017   Prob (F-statistic):          1.86e-101\n",
       "Time:                        23:21:56   Log-Likelihood:                -29262.\n",
       "No. Observations:               44305   AIC:                         5.854e+04\n",
       "Df Residuals:                   44297   BIC:                         5.861e+04\n",
       "Df Model:                           7                                         \n",
       "Covariance Type:            nonrobust                                         \n",
       "===================================================================================\n",
       "                      coef    std err          t      P>|t|      [95.0% Conf. Int.]\n",
       "-----------------------------------------------------------------------------------\n",
       "const               0.3615      0.047      7.619      0.000         0.269     0.455\n",
       "firstborn_male      0.0014      0.005      0.309      0.758        -0.008     0.010\n",
       "secondborn_male    -0.0033      0.004     -0.751      0.453        -0.012     0.005\n",
       "age                 0.0115      0.003      4.588      0.000         0.007     0.016\n",
       "AAFB               -0.0029      0.004     -0.739      0.460        -0.011     0.005\n",
       "black               0.0078      0.016      0.505      0.614        -0.023     0.038\n",
       "other_race         -0.1101      0.014     -7.741      0.000        -0.138    -0.082\n",
       ">2                  0.0590      0.082      0.721      0.471        -0.101     0.219\n",
       "==============================================================================\n",
       "Omnibus:                     2988.148   Durbin-Watson:                   1.947\n",
       "Prob(Omnibus):                  0.000   Jarque-Bera (JB):             7560.138\n",
       "Skew:                          -0.702   Prob(JB):                         0.00\n",
       "Kurtosis:                       1.543   Cond. No.                     1.59e+03\n",
       "==============================================================================\n",
       "\n",
       "Warnings:\n",
       "[1] Standard Errors assume that the covariance matrix of the errors is correctly specified.\n",
       "[2] The condition number is large, 1.59e+03. This might indicate that there are\n",
       "strong multicollinearity or other numerical problems.\n",
       "\"\"\""
      ]
     },
     "execution_count": 109,
     "metadata": {},
     "output_type": "execute_result"
    }
   ],
   "source": [
    "t731.summary()"
   ]
  },
  {
   "cell_type": "markdown",
   "metadata": {
    "collapsed": true
   },
   "source": [
    "# Number 7"
   ]
  },
  {
   "cell_type": "code",
   "execution_count": null,
   "metadata": {
    "collapsed": true
   },
   "outputs": [],
   "source": []
  }
 ],
 "metadata": {
  "kernelspec": {
   "display_name": "Python [conda root]",
   "language": "python",
   "name": "conda-root-py"
  },
  "language_info": {
   "codemirror_mode": {
    "name": "ipython",
    "version": 3
   },
   "file_extension": ".py",
   "mimetype": "text/x-python",
   "name": "python",
   "nbconvert_exporter": "python",
   "pygments_lexer": "ipython3",
   "version": "3.5.2"
  }
 },
 "nbformat": 4,
 "nbformat_minor": 2
}
