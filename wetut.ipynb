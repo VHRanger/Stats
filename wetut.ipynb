{
 "cells": [
  {
   "cell_type": "code",
   "execution_count": null,
   "metadata": {},
   "outputs": [],
   "source": [
    "###\n",
    "#import sys\n",
    "#!{sys.executable} -m pip install gensim"
   ]
  },
  {
   "cell_type": "code",
   "execution_count": 1,
   "metadata": {},
   "outputs": [
    {
     "name": "stderr",
     "output_type": "stream",
     "text": [
      "C:\\ProgramData\\Anaconda3\\lib\\site-packages\\gensim\\utils.py:1209: UserWarning: detected Windows; aliasing chunkize to chunkize_serial\n",
      "  warnings.warn(\"detected Windows; aliasing chunkize to chunkize_serial\")\n"
     ]
    }
   ],
   "source": [
    "import gensim # This is outside the anaconda distribution\n",
    "import gensim.downloader as model_api"
   ]
  },
  {
   "cell_type": "code",
   "execution_count": 2,
   "metadata": {},
   "outputs": [],
   "source": [
    "# Load pretrained word embeddings\n",
    "word_vectors = model_api.load(\"glove-wiki-gigaword-100\")"
   ]
  },
  {
   "cell_type": "markdown",
   "metadata": {},
   "source": [
    "Little Proof of concept on word embeddings:\n",
    "\n",
    "Here we do $ (Paris - France) + Russia = ?$"
   ]
  },
  {
   "cell_type": "code",
   "execution_count": 3,
   "metadata": {},
   "outputs": [
    {
     "data": {
      "text/plain": [
       "[('moscow', 0.9891988039016724),\n",
       " ('kiev', 0.8838174939155579),\n",
       " ('kremlin', 0.8804673552513123),\n",
       " ('petersburg', 0.8791806101799011),\n",
       " ('russian', 0.8747968673706055),\n",
       " ('tokyo', 0.8608582019805908),\n",
       " ('vienna', 0.8569414019584656),\n",
       " ('putin', 0.8495265245437622),\n",
       " ('beijing', 0.8416611552238464),\n",
       " ('helsinki', 0.8302452564239502)]"
      ]
     },
     "execution_count": 3,
     "metadata": {},
     "output_type": "execute_result"
    }
   ],
   "source": [
    "word_vectors.most_similar_cosmul(positive=['paris', 'russia'], negative=['france'])"
   ]
  },
  {
   "cell_type": "code",
   "execution_count": 4,
   "metadata": {},
   "outputs": [
    {
     "data": {
      "text/plain": [
       "[('queen', 0.896455705165863),\n",
       " ('monarch', 0.8495979309082031),\n",
       " ('throne', 0.8447030782699585),\n",
       " ('princess', 0.8371669054031372),\n",
       " ('elizabeth', 0.8356794714927673),\n",
       " ('daughter', 0.8348595499992371),\n",
       " ('prince', 0.8230059742927551),\n",
       " ('mother', 0.8154449462890625),\n",
       " ('margaret', 0.8147734999656677),\n",
       " ('father', 0.8100854158401489)]"
      ]
     },
     "execution_count": 4,
     "metadata": {},
     "output_type": "execute_result"
    }
   ],
   "source": [
    "word_vectors.most_similar_cosmul(positive=['king', 'woman'], negative=['man'])"
   ]
  },
  {
   "cell_type": "code",
   "execution_count": null,
   "metadata": {},
   "outputs": [],
   "source": []
  }
 ],
 "metadata": {
  "kernelspec": {
   "display_name": "Python 3",
   "language": "python",
   "name": "python3"
  },
  "language_info": {
   "codemirror_mode": {
    "name": "ipython",
    "version": 3
   },
   "file_extension": ".py",
   "mimetype": "text/x-python",
   "name": "python",
   "nbconvert_exporter": "python",
   "pygments_lexer": "ipython3",
   "version": "3.6.5"
  }
 },
 "nbformat": 4,
 "nbformat_minor": 2
}
