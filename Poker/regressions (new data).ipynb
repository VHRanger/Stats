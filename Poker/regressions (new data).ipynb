{
 "cells": [
  {
   "cell_type": "code",
   "execution_count": 2,
   "metadata": {},
   "outputs": [],
   "source": [
    "import matplotlib.pyplot as plt\n",
    "import numpy as np\n",
    "import pandas as pd\n",
    "import statsmodels.formula.api as smf\n",
    "import statsmodels.api as sm\n",
    "#import linearmodels as lms # Panel models\n",
    "from statsmodels.tsa.stattools import adfuller\n",
    "from numba import jit\n",
    "import datetime\n",
    "%matplotlib inline"
   ]
  },
  {
   "cell_type": "markdown",
   "metadata": {},
   "source": [
    "# Read and clean data\n",
    "\n",
    "This data is all hands played on each hour on the site restricted to subsets where either a player played both before and during shock or during and after."
   ]
  },
  {
   "cell_type": "code",
   "execution_count": 404,
   "metadata": {},
   "outputs": [],
   "source": [
    "# Full Sample (old)\n",
    "#sessions_full = pd.read_csv('c:/users/matt/desktop/poker paper/sessions full sample.csv')\n",
    "# Sample on ephemeral players only\n",
    "#sessions = pd.read_csv('c:/users/matt/desktop/poker paper/suckers.csv')\n",
    "# Regular players\n",
    "#sessions = pd.read_csv('c:/users/matt/desktop/poker paper/sessions_prepared.csv')\n",
    "\n",
    "sessions = pd.read_csv('c:/users/matt/desktop/poker paper/opponents.csv')\n",
    "\n",
    "sessions = sessions.drop('Unnamed: 0', 1).drop(sessions.loc[:, 'Time^2':'logminutes'], 1)\n",
    "sessions['Session Start'] = pd.to_datetime(sessions['Session Start'])\n",
    "\n",
    "sessions['wage'] = (sessions['My C Won']/sessions['Minutes'])*60\n",
    "sessions['BB call EV'] = (sessions['BB vs SB call won (bb)']/sessions['BB vs SB call cnt'])\n",
    "sessions['BB 3b EV'] = (sessions['won when 3bet pre']/sessions['BB vs SB 3b cnt'])\\\n",
    "                        .replace([np.inf, -np.inf], np.nan).fillna(0.0)\n",
    "sessions['BB continue EV'] =((sessions['BB vs SB call won (bb)'] + sessions['won when 3bet pre'])\\\n",
    "                            /(sessions['BB vs SB 3b cnt'] + sessions['BB vs SB call cnt']))\\\n",
    "                            .replace([np.inf, -np.inf], np.nan).fillna(0.0)"
   ]
  },
  {
   "cell_type": "code",
   "execution_count": 405,
   "metadata": {
    "collapsed": true
   },
   "outputs": [],
   "source": [
    "#\n",
    "#\n",
    "#\n",
    "# Hands/minutes/sessions since treat\n",
    "#\n",
    "#\n",
    "#\n"
   ]
  },
  {
   "cell_type": "code",
   "execution_count": 406,
   "metadata": {
    "collapsed": true
   },
   "outputs": [],
   "source": [
    "# set subsample!\n",
    "#\n",
    "#\n",
    "sessions = sessions[sessions['ephemeral'] != 1]\n",
    "sessions = sessions[sessions['t_cluster'] == 1]\n",
    "#sessions = sessions[sessions['BB vs SB call cnt'] > 0]\n",
    "#\n",
    "#\n",
    "#panel = sessions.set_index(['Session Start', 'Player'])\n",
    "\n",
    "#daily_sessions = sessions.groupby(sessions.set_index('Session Start').index.date).mean()\n",
    "#plt.plot(daily_sessions['My C Won'])"
   ]
  },
  {
   "cell_type": "code",
   "execution_count": 407,
   "metadata": {
    "collapsed": true
   },
   "outputs": [],
   "source": [
    "hourly = sessions.copy(deep=True)\n",
    "hourly = hourly.drop(sessions.loc[:, 'Fold BB v SB':'during/after'], 1)\\\n",
    "                 .drop(sessions.loc[:, 'Time':'Time'], 1)\n",
    "\n",
    "daily = sessions.copy(deep=True)\n",
    "daily = daily.drop(sessions.loc[:, 'Fold BB v SB':'during/after'], 1)\\\n",
    "                 .drop(sessions.loc[:,'Midnight':'Time'], 1) \n",
    "\n",
    "hourly = hourly.set_index('Session Start')\n",
    "daily = daily.set_index('Session Start')\n",
    "daily_avg = daily.groupby(pd.TimeGrouper('1440Min')).mean()\n",
    "hourly_avg = hourly.groupby(pd.TimeGrouper('60Min')).mean()\n",
    "daily = daily.groupby(pd.TimeGrouper('1440Min')).sum()\n",
    "hourly = hourly.groupby(pd.TimeGrouper('60Min')).sum()\n",
    "hourly.loc[:, 'Treat':] = hourly_avg.loc[:, 'Treat':]\n",
    "daily.loc[:, 'Treat':] = daily_avg.loc[:, 'Treat':]\n",
    "hourly['wage'] = hourly_avg['wage']\n",
    "daily['wage'] = daily_avg['wage']\n",
    "hourly['Minutes avg'] = hourly_avg['Minutes']\n",
    "daily['Minutes avg'] = daily_avg['Minutes']\n",
    "hourly['Hands avg'] = hourly_avg['Hands']\n",
    "daily['Hands avg'] = daily_avg['Hands']\n",
    "hourly['My C Won avg'] = hourly_avg['My C Won']\n",
    "daily['My C Won avg'] = daily_avg['My C Won']\n",
    "\n",
    "hourly = hourly.fillna(0)\n",
    "daily = daily.fillna(0)"
   ]
  },
  {
   "cell_type": "code",
   "execution_count": 408,
   "metadata": {
    "collapsed": true
   },
   "outputs": [],
   "source": [
    "# Clean Sessions dataset\n",
    "sessions = sessions.sort_values(by='Session Start')\n",
    "sessions = sessions.reset_index()\n",
    "sessions = sessions.drop('index', 1)"
   ]
  },
  {
   "cell_type": "code",
   "execution_count": 409,
   "metadata": {
    "collapsed": true
   },
   "outputs": [],
   "source": [
    "# New dataset from grouped sessions average daily\n",
    "daily_sessions = sessions.copy()\n",
    "daily_sessions2 = sessions.copy()\n",
    "daily_sessions = daily_sessions.groupby(daily_sessions.set_index('Session Start').index.date).mean()\n",
    "daily_sessions2 = daily_sessions2.groupby(daily_sessions2.set_index('Session Start').index.date).median()\n",
    "daily_sessions = daily_sessions.loc[:, :'Sunday']\n",
    "daily_sessions['Minutes_median'] = daily_sessions2['Minutes']"
   ]
  },
  {
   "cell_type": "markdown",
   "metadata": {},
   "source": [
    "# OLS on hands and rake aggregates\n",
    "\n",
    "- Model on constant + dummies to test for intercept change"
   ]
  },
  {
   "cell_type": "code",
   "execution_count": 410,
   "metadata": {
    "collapsed": true
   },
   "outputs": [],
   "source": [
    "ols_est = sm.OLS(\n",
    "        hourly['BB call EV'], \n",
    "        sm.add_constant(hourly.loc[:, 'Treat':'11PM']#.drop('After', 1)\n",
    "    )).fit(cov_type='HC1')\n",
    "#ols_est.summary()"
   ]
  },
  {
   "cell_type": "code",
   "execution_count": 411,
   "metadata": {},
   "outputs": [
    {
     "data": {
      "text/plain": [
       "'\\nfor endog_name in [\\'My C Won\\', \\'Hands\\', \\'Hands avg\\', \\'Minutes\\', \\'Minutes avg\\', \\'Sessions\\', \\'My C Won avg\\', \\'wage\\']:\\n    ols_est = sm.OLS(\\n        hourly[endog_name], \\n        sm.add_constant(hourly.loc[:, \\'Treat\\':\\'11PM\\']#.drop(\\'After\\', 1)\\n    )).fit(cov_type=\\'HC1\\')\\n    \\n    ols_summary = ols_est.summary()\\n    text_file = open(str(\"c:/users/matt/desktop/hourly \" + endog_name + \" k means.txt\"), \"w\")\\n    text_file.write(ols_summary.as_text())\\n    text_file.close()\\n'"
      ]
     },
     "execution_count": 411,
     "metadata": {},
     "output_type": "execute_result"
    }
   ],
   "source": [
    "# Output regressions\n",
    "\"\"\"\n",
    "for endog_name in ['My C Won', 'Hands', 'Hands avg', 'Minutes', 'Minutes avg', 'Sessions', 'My C Won avg', 'wage']:\n",
    "    ols_est = sm.OLS(\n",
    "        hourly[endog_name], \n",
    "        sm.add_constant(hourly.loc[:, 'Treat':'11PM']#.drop('After', 1)\n",
    "    )).fit(cov_type='HC1')\n",
    "    \n",
    "    ols_summary = ols_est.summary()\n",
    "    text_file = open(str(\"c:/users/matt/desktop/hourly \" + endog_name + \" k means.txt\"), \"w\")\n",
    "    text_file.write(ols_summary.as_text())\n",
    "    text_file.close()\n",
    "\"\"\""
   ]
  },
  {
   "cell_type": "code",
   "execution_count": 412,
   "metadata": {
    "collapsed": true
   },
   "outputs": [],
   "source": [
    "#\n",
    "# OLS with \"Learning\"\n",
    "#\n",
    "X3 = hourly.loc[:, 'After':'11PM']\n",
    "X3 = X3.reset_index().drop('Session Start', 1)\n",
    "# First cutoff @ 1453\n",
    "X3['Week 1'] = ((X3.index >= 1453) & (X3.index < 1620)).astype(int)\n",
    "X3['Week 2'] = ((X3.index >= 1620) & (X3.index < 1787)).astype(int)\n",
    "X3['Week 3'] = ((X3.index >= 1787) & (X3.index < 1954)).astype(int)\n",
    "X3['Week 4'] = ((X3.index >= 1954) & (X3.index < 2121)).astype(int)\n",
    "X3['Week 5'] = ((X3.index >= 2121) & (X3.index < 2288)).astype(int)\n",
    "X3['Week 6'] = ((X3.index >= 2288) & (X3.index < 2455)).astype(int)\n",
    "X3['Week 7'] = ((X3.index >= 2455) & (X3.index < 2622)).astype(int)\n",
    "X3['Week 8'] = ((X3.index >= 2622) & (X3.index < 2789)).astype(int)\n",
    "X3['Week 9'] = ((X3.index >= 2789) & (X3.index < 2959)).astype(int)\n",
    "# Second cutoff @ 2959\n",
    "\n",
    "X3 = sm.add_constant(X3)"
   ]
  },
  {
   "cell_type": "code",
   "execution_count": 413,
   "metadata": {},
   "outputs": [],
   "source": [
    "y_learn = hourly['BB call EV'].reset_index()['BB call EV']\n",
    "ols_learn = sm.OLS(y_learn, X3).fit(cov_type='HC1')\n",
    "#ols_learn.summary()"
   ]
  },
  {
   "cell_type": "code",
   "execution_count": 414,
   "metadata": {},
   "outputs": [
    {
     "data": {
      "text/plain": [
       "'\\nfor endog_name in [\\'My C Won\\', \\'Hands\\', \\'Hands avg\\', \\'Minutes\\', \\'Minutes avg\\', \\'Sessions\\', \\'My C Won avg\\', \\'wage\\']:\\n    y_learn = hourly[endog_name].reset_index()[endog_name]\\n    ols_learn = sm.OLS(y_learn, X3).fit(cov_type=\\'HC1\\')\\n    \\n    ols_summary = ols_learn.summary()\\n    text_file = open(str(\"c:/users/matt/desktop/Hourly \" + endog_name + \" k means new -- Learn.txt\"), \"w\")\\n    text_file.write(ols_summary.as_text())\\n    text_file.close()\\n'"
      ]
     },
     "execution_count": 414,
     "metadata": {},
     "output_type": "execute_result"
    }
   ],
   "source": [
    "# Output regressions\n",
    "\"\"\"\n",
    "for endog_name in ['My C Won', 'Hands', 'Hands avg', 'Minutes', 'Minutes avg', 'Sessions', 'My C Won avg', 'wage']:\n",
    "    y_learn = hourly[endog_name].reset_index()[endog_name]\n",
    "    ols_learn = sm.OLS(y_learn, X3).fit(cov_type='HC1')\n",
    "    \n",
    "    ols_summary = ols_learn.summary()\n",
    "    text_file = open(str(\"c:/users/matt/desktop/Hourly \" + endog_name + \" k means new -- Learn.txt\"), \"w\")\n",
    "    text_file.write(ols_summary.as_text())\n",
    "    text_file.close()\n",
    "\"\"\""
   ]
  },
  {
   "cell_type": "markdown",
   "metadata": {},
   "source": [
    "# OLS on sessions panel (Fixed Effects)"
   ]
  },
  {
   "cell_type": "code",
   "execution_count": 416,
   "metadata": {
    "scrolled": false
   },
   "outputs": [],
   "source": [
    "\"\"\"\n",
    "FE_panel = sm.add_constant(\n",
    "          sessions.loc[:, 'Treat':].drop('wage', 1).drop('Time', 1)\\\n",
    "                  .join(pd.get_dummies(sessions['Player']))\n",
    "            ).astype(float)\n",
    "\"\"\"\n",
    "\n",
    "#sessions = sessions[sessions['BB vs SB call cnt'] > 0]\n",
    "\n",
    "FE_panel = pd.DataFrame(sessions['Player'])\\\n",
    "           .join(sessions['Opponent'])\\\n",
    "           .join(sessions.loc[:, 'Treat':'11PM'].astype(float))\n",
    "\n",
    "\n",
    "for col in FE_panel.columns[2:]:\n",
    "    FE_panel[col] -= FE_panel.groupby('Player')\\\n",
    "                             [col].transform('mean')\n",
    "    FE_panel[col] -= FE_panel.groupby('Opponent')\\\n",
    "                             [col].transform('mean') \n",
    "        \n",
    "        \n",
    "FE_panel = sm.add_constant(FE_panel.drop('Player', 1)\\\n",
    "                              .drop('Opponent', 1))\n",
    "\n",
    "FE_panel = FE_panel.loc[:, :'Treat'].join(\n",
    "                    pd.get_dummies(sessions['k means opp']).iloc[:, 1])\\\n",
    "                    .join(sessions['ephemeral opp'].astype(float))\n",
    "   \n",
    "for endog_name in [#'Hands', 'My C Won', 'Minutes',\n",
    "                   #'Sessions', 'wage', \n",
    "                   #'VPIP', 'CBet F', 'Total AF', '3Bet PF',\n",
    "                   #'BB call EV',\n",
    "                   #'BB continue EV',\n",
    "                    'Fold BB v SB']:\n",
    "    sessions_ols = sm.OLS(\n",
    "        sessions[endog_name].fillna(0), \n",
    "        FE_panel\n",
    "        ).fit(cov_type='HC1')   #NB: drop time if you want to\n",
    "\n",
    "    ols_summary = sessions_ols.summary()\n",
    "    text_file = open(str(\"c:/users/matt/desktop/PANEL \" + endog_name + \".txt\"), \"w\")\n",
    "    text_file.write(ols_summary.as_text())\n",
    "    text_file.close()"
   ]
  },
  {
   "cell_type": "markdown",
   "metadata": {},
   "source": [
    "** Plots & Summary **"
   ]
  },
  {
   "cell_type": "code",
   "execution_count": 207,
   "metadata": {
    "collapsed": true
   },
   "outputs": [],
   "source": [
    "ddhands = hourly.reset_index()\n",
    "ddhands['index'] = ddhands.index\n",
    "\n",
    "fitted_hands = ols_est.fittedvalues.copy()\n",
    "fitted_hands = fitted_hands.reset_index()\n",
    "fitted_hands.columns = ['index', 'fit']"
   ]
  },
  {
   "cell_type": "code",
   "execution_count": 208,
   "metadata": {},
   "outputs": [
    {
     "data": {
      "text/plain": [
       "[<matplotlib.lines.Line2D at 0x1c591a74a20>]"
      ]
     },
     "execution_count": 208,
     "metadata": {},
     "output_type": "execute_result"
    },
    {
     "data": {
      "image/png": "[encoded data removed]",
      "text/plain": [
       "<matplotlib.figure.Figure at 0x1c59284fcf8>"
      ]
     },
     "metadata": {},
     "output_type": "display_data"
    }
   ],
   "source": [
    "plt.scatter(ddhands.index, ddhands['BB call EV'])\n",
    "plt.plot(fitted_hands['fit'], 'r')"
   ]
  },
  {
   "cell_type": "markdown",
   "metadata": {
    "collapsed": true
   },
   "source": [
    "# RDD"
   ]
  },
  {
   "cell_type": "code",
   "execution_count": 61,
   "metadata": {
    "collapsed": true
   },
   "outputs": [],
   "source": [
    "rddata_detrended_ev = pd.DataFrame(sessions_ols.resid)\n",
    "rddata_detrended_ev['Treat'] = sessions['Treat']\n",
    "\n",
    "rddata = sessions.copy(deep=True) #Cutoff is at 34286th observation\n",
    "\n",
    "# Reset the index to create the forcing RDD variable\n",
    "def reset_data_index(data_in):\n",
    "    data_in = data_in.reset_index()\n",
    "    data_in['index'] = data_in.index\n",
    "    data_in['forcing'] = data_in.index\n",
    "    return data_in\n",
    "\n",
    "\n",
    "# Make index X-cutoff by finding location of cutoff\n",
    "def get_cutoff_index(indata):\n",
    "    for i in range(len(indata)):\n",
    "        if indata['Treat'][i] == 0:\n",
    "            continue\n",
    "        return i\n",
    "\n",
    "#\n",
    "# HOUR data cleaning\n",
    "#\n",
    "rddata = reset_data_index(rddata)\n",
    "cutoff_loc = get_cutoff_index(rddata)\n",
    "rddata['index'] -= cutoff_loc\n",
    "\n",
    "# Detrended\n",
    "rddata_detrended_ev = reset_data_index(rddata_detrended_ev)\n",
    "cutoff_loc = get_cutoff_index(rddata_detrended_ev)\n",
    "rddata_detrended_ev['index'] -= cutoff_loc"
   ]
  },
  {
   "cell_type": "code",
   "execution_count": 62,
   "metadata": {
    "collapsed": true
   },
   "outputs": [],
   "source": [
    "def create_rd_indeces(indata):\n",
    "    indata['index2'] = indata['index']**2\n",
    "    indata['index3'] = indata['index']**3\n",
    "    indata['treatIndex'] = indata['index'] * indata['Treat']\n",
    "    indata['treatIndex2'] = rddata['index2'] * indata['Treat']\n",
    "    indata['treatIndex3'] = indata['index3'] * indata['Treat']\n",
    "    return indata\n",
    "\n",
    "rddata = create_rd_indeces(rddata)\n",
    "rddata_detrended_ev = create_rd_indeces(rddata_detrended_ev)"
   ]
  },
  {
   "cell_type": "markdown",
   "metadata": {},
   "source": [
    "**ev RDD**"
   ]
  },
  {
   "cell_type": "code",
   "execution_count": 65,
   "metadata": {},
   "outputs": [
    {
     "ename": "SyntaxError",
     "evalue": "invalid syntax (<unknown>, line 1)",
     "output_type": "error",
     "traceback": [
      "\u001b[1;36m  File \u001b[1;32m\"<unknown>\"\u001b[1;36m, line \u001b[1;32m1\u001b[0m\n\u001b[1;33m    BB call EV\u001b[0m\n\u001b[1;37m          ^\u001b[0m\n\u001b[1;31mSyntaxError\u001b[0m\u001b[1;31m:\u001b[0m invalid syntax\n"
     ]
    }
   ],
   "source": [
    "# deg 1\n",
    "rd_hands_inter = smf.ols(\"BB call EV ~ Treat + index + treatIndex \", rddata).fit(cov_type='HC1')\n",
    "rd_hands_inter_detrended = smf.ols(\"BB call EV ~ Treat + index + treatIndex \", rddata_detrended_ev).fit(cov_type='HC1')\n",
    "# deg 2\n",
    "rd_hands2_inter = smf.ols(\"BB call EV ~ Treat + index + index2 + treatIndex + treatIndex2\", rddata).fit(cov_type='HC1')\n",
    "rd_hands2_inter_detrended = smf.ols(\"BB call EV ~ Treat + index + index2 + treatIndex + treatIndex2\",\n",
    "                                    rddata_detrended_ev).fit(cov_type='HC1')\n",
    "#deg 3\n",
    "rd_hands3_inter = smf.ols(\"BB call EV ~ Treat + index + index2 + index3 + \\\n",
    "                            treatIndex + treatIndex2 + treatIndex3\", rddata).fit(cov_type='HC1')\n",
    "rd_hands3_inter_detrended = smf.ols(\"BB call EV ~ Treat + index + index2 + index3 + \\\n",
    "                            treatIndex + treatIndex2 + treatIndex3\", rddata_detrended_ev).fit(cov_type='HC1')\n",
    "\n",
    "rd_hands3_inter_daily.summary()"
   ]
  },
  {
   "cell_type": "code",
   "execution_count": 159,
   "metadata": {
    "collapsed": true
   },
   "outputs": [],
   "source": [
    "\"\"\"\n",
    "model_counter = 0\n",
    "\n",
    "for endog_name in [rd_hands_inter, rd_hands_inter_detrended, rd_hands_inter_daily,\\\n",
    "                   rd_hands_inter_daily_detrended, rd_hands2_inter, rd_hands2_inter_detrended,\\\n",
    "                   rd_hands2_inter_daily, rd_hands2_inter_daily_detrended, rd_hands3_inter,\\\n",
    "                   rd_hands3_inter_detrended, rd_hands3_inter_daily, rd_hands3_inter_daily_detrended]:\n",
    "    model_counter += 1    \n",
    "    ols_summary = endog_name.summary()\n",
    "    text_file = open(str(\"c:/users/matt/desktop/RDD Hands \" + str(model_counter) + \".txt\"), \"w\")\n",
    "    text_file.write(ols_summary.as_text())\n",
    "    text_file.close()\n",
    "\"\"\""
   ]
  },
  {
   "cell_type": "markdown",
   "metadata": {},
   "source": [
    "** Plot **"
   ]
  },
  {
   "cell_type": "code",
   "execution_count": 26,
   "metadata": {
    "scrolled": true
   },
   "outputs": [
    {
     "data": {
      "text/plain": [
       "[<matplotlib.lines.Line2D at 0x1872b3f7a90>]"
      ]
     },
     "execution_count": 26,
     "metadata": {},
     "output_type": "execute_result"
    },
    {
     "data": {
      "image/png": "[encoded data removed]",
      "text/plain": [
       "<matplotlib.figure.Figure at 0x1872b185278>"
      ]
     },
     "metadata": {},
     "output_type": "display_data"
    }
   ],
   "source": [
    "plt.scatter(rddata['forcing'], rddata['wage'])\n",
    "plt.plot(rd_hands3_inter.fittedvalues, 'r')"
   ]
  },
  {
   "cell_type": "markdown",
   "metadata": {
    "collapsed": true
   },
   "source": [
    "# RD of 2nd cutoff"
   ]
  },
  {
   "cell_type": "code",
   "execution_count": 20,
   "metadata": {
    "collapsed": true
   },
   "outputs": [],
   "source": [
    "rddata2 = data.loc[2500:3500] #Cutoff is at 2959 observation\n",
    "rddaily2 = daily.loc[85:155] #Cutoff is at 125nd obs\n",
    "\n",
    "rddata2 = rddata2.reset_index()\n",
    "rddata2['index'] = rddata2.index\n",
    "rddata2['forcing'] = rddata2.index\n",
    "\n",
    "rddata2['index'] -= get_cutoff_index(rddata2)\n",
    "\n",
    "rddaily2 = rddaily2.reset_index()\n",
    "rddaily2['index'] = rddaily2.index\n",
    "rddaily2['forcing'] = rddaily2.index\n",
    "\n",
    "rddaily2['index'] -= get_cutoff_index(rddaily2)"
   ]
  }
 ],
 "metadata": {
  "kernelspec": {
   "display_name": "Python [default]",
   "language": "python",
   "name": "python3"
  },
  "language_info": {
   "codemirror_mode": {
    "name": "ipython",
    "version": 3
   },
   "file_extension": ".py",
   "mimetype": "text/x-python",
   "name": "python",
   "nbconvert_exporter": "python",
   "pygments_lexer": "ipython3",
   "version": "3.5.3"
  }
 },
 "nbformat": 4,
 "nbformat_minor": 2
}
