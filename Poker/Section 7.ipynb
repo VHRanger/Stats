{
 "cells": [
  {
   "cell_type": "code",
   "execution_count": 1,
   "metadata": {
    "collapsed": true
   },
   "outputs": [],
   "source": [
    "import pandas as pd"
   ]
  },
  {
   "cell_type": "code",
   "execution_count": 167,
   "metadata": {},
   "outputs": [],
   "source": [
    "df2 = pd.read_csv('mrbiners.csv')\n",
    "df3 = pd.read_csv('marko2701.csv')\n",
    "df4 = pd.read_csv('kaarem.csv')\n",
    "df5 = pd.read_csv('graviiit.csv')\n",
    "df6 = pd.read_csv('fityfmi.csv')\n",
    "df7 = pd.read_csv('chrisfun123.csv')\n",
    "df8 = pd.read_csv('accel.csv')\n",
    "df9 = pd.read_csv('jamjamt.csv')\n",
    "df1 = df2.append(df3).append(df4).append(df5).append(df6).append(df7).append(df8).append(df9)"
   ]
  },
  {
   "cell_type": "code",
   "execution_count": 168,
   "metadata": {},
   "outputs": [],
   "source": [
    "for col_name in ['My C Rake', 'Won', 'Stack', 'Bet F',\n",
    "                 'Bet PF', 'Bet T', 'Bet R', 'Pot', 'My C Rake']:\n",
    "    df1[col_name] = df1[col_name].replace('\\$', '', regex=True).replace('\\,', '', regex=True).astype(float)\n",
    "#df1.drop('My C Rake', 1, inplace=True)\n",
    "#df1.drop('Date', 1, inplace=True)\n",
    "df1 = df1.drop('Stake', 1).drop('Winner', 1)"
   ]
  },
  {
   "cell_type": "code",
   "execution_count": 169,
   "metadata": {
    "scrolled": false
   },
   "outputs": [],
   "source": [
    "pot_sizes = df1['Pot Sizes'].str.split('/', expand=True).astype(float)\n",
    "pot_sizes.columns = ['Pot Blinds', 'Pot Pre', 'Pot Flop', 'Pot Turn', 'Pot River']\n",
    "df1.drop('Pot Sizes', 1, inplace=True)\n",
    "df2 = df1.join(pot_sizes)"
   ]
  },
  {
   "cell_type": "code",
   "execution_count": 170,
   "metadata": {},
   "outputs": [],
   "source": [
    "df = df2[(pd.notnull(df2['PF Act'])) & (df2['PF Act'] != 'F')]"
   ]
  },
  {
   "cell_type": "code",
   "execution_count": 171,
   "metadata": {
    "collapsed": true
   },
   "outputs": [],
   "source": [
    "df = df[df['Position'] == 'BB']"
   ]
  },
  {
   "cell_type": "code",
   "execution_count": 205,
   "metadata": {},
   "outputs": [
    {
     "data": {
      "text/plain": [
       "count    637567.000000\n",
       "mean          2.673608\n",
       "std           0.945514\n",
       "min           2.000000\n",
       "25%           2.000000\n",
       "50%           2.000000\n",
       "75%           4.000000\n",
       "max           5.000000\n",
       "Name: Pot Blinds, dtype: float64"
      ]
     },
     "execution_count": 205,
     "metadata": {},
     "output_type": "execute_result"
    }
   ],
   "source": [
    "(df['Pot Blinds'] / 1.5).describe()"
   ]
  },
  {
   "cell_type": "code",
   "execution_count": 224,
   "metadata": {},
   "outputs": [
    {
     "data": {
      "text/plain": [
       "count    154968.000000\n",
       "mean          0.475378\n",
       "std           0.059124\n",
       "min           0.180000\n",
       "25%           0.500000\n",
       "50%           0.500000\n",
       "75%           0.500000\n",
       "max           0.500000\n",
       "Name: My C Rake, dtype: float64"
      ]
     },
     "execution_count": 224,
     "metadata": {},
     "output_type": "execute_result"
    }
   ],
   "source": [
    "df[(df['Date'] < '2014-11-01') & #(df['Date'] < '2015-01-01') & \n",
    "    (df['My C Rake'] > 0)]['My C Rake'].describe()"
   ]
  },
  {
   "cell_type": "code",
   "execution_count": null,
   "metadata": {
    "collapsed": true
   },
   "outputs": [],
   "source": []
  }
 ],
 "metadata": {
  "kernelspec": {
   "display_name": "Python [conda root]",
   "language": "python",
   "name": "conda-root-py"
  },
  "language_info": {
   "codemirror_mode": {
    "name": "ipython",
    "version": 3
   },
   "file_extension": ".py",
   "mimetype": "text/x-python",
   "name": "python",
   "nbconvert_exporter": "python",
   "pygments_lexer": "ipython3",
   "version": "3.5.3"
  }
 },
 "nbformat": 4,
 "nbformat_minor": 2
}
