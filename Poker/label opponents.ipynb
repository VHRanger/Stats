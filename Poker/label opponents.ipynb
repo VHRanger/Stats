{
 "cells": [
  {
   "cell_type": "code",
   "execution_count": 1,
   "metadata": {
    "collapsed": true
   },
   "outputs": [],
   "source": [
    "import numpy as np\n",
    "import pandas as pd"
   ]
  },
  {
   "cell_type": "code",
   "execution_count": 22,
   "metadata": {
    "collapsed": true
   },
   "outputs": [],
   "source": [
    "sessions = pd.read_csv('c:/users/matt/desktop/poker paper/sessions ev prep.csv')\n",
    "sessions['Session Start'] = pd.to_datetime(sessions['Session Start'])\n",
    "sessions.sort_values(by='Session Start', inplace=True)\n",
    "sessions.reset_index(inplace=True)\n",
    "sessions.drop('Unnamed: 0',1, inplace=True)"
   ]
  },
  {
   "cell_type": "code",
   "execution_count": 16,
   "metadata": {},
   "outputs": [
    {
     "name": "stdout",
     "output_type": "stream",
     "text": [
      "0          unknown\n",
      "1          disa249\n",
      "2       LicColocho\n",
      "3          unknown\n",
      "4          unknown\n",
      "5          OPS2011\n",
      "6      thantai2009\n",
      "7           hrlohe\n",
      "8     para12345678\n",
      "9        ProtiProt\n",
      "10      georgeANOk\n",
      "11          pinage\n",
      "12          Bimtap\n",
      "13         I0pka^^\n",
      "14       ArnoldTeo\n",
      "15    PartyTownUSA\n",
      "16        sudesh85\n",
      "17        hennerz0\n",
      "18       tooturney\n",
      "19        shanamel\n",
      "20        TeemTeem\n",
      "21        TeemTeem\n",
      "22        arbatsky\n",
      "23        TeemTeem\n",
      "24        arbatsky\n",
      "25        arbatsky\n",
      "26          Bimtap\n",
      "27        persh600\n",
      "28       CarolinkZ\n",
      "29       tooturney\n",
      "30       Fantasius\n",
      "31       Semper420\n",
      "32     thantai2009\n",
      "33       Semper420\n",
      "34     DjinnWalker\n",
      "35       Semper420\n",
      "36     DjinnWalker\n",
      "37       AceSweaty\n",
      "38     SimoSisu621\n",
      "39      Crazmadman\n",
      "40      sid_de_kid\n",
      "41        arbatsky\n",
      "42     ChrisFun123\n",
      "43     thantai2009\n",
      "44       CarolinkZ\n",
      "45         unknown\n",
      "46         unknown\n",
      "47     BigBarnacle\n",
      "48       Semper420\n",
      "49     BigBarnacle\n",
      "dtype: object\n"
     ]
    }
   ],
   "source": [
    "# Add opponent label to the match\n",
    "# Look for matches that start at the same time, have same minutes and hands\n",
    "# Done in reverse, deleting indeces of matches going along\n",
    "\n",
    "# Initialize Series to add to DF\n",
    "opponents = pd.Series(np.repeat('unknown', len(sessions)))\n",
    "\n",
    "position = 0\n",
    "\n",
    "# Initialize reverse list of indeces\n",
    "index_list = list(range(len(sessions)-1, 0, -1))\n",
    "\n",
    "for i in index_list:\n",
    "    sess_name = sessions.loc[i]['Player']\n",
    "    sess_len = sessions.loc[i]['Minutes']\n",
    "    sess_hands = sessions.loc[i]['Hands']\n",
    "    sess_start = sessions.loc[i]['Session Start']\n",
    "    loca = i - 1 # lookahead position\n",
    "    # look ahead for matching session\n",
    "    while loca > 0:\n",
    "        if sessions.loc[loca]['Session Start'] != sess_start:\n",
    "            break\n",
    "        if sessions.loc[loca]['Minutes']== sess_len and\\\n",
    "                   sessions.loc[loca]['Hands']== sess_hands:\n",
    "            opponents.loc[i] = sessions.loc[loca]['Player']\n",
    "            opponents.loc[loca] = sessions.loc[i]['Player']\n",
    "            break\n",
    "        loca -= 1\n",
    "\n",
    "print(opponents[:50])"
   ]
  },
  {
   "cell_type": "code",
   "execution_count": null,
   "metadata": {
    "collapsed": true
   },
   "outputs": [],
   "source": []
  }
 ],
 "metadata": {
  "kernelspec": {
   "display_name": "Python [conda root]",
   "language": "python",
   "name": "conda-root-py"
  },
  "language_info": {
   "codemirror_mode": {
    "name": "ipython",
    "version": 3
   },
   "file_extension": ".py",
   "mimetype": "text/x-python",
   "name": "python",
   "nbconvert_exporter": "python",
   "pygments_lexer": "ipython3",
   "version": "3.5.3"
  }
 },
 "nbformat": 4,
 "nbformat_minor": 2
}
