{
 "cells": [
  {
   "cell_type": "code",
   "execution_count": 1,
   "metadata": {
    "collapsed": true
   },
   "outputs": [],
   "source": [
    "import matplotlib.pyplot as plt\n",
    "import numpy as np\n",
    "import pandas as pd\n",
    "import statsmodels.formula.api as smf\n",
    "import statsmodels.api as sm\n",
    "from statsmodels.tsa.stattools import adfuller\n",
    "from numba import jit\n",
    "import datetime\n",
    "%matplotlib inline"
   ]
  },
  {
   "cell_type": "markdown",
   "metadata": {},
   "source": [
    "# Read and clean data\n",
    "\n",
    "This data is all hands played on each hour on the site"
   ]
  },
  {
   "cell_type": "code",
   "execution_count": 2,
   "metadata": {
    "collapsed": false
   },
   "outputs": [],
   "source": [
    "data = pd.read_csv('hourly_all_dummies.csv')\n",
    "daily = pd.read_csv('daily_dummies.csv')\n",
    "# Clean Daily dataset\n",
    "daily = daily.drop('Unnamed: 0', 1)"
   ]
  },
  {
   "cell_type": "code",
   "execution_count": 3,
   "metadata": {
    "collapsed": true
   },
   "outputs": [],
   "source": [
    "data['Time'] = np.zeros(len(data))\n",
    "data['Time^2'] = np.zeros(len(data))\n",
    "data['Time*Treat'] = np.zeros(len(data))\n",
    "data['Time*Treat^2'] = np.zeros(len(data))\n",
    "data['lnHands'] = np.log(data['Hands'])\n",
    "data['lnRake'] = np.log(data['Rake'])"
   ]
  },
  {
   "cell_type": "code",
   "execution_count": 4,
   "metadata": {
    "collapsed": false
   },
   "outputs": [],
   "source": [
    "for i in range(len(data)):\n",
    "    data.loc[i, 'Time'] = i\n",
    "    data.loc[i, 'Time*Treat'] = data.loc[i, 'Treat'] * (i - 1453)\n",
    "    data.loc[i, 'Time^2'] = i**2\n",
    "    data.loc[i, 'Time*Treat^2'] = data.loc[i, 'Treat'] * (i**2 - 1453)"
   ]
  },
  {
   "cell_type": "markdown",
   "metadata": {},
   "source": [
    "# OLS\n",
    "\n",
    "- Model on constant + dummies to test for intercept change"
   ]
  },
  {
   "cell_type": "code",
   "execution_count": 5,
   "metadata": {
    "collapsed": false
   },
   "outputs": [],
   "source": [
    "#\n",
    "# OLS with quadratic time and interaction effects time* treat (and quad interaction)\n",
    "#\n",
    "X = data.loc[:, 'Treat':'Time*Treat^2']\n",
    "X = sm.add_constant(X)\n",
    "rake = data[['Rake']]\n",
    "hands = data[['Hands']]\n",
    "lograke = data[['lnRake']]\n",
    "loghands = data[['lnHands']]"
   ]
  },
  {
   "cell_type": "code",
   "execution_count": 6,
   "metadata": {
    "collapsed": false
   },
   "outputs": [],
   "source": [
    "rake1 = sm.OLS(rake, X).fit()\n",
    "#est1.summary()"
   ]
  },
  {
   "cell_type": "code",
   "execution_count": 7,
   "metadata": {
    "collapsed": false
   },
   "outputs": [],
   "source": [
    "hands1 = sm.OLS(hands, X).fit()\n",
    "#est2.summary()"
   ]
  },
  {
   "cell_type": "code",
   "execution_count": 8,
   "metadata": {
    "collapsed": false
   },
   "outputs": [],
   "source": [
    "#\n",
    "# OLS without quadratic time or time*treat\n",
    "#\n",
    "X2 = data.loc[:, 'Treat':'Time']\n",
    "X2 = sm.add_constant(X2)\n",
    "rake = data[['Rake']]\n",
    "hands = data[['Hands']]\n",
    "lograke = data[['lnRake']]\n",
    "loghands = data[['lnHands']]\n",
    "#minutes = data[['Minutes']]\n",
    "#logminutes = data['logminutes']"
   ]
  },
  {
   "cell_type": "code",
   "execution_count": 9,
   "metadata": {
    "collapsed": false
   },
   "outputs": [],
   "source": [
    "hands2 = sm.OLS(hands, X2).fit()\n",
    "#est3.summary()"
   ]
  },
  {
   "cell_type": "code",
   "execution_count": 10,
   "metadata": {
    "collapsed": false
   },
   "outputs": [],
   "source": [
    "rake2 = sm.OLS(rake, X2).fit()\n",
    "#est4.summary()"
   ]
  },
  {
   "cell_type": "code",
   "execution_count": 11,
   "metadata": {
    "collapsed": false
   },
   "outputs": [],
   "source": [
    "lnrake2 = sm.OLS(lograke, X2).fit()\n",
    "# est5.summary()"
   ]
  },
  {
   "cell_type": "code",
   "execution_count": 12,
   "metadata": {
    "collapsed": false
   },
   "outputs": [],
   "source": [
    "lnhands2 = sm.OLS(loghands, X2).fit()\n",
    "# est6.summary()"
   ]
  },
  {
   "cell_type": "markdown",
   "metadata": {
    "collapsed": true
   },
   "source": [
    "# RDD"
   ]
  },
  {
   "cell_type": "code",
   "execution_count": 51,
   "metadata": {
    "collapsed": true
   },
   "outputs": [],
   "source": [
    "rddata = data.loc[1000:2000] #Cutoff is at 1453rd observation\n",
    "rddaily = daily.loc[20:105] #Cutoff is at 62nd obs\n",
    "\n",
    "rddata = rddata.reset_index()\n",
    "rddata['index'] = rddata.index\n",
    "rddaily = rddaily.reset_index()\n",
    "rddaily['index'] = rddaily.index"
   ]
  },
  {
   "cell_type": "code",
   "execution_count": 52,
   "metadata": {
    "collapsed": false
   },
   "outputs": [],
   "source": [
    "rddata['index2'] = rddata['index']**2\n",
    "rddata['index3'] = rddata['index']**3\n",
    "rddata['treatIndex'] = rddata['index'] * rddata['Treat']\n",
    "rddata['treatIndex2'] = rddata['index2'] * rddata['Treat']\n",
    "rddata['treatIndex3'] = rddata['index3'] * rddata['Treat']\n",
    "\n",
    "rddaily['index2'] = rddaily['index']**2\n",
    "rddaily['index3'] = rddaily['index']**3\n",
    "rddaily['treatIndex'] = rddaily['index'] * rddaily['Treat']\n",
    "rddaily['treatIndex2'] = rddaily['index2'] * rddaily['Treat']\n",
    "rddaily['treatIndex3'] = rddaily['index3'] * rddaily['Treat']"
   ]
  },
  {
   "cell_type": "markdown",
   "metadata": {},
   "source": [
    "**Rake RDD**"
   ]
  },
  {
   "cell_type": "code",
   "execution_count": 75,
   "metadata": {
    "collapsed": false
   },
   "outputs": [],
   "source": [
    "rd_rake3_inter = smf.ols(\"Rake ~ Treat + index + index2 + index3 + treatIndex + treatIndex2 + treatIndex3\", rddata).fit()\n",
    "rd_rake3 = smf.ols(\"Rake ~ Treat + index + index2 + index3\", rddata).fit()\n",
    "rd_rake3_inter_daily = smf.ols(\"Rake ~ Treat + index + index2 + index3 + treatIndex + treatIndex2 + treatIndex3\", rddaily).fit()\n",
    "rd_rake3_daily = smf.ols(\"Rake ~ Treat + index + index2 + index3\", rddaily).fit()\n",
    "#rd_rake3_inter.summary()\n",
    "#rd_rake3.summary()\n",
    "#rd_rake3_inter_daily.summary()\n",
    "#rd_rake3_daily.summary()"
   ]
  },
  {
   "cell_type": "code",
   "execution_count": 94,
   "metadata": {
    "collapsed": false
   },
   "outputs": [],
   "source": [
    "rd_rake2_inter = smf.ols(\"Rake ~ Treat + index + index2 + treatIndex + treatIndex2\", rddata).fit()\n",
    "rd_rake2 = smf.ols(\"Rake ~ Treat + index + index2\", rddata).fit()\n",
    "rd_rake2_inter_daily = smf.ols(\"Rake ~ Treat + index + index2 + treatIndex + treatIndex2\", rddaily).fit()\n",
    "rd_rake2_daily = smf.ols(\"Rake ~ Treat + index + index2\", rddaily).fit()\n",
    "#rd_rake2_inter.summary()\n",
    "#rd_rake2.summary()\n",
    "#rd_rake2_inter_daily.summary()\n",
    "#rd_rake2_daily.summary()"
   ]
  },
  {
   "cell_type": "markdown",
   "metadata": {},
   "source": [
    "**Hands RDD**"
   ]
  },
  {
   "cell_type": "code",
   "execution_count": 55,
   "metadata": {
    "collapsed": false
   },
   "outputs": [],
   "source": [
    "rd_hands2_inter = smf.ols(\"Hands ~ Treat + index + index2 + treatIndex + treatIndex2\", rddata).fit()\n",
    "rd_hands2_inter_daily = smf.ols(\"Hands ~ Treat + index + index2 + treatIndex + treatIndex2\", rddaily).fit()\n",
    "#rd_hands2_inter.summary()\n",
    "#rd_hands2_inter_daily.summary()"
   ]
  },
  {
   "cell_type": "code",
   "execution_count": 56,
   "metadata": {
    "collapsed": false
   },
   "outputs": [],
   "source": [
    "rd_hands3_inter = smf.ols(\"Hands ~ Treat + index + index2 + index3 + treatIndex + treatIndex2 + treatIndex3\", rddata).fit()\n",
    "rd_hands3_inter_daily = smf.ols(\"Hands ~ Treat + index + index2 + index3 + \\\n",
    "                                 treatIndex + treatIndex2 + treatIndex3\", rddaily).fit()\n",
    "#rd_hands3_inter.summary()\n",
    "#rd_hands3_inter_daily.summary()"
   ]
  },
  {
   "cell_type": "code",
   "execution_count": 81,
   "metadata": {
    "collapsed": false,
    "scrolled": true
   },
   "outputs": [
    {
     "data": {
      "text/plain": [
       "[<matplotlib.lines.Line2D at 0x2fb16843400>]"
      ]
     },
     "execution_count": 81,
     "metadata": {},
     "output_type": "execute_result"
    },
    {
     "data": {
      "image/png": "[encoded data removed]",
      "text/plain": [
       "<matplotlib.figure.Figure at 0x2fb1677e278>"
      ]
     },
     "metadata": {},
     "output_type": "display_data"
    }
   ],
   "source": [
    "plt.scatter(rddaily['index'], rddaily['Rake'])\n",
    "plt.plot(rd_rake2_inter_daily.fittedvalues, 'r')"
   ]
  },
  {
   "cell_type": "markdown",
   "metadata": {
    "collapsed": true
   },
   "source": [
    "# RD of 2nd cutoff"
   ]
  },
  {
   "cell_type": "code",
   "execution_count": 82,
   "metadata": {
    "collapsed": true
   },
   "outputs": [],
   "source": [
    "rddata2 = data.loc[2500:3500] #Cutoff is at 2960 observation\n",
    "rddaily2 = daily.loc[85:155] #Cutoff is at 125nd obs\n",
    "\n",
    "rddata2 = rddata2.reset_index()\n",
    "rddata2['index'] = rddata2.index\n",
    "rddaily2 = rddaily2.reset_index()\n",
    "rddaily2['index'] = rddaily2.index"
   ]
  },
  {
   "cell_type": "code",
   "execution_count": 83,
   "metadata": {
    "collapsed": false
   },
   "outputs": [],
   "source": [
    "rddata2['index2'] = rddata2['index']**2\n",
    "rddata2['index3'] = rddata2['index']**3\n",
    "rddata2['treatIndex'] = rddata2['index'] * rddata2['Treat']\n",
    "rddata2['treatIndex2'] = rddata2['index2'] * rddata2['Treat']\n",
    "rddata2['treatIndex3'] = rddata2['index3'] * rddata2['Treat']\n",
    "\n",
    "rddaily2['index2'] = rddaily2['index']**2\n",
    "rddaily2['index3'] = rddaily2['index']**3\n",
    "rddaily2['treatIndex'] = rddaily2['index'] * rddaily2['Treat']\n",
    "rddaily2['treatIndex2'] = rddaily2['index2'] * rddaily2['Treat']\n",
    "rddaily2['treatIndex3'] = rddaily2['index3'] * rddaily2['Treat']"
   ]
  },
  {
   "cell_type": "markdown",
   "metadata": {},
   "source": [
    "**Rake RDD (2nd shock)**"
   ]
  },
  {
   "cell_type": "code",
   "execution_count": 87,
   "metadata": {
    "collapsed": false
   },
   "outputs": [],
   "source": [
    "after_rd_rake3_inter = smf.ols(\"Rake ~ After + index + index2 + index3 + treatIndex + treatIndex2 + treatIndex3\", rddata2).fit()\n",
    "after_rd_rake3_inter_daily = smf.ols(\"Rake ~ After + + index + index2 + index3 +\\\n",
    "                                      treatIndex + treatIndex2 + treatIndex3\", rddaily2).fit()\n",
    "after_rd_rake3_daily = smf.ols(\"Rake ~ Treat + index + index2 + index3\", rddaily2).fit()\n",
    "#after_rd_rake3_inter.summary()\n",
    "#after_rd_rake3_inter_daily.summary()\n",
    "#after_rd_rake3_daily.summary()"
   ]
  },
  {
   "cell_type": "code",
   "execution_count": 61,
   "metadata": {
    "collapsed": true
   },
   "outputs": [],
   "source": [
    "after_rd_rake2_inter = smf.ols(\"Rake ~ After + + index + index2 + treatIndex + treatIndex2\", rddata2).fit()\n",
    "after_rd_rake2_inter_daily = smf.ols(\"Rake ~ After + + index + index2 + treatIndex + treatIndex2\", rddaily2).fit()\n",
    "#after_rd_rake2_inter.summary()\n",
    "#after_rd_rake2_inter_daily.summary()"
   ]
  },
  {
   "cell_type": "markdown",
   "metadata": {},
   "source": [
    "**Hands RDD (2nd shock)**"
   ]
  },
  {
   "cell_type": "code",
   "execution_count": 62,
   "metadata": {
    "collapsed": true
   },
   "outputs": [],
   "source": [
    "after_rd_hands2_inter = smf.ols(\"Hands ~ After + + index + index2 + treatIndex + treatIndex2\", rddata2).fit()\n",
    "after_rd_hands2_inter_daily = smf.ols(\"Hands ~ After + + index + index2 + treatIndex + treatIndex2\", rddaily2).fit()\n",
    "#after_rd_hands2_inter.summary()\n",
    "#after_rd_hands2_inter_daily.summary()"
   ]
  },
  {
   "cell_type": "code",
   "execution_count": 63,
   "metadata": {
    "collapsed": false
   },
   "outputs": [],
   "source": [
    "after_rd_hands3_inter = smf.ols(\"Hands ~ After + index + index2 + index3 + treatIndex + treatIndex2 + treatIndex3\", rddata2).fit()\n",
    "after_rd_hands3_inter_daily = smf.ols(\"Hands ~ After + + index + index2 + index3 + treatIndex + treatIndex2 + treatIndex3\", rddaily2).fit()\n",
    "#after_rd_hands3_inter.summary()\n",
    "#after_rd_hands3_inter_daily.summary()"
   ]
  },
  {
   "cell_type": "code",
   "execution_count": 92,
   "metadata": {
    "collapsed": false
   },
   "outputs": [
    {
     "data": {
      "text/plain": [
       "[<matplotlib.lines.Line2D at 0x2fb14ff62b0>]"
      ]
     },
     "execution_count": 92,
     "metadata": {},
     "output_type": "execute_result"
    },
    {
     "data": {
      "image/png": "[encoded data removed]",
      "text/plain": [
       "<matplotlib.figure.Figure at 0x2fb166b89b0>"
      ]
     },
     "metadata": {},
     "output_type": "display_data"
    }
   ],
   "source": [
    "plt.scatter(rddaily2['index'], rddaily2['Rake'])\n",
    "plt.plot(after_rd_rake2_inter_daily.fittedvalues, 'r')"
   ]
  },
  {
   "cell_type": "code",
   "execution_count": null,
   "metadata": {
    "collapsed": true
   },
   "outputs": [],
   "source": []
  }
 ],
 "metadata": {
  "kernelspec": {
   "display_name": "Python 3",
   "language": "python",
   "name": "python3"
  },
  "language_info": {
   "codemirror_mode": {
    "name": "ipython",
    "version": 3
   },
   "file_extension": ".py",
   "mimetype": "text/x-python",
   "name": "python",
   "nbconvert_exporter": "python",
   "pygments_lexer": "ipython3",
   "version": "3.6.0"
  }
 },
 "nbformat": 4,
 "nbformat_minor": 2
}
