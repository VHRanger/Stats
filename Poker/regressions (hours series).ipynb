{
 "cells": [
  {
   "cell_type": "code",
   "execution_count": 69,
   "metadata": {
    "collapsed": true
   },
   "outputs": [],
   "source": [
    "import matplotlib.pyplot as plt\n",
    "import numpy as np\n",
    "import pandas as pd\n",
    "import statsmodels.formula.api as smf\n",
    "import statsmodels.api as sm\n",
    "from statsmodels.tsa.stattools import adfuller\n",
    "from numba import jit\n",
    "import datetime\n",
    "%matplotlib inline"
   ]
  },
  {
   "cell_type": "markdown",
   "metadata": {},
   "source": [
    "# Read and clean data\n",
    "\n",
    "This data is all hands played on each hour on the site"
   ]
  },
  {
   "cell_type": "code",
   "execution_count": 128,
   "metadata": {
    "collapsed": true
   },
   "outputs": [],
   "source": [
    "data = pd.read_csv('hourly_all_dummies.csv')\n",
    "daily = pd.read_csv('daily_dummies.csv')\n",
    "sessions = pd.read_csv('c:/users/matt/desktop/poker paper/sessions_dummies.csv')\n",
    "\n",
    "# Clean Daily dataset\n",
    "daily = daily.drop('Unnamed: 0', 1)\n",
    "\n",
    "# Clean Sessions dataset\n",
    "sessions['Session Start'] = pd.to_datetime(sessions['Session Start'])\n",
    "sessions = sessions.sort_values(by='Session Start')\n",
    "sessions = sessions.drop('Unnamed: 0', axis=1)\n",
    "sessions = sessions.reset_index()\n",
    "sessions = sessions.drop('index', 1)"
   ]
  },
  {
   "cell_type": "code",
   "execution_count": 129,
   "metadata": {
    "collapsed": true
   },
   "outputs": [],
   "source": [
    "# New dataset from grouped sessions average daily\n",
    "daily_sessions = sessions.copy()\n",
    "daily_sessions2 = sessions.copy()\n",
    "daily_sessions = daily_sessions.groupby(daily_sessions.set_index('Session Start').index.date).mean()\n",
    "daily_sessions2 = daily_sessions2.groupby(daily_sessions2.set_index('Session Start').index.date).median()\n",
    "daily_sessions = daily_sessions.loc[:, :'Sunday']\n",
    "daily_sessions['Minutes_median'] = daily_sessions2['Minutes']"
   ]
  },
  {
   "cell_type": "code",
   "execution_count": 130,
   "metadata": {
    "collapsed": true
   },
   "outputs": [],
   "source": [
    "data['Time'] = np.zeros(len(data))\n",
    "data['Time^2'] = np.zeros(len(data))\n",
    "data['Time*Treat'] = np.zeros(len(data))\n",
    "data['Time*Treat^2'] = np.zeros(len(data))\n",
    "data['lnHands'] = np.log(data['Hands'])\n",
    "data['lnRake'] = np.log(data['Rake'])\n",
    "\n",
    "daily['Time'] = np.zeros(len(daily))\n",
    "daily['Time^2'] = np.zeros(len(daily))\n",
    "daily['Time*Treat'] = np.zeros(len(daily))\n",
    "daily['Time*Treat^2'] = np.zeros(len(daily))\n",
    "daily['lnHands'] = np.log(daily['Hands'])\n",
    "daily['lnRake'] = np.log(daily['Rake'])"
   ]
  },
  {
   "cell_type": "code",
   "execution_count": 131,
   "metadata": {
    "collapsed": true
   },
   "outputs": [],
   "source": [
    "for i in range(len(data)):\n",
    "    data.loc[i, 'Time'] = i\n",
    "    data.loc[i, 'Time*Treat'] = data.loc[i, 'Treat'] * (i - 62)\n",
    "    data.loc[i, 'Time^2'] = i**2\n",
    "    data.loc[i, 'Time*Treat^2'] = data.loc[i, 'Treat'] * (i**2 - 62)\n",
    "    \n",
    "for i in range(len(daily)):\n",
    "    daily.loc[i, 'Time'] = i\n",
    "    daily.loc[i, 'Time*Treat'] = daily.loc[i, 'Treat'] * (i - 62)\n",
    "    daily.loc[i, 'Time^2'] = i**2\n",
    "    daily.loc[i, 'Time*Treat^2'] = daily.loc[i, 'Treat'] * (i**2 - 62)"
   ]
  },
  {
   "cell_type": "markdown",
   "metadata": {},
   "source": [
    "# OLS on hands and rake aggregates\n",
    "\n",
    "- Model on constant + dummies to test for intercept change"
   ]
  },
  {
   "cell_type": "code",
   "execution_count": 132,
   "metadata": {
    "collapsed": true
   },
   "outputs": [],
   "source": [
    "#\n",
    "# OLS with quadratic time and interaction effects time* treat (and quad interaction)\n",
    "#\n",
    "X = data.loc[:, 'Treat':'Time*Treat^2'].drop('After', 1)\n",
    "Xday = daily.loc[:, 'Treat':'Time*Treat^2']#.drop('After', 1)\n",
    "X = sm.add_constant(X)\n",
    "Xday = sm.add_constant(Xday)\n",
    "rake = data[['Rake']]\n",
    "rake_day = daily[['Rake']]\n",
    "hands = data[['Hands']]\n",
    "hands_day= daily[['Hands']]\n",
    "lograke = data[['lnRake']]\n",
    "lograke_day = daily[['lnRake']]\n",
    "loghands = data[['lnHands']]\n",
    "loghands_day = daily[['lnHands']]"
   ]
  },
  {
   "cell_type": "code",
   "execution_count": 133,
   "metadata": {
    "collapsed": true
   },
   "outputs": [],
   "source": [
    "rake1 = sm.OLS(rake, X).fit(cov_type='HC1')\n",
    "rake1_day = sm.OLS(rake_day, Xday).fit(cov_type='HC1')\n",
    "hands1 = sm.OLS(hands, X).fit(cov_type='HC1')\n",
    "hands1_day = sm.OLS(hands_day, Xday).fit(cov_type='HC1')"
   ]
  },
  {
   "cell_type": "code",
   "execution_count": 134,
   "metadata": {
    "collapsed": true
   },
   "outputs": [],
   "source": [
    "#\n",
    "# OLS without quadratic time or time*treat\n",
    "#\n",
    "X2 = data.loc[:, 'Treat':'Time'].drop('After', 1)\n",
    "X2 = sm.add_constant(X2)\n",
    "rake = data[['Rake']]\n",
    "hands = data[['Hands']]\n",
    "lograke = data[['lnRake']]\n",
    "loghands = data[['lnHands']]"
   ]
  },
  {
   "cell_type": "code",
   "execution_count": 135,
   "metadata": {
    "collapsed": true
   },
   "outputs": [],
   "source": [
    "hands2 = sm.OLS(hands, X2).fit(cov_type='HC1')\n",
    "rake2 = sm.OLS(rake, X2).fit(cov_type='HC1')\n",
    "lnrake2 = sm.OLS(lograke, X2).fit(cov_type='HC1')\n",
    "lnhands2 = sm.OLS(loghands, X2).fit(cov_type='HC1')"
   ]
  },
  {
   "cell_type": "markdown",
   "metadata": {},
   "source": [
    "** Plots & Summary **"
   ]
  },
  {
   "cell_type": "code",
   "execution_count": 136,
   "metadata": {
    "collapsed": true
   },
   "outputs": [],
   "source": [
    "#hands2.summary()"
   ]
  },
  {
   "cell_type": "code",
   "execution_count": 137,
   "metadata": {
    "collapsed": true
   },
   "outputs": [],
   "source": [
    "ddhands = data.reset_index()\n",
    "ddhands['index'] = ddhands.index\n",
    "\n",
    "fitted_hands = hands2.fittedvalues.copy()\n",
    "fitted_hands = fitted_hands.reset_index()\n",
    "fitted_hands.columns = ['index', 'fit']"
   ]
  },
  {
   "cell_type": "code",
   "execution_count": 138,
   "metadata": {},
   "outputs": [
    {
     "data": {
      "text/plain": [
       "[<matplotlib.lines.Line2D at 0x1cc83634710>]"
      ]
     },
     "execution_count": 138,
     "metadata": {},
     "output_type": "execute_result"
    },
    {
     "data": {
      "image/png": "[encoded data removed]",
      "text/plain": [
       "<matplotlib.figure.Figure at 0x1cc85009668>"
      ]
     },
     "metadata": {},
     "output_type": "display_data"
    }
   ],
   "source": [
    "plt.scatter(ddhands.index, ddhands['Hands'])\n",
    "plt.plot(fitted_hands['fit'], 'r')"
   ]
  },
  {
   "cell_type": "markdown",
   "metadata": {},
   "source": [
    "# OLS on sessions time"
   ]
  },
  {
   "cell_type": "code",
   "execution_count": 139,
   "metadata": {
    "collapsed": true
   },
   "outputs": [],
   "source": [
    "Xsessions = sessions.loc[:, 'Treat':]#.drop('After', 1)\n",
    "Xsessions_day = daily_sessions.loc[:, 'Treat':'Sunday']#.drop('After', 1)\n",
    "Xsessions = sm.add_constant(Xsessions)\n",
    "Xsessions_day = sm.add_constant(Xsessions_day)\n",
    "minutes_sessions = sessions[['Minutes']]\n",
    "logminutes_sessions = np.log(sessions['Minutes'])"
   ]
  },
  {
   "cell_type": "code",
   "execution_count": 140,
   "metadata": {
    "collapsed": true
   },
   "outputs": [],
   "source": [
    "minutes1 = sm.OLS(minutes_sessions, Xsessions).fit(cov_type='HC1')\n",
    "minutes_day1 = sm.OLS(daily_sessions[['Minutes']], Xsessions_day).fit(cov_type='HC1')\n",
    "#minutes1.summary()\n",
    "#minutes_day1.summary()"
   ]
  },
  {
   "cell_type": "markdown",
   "metadata": {},
   "source": [
    "** Plots **"
   ]
  },
  {
   "cell_type": "code",
   "execution_count": 142,
   "metadata": {
    "collapsed": true
   },
   "outputs": [],
   "source": [
    "ddsession = sessions.reset_index()\n",
    "ddsession['index'] = ddsession.index\n",
    "\n",
    "fitted_day = minutes1.fittedvalues.copy()\n",
    "fitted_day = fitted_day.reset_index()\n",
    "fitted_day.columns = ['index', 'fit']"
   ]
  },
  {
   "cell_type": "code",
   "execution_count": 143,
   "metadata": {
    "collapsed": true
   },
   "outputs": [],
   "source": [
    "#plt.scatter(ddsession.index, sessions['Minutes'])\n",
    "#plt.plot(fitted_day['fit'], 'r')"
   ]
  },
  {
   "cell_type": "markdown",
   "metadata": {
    "collapsed": true
   },
   "source": [
    "# RDD"
   ]
  },
  {
   "cell_type": "code",
   "execution_count": 175,
   "metadata": {
    "collapsed": true
   },
   "outputs": [],
   "source": [
    "# Detrended versions of Hands series\n",
    "rddata_detrended_hands = sm.OLS(data['Hands'], sm.add_constant(data.loc[:, 'Tuesday':'11PM'])).fit().resid\n",
    "rddata_detrended_hands = pd.DataFrame(rddata_detrended_hands)\n",
    "rddata_detrended_hands['Treat'] = data['Treat']\n",
    "rddata_detrended_hands.columns = ['Hands', 'Treat']\n",
    "# Detrended daily\n",
    "rddaily_detrended_hands = sm.OLS(daily['Hands'][:177], sm.add_constant(daily.loc[:, 'Tuesday':'Sunday'])[:177]).fit().resid\n",
    "rddaily_detrended_hands = pd.DataFrame(rddaily_detrended_hands)\n",
    "rddaily_detrended_hands['Treat'] = daily['Treat']\n",
    "rddaily_detrended_hands.columns = ['Hands', 'Treat']\n",
    "# Detrended versions of Minutes time series\n",
    "rdsession_detrended_minutes = sm.OLS(daily_sessions['Minutes'], sm.add_constant(daily_sessions.loc[:, 'Tuesday':'Sunday'])).fit().resid\n",
    "rdsession_detrended_minutes = pd.DataFrame(rdsession_detrended_minutes)\n",
    "rdsession_detrended_minutes['Treat'] = daily_sessions['Treat']\n",
    "rdsession_detrended_minutes.columns = ['Minutes', 'Treat']"
   ]
  },
  {
   "cell_type": "code",
   "execution_count": 176,
   "metadata": {
    "collapsed": true
   },
   "outputs": [],
   "source": [
    "rddata = data.loc[1000:2000] #Cutoff is at 1453rd observation\n",
    "rddata_detrended_hands = rddata_detrended_hands[1000:2000]\n",
    "rddaily = daily.loc[20:105] #Cutoff is at 62nd obs\n",
    "rddaily_detrended_hands = rddaily_detrended_hands[20:105]\n",
    "rdsession = daily_sessions.iloc[20:105] #Cutoff same as above\n",
    "rdsession_detrended_minutes = rdsession_detrended_minutes[20:105]\n",
    "\n",
    "\n",
    "# Reset the index to create the forcing RDD variable\n",
    "def reset_data_index(data_in):\n",
    "    data_in = data_in.reset_index()\n",
    "    data_in['index'] = data_in.index\n",
    "    data_in['forcing'] = data_in.index\n",
    "    return data_in\n",
    "\n",
    "\n",
    "# Make index X-cutoff by finding location of cutoff\n",
    "def get_cutoff_index(indata):\n",
    "    for i in range(len(indata)):\n",
    "        if indata['Treat'][i] == 0:\n",
    "            continue\n",
    "        return i\n",
    "\n",
    "#\n",
    "# HOUR data cleaning\n",
    "#\n",
    "rddata = reset_data_index(rddata)\n",
    "cutoff_loc = get_cutoff_index(rddata)\n",
    "rddata['index'] -= cutoff_loc\n",
    "\n",
    "# Detrended\n",
    "rddata_detrended_hands = reset_data_index(rddata_detrended_hands)\n",
    "cutoff_loc = get_cutoff_index(rddata_detrended_hands)\n",
    "rddata_detrended_hands['index'] -= cutoff_loc\n",
    "\n",
    "#\n",
    "# DAILY data cleaning\n",
    "#\n",
    "rddaily = reset_data_index(rddaily)\n",
    "cutoff_loc =  get_cutoff_index(rddaily)\n",
    "rddaily['index'] -= cutoff_loc\n",
    "# Detrended\n",
    "rddaily_detrended_hands = reset_data_index(rddaily_detrended_hands)\n",
    "cutoff_loc = get_cutoff_index(rddaily_detrended_hands)\n",
    "rddaily_detrended_hands['index'] -= cutoff_loc\n",
    "\n",
    "#\n",
    "# SESSIONS data cleaning\n",
    "#\n",
    "rdsession = reset_data_index(rdsession)\n",
    "cutoff_loc =  get_cutoff_index(rdsession)\n",
    "rdsession['index'] -= cutoff_loc\n",
    "# Detrended\n",
    "rdsession_detrended_minutes = reset_data_index(rdsession_detrended_minutes)\n",
    "cutoff_loc =  get_cutoff_index(rdsession_detrended_minutes)\n",
    "rdsession_detrended_minutes['index'] -= cutoff_loc"
   ]
  },
  {
   "cell_type": "code",
   "execution_count": 177,
   "metadata": {
    "collapsed": true
   },
   "outputs": [],
   "source": [
    "def create_rd_indeces(indata):\n",
    "    indata['index2'] = indata['index']**2\n",
    "    indata['index3'] = indata['index']**3\n",
    "    indata['treatIndex'] = indata['index'] * indata['Treat']\n",
    "    indata['treatIndex2'] = rddata['index2'] * indata['Treat']\n",
    "    indata['treatIndex3'] = indata['index3'] * indata['Treat']\n",
    "    return indata\n",
    "\n",
    "rddata = create_rd_indeces(rddata)\n",
    "rddata_detrended_hands = create_rd_indeces(rddata_detrended_hands)\n",
    "rddaily = create_rd_indeces(rddaily)\n",
    "rddaily_detrended_hands = create_rd_indeces(rddaily_detrended_hands)\n",
    "rdsession = create_rd_indeces(rdsession)\n",
    "rdsession_detrended_minutes = create_rd_indeces(rdsession_detrended_minutes)"
   ]
  },
  {
   "cell_type": "markdown",
   "metadata": {},
   "source": [
    "**Rake RDD**"
   ]
  },
  {
   "cell_type": "code",
   "execution_count": 178,
   "metadata": {
    "collapsed": true
   },
   "outputs": [],
   "source": [
    "rd_rake3_inter = smf.ols(\"Rake ~ Treat + index + index2 + index3 + \\\n",
    "                          treatIndex + treatIndex2 + treatIndex3\", rddata).fit(cov_type='HC1')\n",
    "\n",
    "rd_rake3 = smf.ols(\"Rake ~ Treat + index + index2 + index3\", rddata).fit(cov_type='HC1')\n",
    "\n",
    "rd_rake3_inter_daily = smf.ols(\"Rake ~ Treat + index + index2 + index3 + \\\n",
    "                                treatIndex + treatIndex2 + treatIndex3\", rddaily).fit(cov_type='HC1')\n",
    "\n",
    "rd_rake3_daily = smf.ols(\"Rake ~ Treat + index + index2 + index3\", rddaily).fit(cov_type='HC1')\n",
    "#rd_rake3_inter.summary()\n",
    "#rd_rake3.summary()\n",
    "#rd_rake3_inter_daily.summary()\n",
    "#rd_rake3_daily.summary()"
   ]
  },
  {
   "cell_type": "code",
   "execution_count": 179,
   "metadata": {
    "collapsed": true
   },
   "outputs": [],
   "source": [
    "rd_rake2_inter = smf.ols(\"Rake ~ Treat + index + index2 + treatIndex + treatIndex2\", rddata).fit(cov_type='HC1')\n",
    "rd_rake2 = smf.ols(\"Rake ~ Treat + index + index2\", rddata).fit(cov_type='HC1')\n",
    "rd_rake2_inter_daily = smf.ols(\"Rake ~ Treat + index + index2 + treatIndex + treatIndex2\", rddaily).fit(cov_type='HC1')\n",
    "rd_rake2_daily = smf.ols(\"Rake ~ Treat + index + index2\", rddaily).fit(cov_type='HC1')\n",
    "#rd_rake2_inter.summary()\n",
    "#rd_rake2.summary()\n",
    "#rd_rake2_inter_daily.summary()\n",
    "#rd_rake2_daily.summary()"
   ]
  },
  {
   "cell_type": "markdown",
   "metadata": {},
   "source": [
    "**Hands RDD**"
   ]
  },
  {
   "cell_type": "code",
   "execution_count": 204,
   "metadata": {
    "collapsed": true
   },
   "outputs": [],
   "source": [
    "rd_hands2_inter = smf.ols(\"Hands ~ Treat + index + index2 + treatIndex + treatIndex2\", rddata).fit(cov_type='HC1')\n",
    "rd_hands2_inter_detrended = smf.ols(\"Hands ~ Treat + index + index2 + treatIndex + treatIndex2\", rddata_detrended_hands).fit(cov_type='HC1')\n",
    "rd_hands2_inter_daily = smf.ols(\"Hands ~ Treat + index + index2 + treatIndex + treatIndex2\", rddaily).fit(cov_type='HC1')\n",
    "rd_hands2_inter_daily_detrended = smf.ols(\"Hands ~ Treat + index + index2 + treatIndex + treatIndex2\", rddaily_detrended_hands).fit(cov_type='HC1')\n",
    "#rd_hands2_inter.summary()\n",
    "#rd_hands2_inter_detrended.summary()\n",
    "#rd_hands2_inter_daily.summary()\n",
    "#rd_hands2_inter_daily_detrended.summary()"
   ]
  },
  {
   "cell_type": "code",
   "execution_count": 199,
   "metadata": {
    "collapsed": true
   },
   "outputs": [],
   "source": [
    "rd_hands3_inter = smf.ols(\"Hands ~ Treat + index + index2 + index3 + \\\n",
    "                            treatIndex + treatIndex2 + treatIndex3\", rddata).fit(cov_type='HC1')\n",
    "rd_hands3_inter_detrended = smf.ols(\"Hands ~ Treat + index + index2 + index3 + \\\n",
    "                            treatIndex + treatIndex2 + treatIndex3\", rddata_detrended_hands).fit(cov_type='HC1')\n",
    "rd_hands3_inter_daily = smf.ols(\"Hands ~ Treat + index + index2 + index3 + \\\n",
    "                                 treatIndex + treatIndex2 + treatIndex3\", rddaily).fit(cov_type='HC1')\n",
    "rd_hands3_inter_daily_detrended = smf.ols(\"Hands ~ Treat + index + index2 + index3 + \\\n",
    "                                 treatIndex + treatIndex2 + treatIndex3\", rddaily_detrended_hands).fit(cov_type='HC1')\n",
    "#rd_hands3_inter.summary()\n",
    "#rd_hands3_inter_detrended.summary()\n",
    "#rd_hands3_inter_daily.summary()\n",
    "#rd_hands3_inter_daily_detrended.summary()"
   ]
  },
  {
   "cell_type": "markdown",
   "metadata": {},
   "source": [
    "**Avg Minutes RDD**\n",
    "\n",
    "Change \"Minutes ~ ...\" to \"Minutes median ~ ...\" For median minutes"
   ]
  },
  {
   "cell_type": "code",
   "execution_count": 191,
   "metadata": {
    "collapsed": true
   },
   "outputs": [],
   "source": [
    "rd_min2_inter_daily = smf.ols(\"Minutes ~ Treat + index + index2 + treatIndex + treatIndex2\", rdsession).fit(cov_type='HC1')\n",
    "rd_min2_inter_daily_detrended = smf.ols(\"Minutes ~ Treat + index + index2 + \\\n",
    "                                        treatIndex + treatIndex2\", rdsession_detrended_minutes).fit(cov_type='HC1')\n",
    "#rd_min2_inter_daily_detrended.summary()\n",
    "#rd_min2_inter_daily.summary()"
   ]
  },
  {
   "cell_type": "code",
   "execution_count": 194,
   "metadata": {
    "collapsed": true
   },
   "outputs": [],
   "source": [
    "rd_min3_inter_daily = smf.ols(\"Minutes ~ Treat + index + index2 + index3 + \\\n",
    "                                 treatIndex + treatIndex2 + treatIndex3\", rdsession).fit(cov_type='HC1')\n",
    "rd_min3_inter_daily_detrended = smf.ols(\"Minutes ~ Treat + index + index2 + index3 + \\\n",
    "                                 treatIndex + treatIndex2 + treatIndex3\", rdsession_detrended_minutes).fit(cov_type='HC1')\n",
    "#rd_min3_inter_daily.summary()\n",
    "#rd_min3_inter_daily_detrended.summary()"
   ]
  },
  {
   "cell_type": "markdown",
   "metadata": {},
   "source": [
    "** Plot **"
   ]
  },
  {
   "cell_type": "code",
   "execution_count": 205,
   "metadata": {
    "scrolled": true
   },
   "outputs": [
    {
     "data": {
      "text/plain": [
       "[<matplotlib.lines.Line2D at 0x1cc811d0be0>]"
      ]
     },
     "execution_count": 205,
     "metadata": {},
     "output_type": "execute_result"
    },
    {
     "data": {
      "image/png": "[encoded data removed]",
      "text/plain": [
       "<matplotlib.figure.Figure at 0x1cc815b5b38>"
      ]
     },
     "metadata": {},
     "output_type": "display_data"
    }
   ],
   "source": [
    "plt.scatter(rddaily_detrended_hands['forcing'], rddaily_detrended_hands['Hands'])\n",
    "plt.plot(rd_hands3_inter_daily_detrended.fittedvalues, 'r')"
   ]
  },
  {
   "cell_type": "markdown",
   "metadata": {
    "collapsed": true
   },
   "source": [
    "# RD of 2nd cutoff"
   ]
  },
  {
   "cell_type": "code",
   "execution_count": 20,
   "metadata": {
    "collapsed": true
   },
   "outputs": [],
   "source": [
    "rddata2 = data.loc[2500:3500] #Cutoff is at 2960 observation\n",
    "rddaily2 = daily.loc[85:155] #Cutoff is at 125nd obs\n",
    "\n",
    "rddata2 = rddata2.reset_index()\n",
    "rddata2['index'] = rddata2.index\n",
    "rddata2['forcing'] = rddata2.index\n",
    "\n",
    "rddata2['index'] -= get_cutoff_index(rddata2)\n",
    "\n",
    "rddaily2 = rddaily2.reset_index()\n",
    "rddaily2['index'] = rddaily2.index\n",
    "rddaily2['forcing'] = rddaily2.index\n",
    "\n",
    "rddaily2['index'] -= get_cutoff_index(rddaily2)"
   ]
  },
  {
   "cell_type": "code",
   "execution_count": 21,
   "metadata": {
    "collapsed": true
   },
   "outputs": [],
   "source": [
    "rddata2['index2'] = rddata2['index']**2\n",
    "rddata2['index3'] = rddata2['index']**3\n",
    "rddata2['treatIndex'] = rddata2['index'] * rddata2['Treat']\n",
    "rddata2['treatIndex2'] = rddata2['index2'] * rddata2['Treat']\n",
    "rddata2['treatIndex3'] = rddata2['index3'] * rddata2['Treat']\n",
    "\n",
    "rddaily2['index2'] = rddaily2['index']**2\n",
    "rddaily2['index3'] = rddaily2['index']**3\n",
    "rddaily2['treatIndex'] = rddaily2['index'] * rddaily2['Treat']\n",
    "rddaily2['treatIndex2'] = rddaily2['index2'] * rddaily2['Treat']\n",
    "rddaily2['treatIndex3'] = rddaily2['index3'] * rddaily2['Treat']"
   ]
  },
  {
   "cell_type": "markdown",
   "metadata": {},
   "source": [
    "**Rake RDD (2nd shock)**"
   ]
  },
  {
   "cell_type": "code",
   "execution_count": 22,
   "metadata": {
    "collapsed": true
   },
   "outputs": [],
   "source": [
    "after_rd_rake3_inter = smf.ols(\"Rake ~ After + index + index2 + index3 + \\\n",
    "                                treatIndex + treatIndex2 + treatIndex3\", rddata2).fit(cov_type='HC1')\n",
    "after_rd_rake3_inter_daily = smf.ols(\"Rake ~ After + + index + index2 + index3 +\\\n",
    "                                      treatIndex + treatIndex2 + treatIndex3\", rddaily2).fit(cov_type='HC1')\n",
    "\n",
    "after_rd_rake3_daily = smf.ols(\"Rake ~ Treat + index + index2 + index3\", rddaily2).fit(cov_type='HC1')\n",
    "#after_rd_rake3_inter.summary()\n",
    "#after_rd_rake3_inter_daily.summary()\n",
    "#after_rd_rake3_daily.summary()"
   ]
  },
  {
   "cell_type": "code",
   "execution_count": 23,
   "metadata": {
    "collapsed": true
   },
   "outputs": [],
   "source": [
    "after_rd_rake2_inter = smf.ols(\"Rake ~ After + + index + index2 + treatIndex + treatIndex2\", rddata2).fit(cov_type='HC1')\n",
    "after_rd_rake2_inter_daily = smf.ols(\"Rake ~ After + + index + index2 + treatIndex + treatIndex2\", rddaily2).fit(cov_type='HC1')\n",
    "#after_rd_rake2_inter.summary()\n",
    "#after_rd_rake2_inter_daily.summary()"
   ]
  },
  {
   "cell_type": "markdown",
   "metadata": {},
   "source": [
    "**Hands RDD (2nd shock)**"
   ]
  },
  {
   "cell_type": "code",
   "execution_count": 24,
   "metadata": {
    "collapsed": true
   },
   "outputs": [],
   "source": [
    "after_rd_hands2_inter = smf.ols(\"Hands ~ After + + index + index2 + treatIndex + treatIndex2\", rddaily2).fit(cov_type='HC1')\n",
    "after_rd_hands2_inter_daily = smf.ols(\"Hands ~ After + + index + index2 + treatIndex + treatIndex2\", rddaily2).fit(cov_type='HC1')\n",
    "#after_rd_hands2_inter.summary()\n",
    "#after_rd_hands2_inter_daily.summary()"
   ]
  },
  {
   "cell_type": "code",
   "execution_count": 25,
   "metadata": {
    "collapsed": true
   },
   "outputs": [],
   "source": [
    "after_rd_hands3_inter = smf.ols(\"Hands ~ After + index + index2 + index3 + treatIndex + treatIndex2 + treatIndex3\", rddaily2).fit(cov_type='HC1')\n",
    "after_rd_hands3_inter_daily = smf.ols(\"Hands ~ After + + index + index2 + index3 + treatIndex + treatIndex2 + treatIndex3\", rddaily2).fit(cov_type='HC1')\n",
    "#after_rd_hands3_inter.summary()\n",
    "#after_rd_hands3_inter_daily.summary()"
   ]
  },
  {
   "cell_type": "code",
   "execution_count": 26,
   "metadata": {},
   "outputs": [
    {
     "data": {
      "text/plain": [
       "[<matplotlib.lines.Line2D at 0x25f82917208>]"
      ]
     },
     "execution_count": 26,
     "metadata": {},
     "output_type": "execute_result"
    },
    {
     "data": {
      "image/png": "[encoded data removed]",
      "text/plain": [
       "<matplotlib.figure.Figure at 0x25f8687f0b8>"
      ]
     },
     "metadata": {},
     "output_type": "display_data"
    }
   ],
   "source": [
    "plt.scatter(rddaily2['index'], rddaily2['Rake'])\n",
    "plt.plot(after_rd_rake3_inter_daily.fittedvalues, 'r')"
   ]
  }
 ],
 "metadata": {
  "kernelspec": {
   "display_name": "Python [default]",
   "language": "python",
   "name": "python3"
  },
  "language_info": {
   "codemirror_mode": {
    "name": "ipython",
    "version": 3
   },
   "file_extension": ".py",
   "mimetype": "text/x-python",
   "name": "python",
   "nbconvert_exporter": "python",
   "pygments_lexer": "ipython3",
   "version": "3.5.3"
  }
 },
 "nbformat": 4,
 "nbformat_minor": 2
}
