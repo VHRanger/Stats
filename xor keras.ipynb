{
  "nbformat": 4,
  "nbformat_minor": 0,
  "metadata": {
    "colab": {
      "name": "xor test",
      "version": "0.3.2",
      "views": {},
      "default_view": {},
      "provenance": [],
      "collapsed_sections": []
    },
    "kernelspec": {
      "name": "python3",
      "display_name": "Python 3"
    },
    "accelerator": "GPU"
  },
  "cells": [
    {
      "metadata": {
        "id": "F0ZJI_U1wP_T",
        "colab_type": "code",
        "colab": {
          "autoexec": {
            "startup": false,
            "wait_interval": 0
          },
          "output_extras": [
            {
              "item_id": 1
            },
            {
              "item_id": 2
            }
          ],
          "base_uri": "https://localhost:8080/",
          "height": 289
        },
        "outputId": "b1d28f53-3511-4c22-9661-751837cf90c8",
        "executionInfo": {
          "status": "ok",
          "timestamp": 1521752763952,
          "user_tz": 240,
          "elapsed": 5430,
          "user": {
            "displayName": "Matthieu Ranger",
            "photoUrl": "https://lh3.googleusercontent.com/a/default-user=s128",
            "userId": "117809876292530454426"
          }
        }
      },
      "cell_type": "code",
      "source": [
        "import tensorflow as tf\n",
        "import matplotlib.pyplot as plt\n",
        "import numpy as np\n",
        "from sklearn.neural_network import MLPClassifier\n",
        "from keras.models import Sequential\n",
        "from keras.layers import Dense, LSTM, Dropout, RNN\n",
        "from keras.preprocessing.sequence import pad_sequences\n",
        "from keras import optimizers\n",
        "import matplotlib.pyplot as plt\n",
        "from tensorflow.python.client import device_lib\n",
        "print(device_lib.list_local_devices())"
      ],
      "execution_count": 1,
      "outputs": [
        {
          "output_type": "stream",
          "text": [
            "Using TensorFlow backend.\n"
          ],
          "name": "stderr"
        },
        {
          "output_type": "stream",
          "text": [
            "[name: \"/device:CPU:0\"\n",
            "device_type: \"CPU\"\n",
            "memory_limit: 268435456\n",
            "locality {\n",
            "}\n",
            "incarnation: 15638000699287692387\n",
            ", name: \"/device:GPU:0\"\n",
            "device_type: \"GPU\"\n",
            "memory_limit: 11297803469\n",
            "locality {\n",
            "  bus_id: 1\n",
            "}\n",
            "incarnation: 15569911474930394396\n",
            "physical_device_desc: \"device: 0, name: Tesla K80, pci bus id: 0000:00:04.0, compute capability: 3.7\"\n",
            "]\n"
          ],
          "name": "stdout"
        }
      ]
    },
    {
      "metadata": {
        "id": "h6R_I46kw9TQ",
        "colab_type": "code",
        "colab": {
          "autoexec": {
            "startup": false,
            "wait_interval": 0
          }
        }
      },
      "cell_type": "code",
      "source": [
        "def createXorData(samples=100000, size=50):\n",
        "  \"\"\"\n",
        "  generates a dataset for the XOR problem in \n",
        "    https://blog.openai.com/requests-for-research-2/\n",
        "  LHS are sequences of bools\n",
        "  RHS computes the parity bit \n",
        "    (eg. wether the sequence has odd or even sum)\n",
        "  \"\"\"\n",
        "  lhs = np.zeros((samples, size), dtype=np.float32)\n",
        "  rhs = np.zeros(samples)\n",
        "  for row in range(samples):\n",
        "    lhs[row] = np.random.randint(0, 2, size)\n",
        "    rhs[row] = lhs[row].sum() % 2\n",
        "  return lhs, rhs"
      ],
      "execution_count": 0,
      "outputs": []
    },
    {
      "metadata": {
        "id": "-LUCmfF2zmWI",
        "colab_type": "code",
        "colab": {
          "autoexec": {
            "startup": false,
            "wait_interval": 0
          }
        }
      },
      "cell_type": "code",
      "source": [
        "SIZE = 8\n",
        "SAMPLES = 60000\n",
        "BATCH_SIZE = 3000\n",
        "\n",
        "Xtrain, Ytrain = createXorData(SAMPLES, SIZE)\n",
        "Xtest, Ytest = createXorData(int(SAMPLES/2), SIZE)"
      ],
      "execution_count": 0,
      "outputs": []
    },
    {
      "metadata": {
        "id": "iGEso44t9Cx7",
        "colab_type": "code",
        "colab": {
          "autoexec": {
            "startup": false,
            "wait_interval": 0
          },
          "output_extras": [
            {
              "item_id": 1
            }
          ],
          "base_uri": "https://localhost:8080/",
          "height": 34
        },
        "outputId": "a4e65fcf-ec3b-4760-a4f4-cbf825cadda3",
        "executionInfo": {
          "status": "ok",
          "timestamp": 1521751840697,
          "user_tz": 240,
          "elapsed": 5890,
          "user": {
            "displayName": "Matthieu Ranger",
            "photoUrl": "https://lh3.googleusercontent.com/a/default-user=s128",
            "userId": "117809876292530454426"
          }
        }
      },
      "cell_type": "code",
      "source": [
        "#\n",
        "# sklearn MLP\n",
        "#\n",
        "mlp = MLPClassifier(hidden_layer_sizes=(50, 50, 50),\n",
        "                    activation=\"relu\"\n",
        "                   ).fit(Xtrain, Ytrain)\n",
        "pred_score = mlp.score(Xtest, Ytest)\n",
        "print(pred_score)"
      ],
      "execution_count": 32,
      "outputs": [
        {
          "output_type": "stream",
          "text": [
            "1.0\n"
          ],
          "name": "stdout"
        }
      ]
    },
    {
      "metadata": {
        "id": "dBv47Jm3iJSU",
        "colab_type": "code",
        "colab": {
          "autoexec": {
            "startup": false,
            "wait_interval": 0
          },
          "output_extras": [
            {
              "item_id": 11
            },
            {
              "item_id": 25
            },
            {
              "item_id": 38
            },
            {
              "item_id": 51
            },
            {
              "item_id": 63
            },
            {
              "item_id": 76
            },
            {
              "item_id": 89
            },
            {
              "item_id": 102
            },
            {
              "item_id": 115
            },
            {
              "item_id": 128
            },
            {
              "item_id": 141
            },
            {
              "item_id": 154
            },
            {
              "item_id": 166
            },
            {
              "item_id": 180
            },
            {
              "item_id": 193
            },
            {
              "item_id": 206
            },
            {
              "item_id": 219
            },
            {
              "item_id": 232
            },
            {
              "item_id": 245
            },
            {
              "item_id": 258
            },
            {
              "item_id": 271
            },
            {
              "item_id": 284
            },
            {
              "item_id": 298
            },
            {
              "item_id": 303
            },
            {
              "item_id": 304
            },
            {
              "item_id": 305
            },
            {
              "item_id": 306
            }
          ],
          "base_uri": "https://localhost:8080/",
          "height": 11628
        },
        "outputId": "6a1c2479-64d0-40d6-f76d-de52c4face47",
        "executionInfo": {
          "status": "error",
          "timestamp": 1521753532933,
          "user_tz": 240,
          "elapsed": 139531,
          "user": {
            "displayName": "Matthieu Ranger",
            "photoUrl": "https://lh3.googleusercontent.com/a/default-user=s128",
            "userId": "117809876292530454426"
          }
        }
      },
      "cell_type": "code",
      "source": [
        "\"\"\"\n",
        "Training data is shaped as a normal matrix\n",
        "[[0,1,1], [1,0,0], ..., [1,1,1]]\n",
        "\n",
        "The RNN cell takes as input a sequence of sequences,\n",
        "so to have a rnn sequence length of [# features] \n",
        "the data needs to be reshaped as\n",
        "[[[0],[1],[1]], [[1],[0],[0]], ..., [[1],[1],[1]]]\n",
        "\n",
        "(alternatively the data can be further split \n",
        " in more sub-array of sequences in the features)\n",
        "\"\"\"\n",
        "model = Sequential()\n",
        "model.add(LSTM(SIZE, batch_input_shape=(BATCH_SIZE, SIZE, 1), stateful=True))\n",
        "model.add(Dense(1, activation='sigmoid'))\n",
        "model_opt = optimizers.Adam(lr=0.5, beta_1=0.9, beta_2=0.999,\n",
        "                            epsilon=None, decay=0.001, amsgrad=False)\n",
        "model.compile(optimizer=model_opt, loss='binary_crossentropy', metrics=['acc'])\n",
        "\n",
        "model.summary()\n",
        "history = model.fit(\n",
        "    # reshape training data in \n",
        "    Xtrain.reshape((len(Xtrain), SIZE, 1)),\n",
        "    Ytrain, epochs=300,\n",
        "    batch_size=BATCH_SIZE,\n",
        "    validation_split=0.05, \n",
        "    shuffle=True, verbose=True)\n",
        "#\n",
        "# Plotting output\n",
        "#\n",
        "loss = history.history['loss']\n",
        "val_loss = history.history['val_loss']\n",
        "epochs = range(1, len(loss) + 1)\n",
        "\n",
        "plt.figure()\n",
        "plt.plot(epochs, loss, 'bo', label='Training loss')\n",
        "plt.plot(epochs, val_loss, 'b', label='Validation loss')\n",
        "plt.title('Training and validation loss')\n",
        "plt.xlabel('Epochs')\n",
        "plt.ylabel('Loss')\n",
        "plt.legend()\n",
        "plt.figure()\n",
        "\n",
        "acc = history.history['acc']\n",
        "val_acc = history.history['val_acc']\n",
        "plt.plot(epochs, acc, 'bo', label='Training acc')\n",
        "plt.plot(epochs, val_acc, 'b', label='Validation acc')\n",
        "plt.title('Training and validation accuracy')\n",
        "plt.xlabel('Epochs')\n",
        "plt.ylabel('Accuracy')\n",
        "plt.legend()\n",
        "\n",
        "plt.show()\n",
        "preds = model.predict(Xtest.reshape((len(Xtest), SIZE, 1)))\n",
        "preds = np.round(preds[:, 0]).astype('float32')\n",
        "acc = (np.sum(preds == Ytest) / len(Ytest)) * 100.\n",
        "print('Accuracy: {:.2f}%'.format(acc))"
      ],
      "execution_count": 8,
      "outputs": [
        {
          "output_type": "stream",
          "text": [
            "_________________________________________________________________\n",
            "Layer (type)                 Output Shape              Param #   \n",
            "=================================================================\n",
            "lstm_5 (LSTM)                (3000, 8)                 320       \n",
            "_________________________________________________________________\n",
            "dense_5 (Dense)              (3000, 1)                 9         \n",
            "=================================================================\n",
            "Total params: 329\n",
            "Trainable params: 329\n",
            "Non-trainable params: 0\n",
            "_________________________________________________________________\n",
            "WARNING:tensorflow:Variable *= will be deprecated. Use variable.assign_mul if you want assignment to the variable value or 'x = x * y' if you want a new python Tensor object.\n",
            "Train on 57000 samples, validate on 3000 samples\n",
            "Epoch 1/300\n",
            "57000/57000 [==============================] - 1s 19us/step - loss: 0.7638 - acc: 0.4984 - val_loss: 0.7026 - val_acc: 0.4947\n",
            "Epoch 2/300\n",
            "57000/57000 [==============================] - 0s 9us/step - loss: 0.6952 - acc: 0.5037 - val_loss: 0.6938 - val_acc: 0.5053\n",
            "Epoch 3/300\n",
            "57000/57000 [==============================] - 1s 9us/step - loss: 0.6939 - acc: 0.5023 - val_loss: 0.6932 - val_acc: 0.5053\n",
            "Epoch 4/300\n",
            "57000/57000 [==============================] - 1s 9us/step - loss: 0.6941 - acc: 0.4966 - val_loss: 0.6935 - val_acc: 0.4947\n",
            "Epoch 5/300\n",
            "57000/57000 [==============================] - 0s 9us/step - loss: 0.6938 - acc: 0.5014 - val_loss: 0.6933 - val_acc: 0.4947\n",
            "Epoch 6/300\n",
            "57000/57000 [==============================] - 0s 8us/step - loss: 0.6935 - acc: 0.5019 - val_loss: 0.6935 - val_acc: 0.4947\n",
            "Epoch 7/300\n",
            "57000/57000 [==============================] - 0s 8us/step - loss: 0.6950 - acc: 0.4989 - val_loss: 0.6943 - val_acc: 0.5053\n",
            "Epoch 8/300\n",
            "27000/57000 [=============>................] - ETA: 0s - loss: 0.6941 - acc: 0.5019"
          ],
          "name": "stdout"
        },
        {
          "output_type": "stream",
          "text": [
            "57000/57000 [==============================] - 0s 8us/step - loss: 0.6955 - acc: 0.5011 - val_loss: 0.6997 - val_acc: 0.4947\n",
            "Epoch 9/300\n",
            "57000/57000 [==============================] - 0s 8us/step - loss: 0.6949 - acc: 0.4993 - val_loss: 0.6944 - val_acc: 0.4947\n",
            "Epoch 10/300\n",
            "57000/57000 [==============================] - 0s 8us/step - loss: 0.6939 - acc: 0.5008 - val_loss: 0.6940 - val_acc: 0.4947\n",
            "Epoch 11/300\n",
            "57000/57000 [==============================] - 0s 8us/step - loss: 0.6944 - acc: 0.4993 - val_loss: 0.6954 - val_acc: 0.5053\n",
            "Epoch 12/300\n",
            "57000/57000 [==============================] - 0s 8us/step - loss: 0.6937 - acc: 0.5005 - val_loss: 0.6932 - val_acc: 0.4947\n",
            "Epoch 13/300\n",
            "57000/57000 [==============================] - 0s 8us/step - loss: 0.6936 - acc: 0.4991 - val_loss: 0.6933 - val_acc: 0.5053\n",
            "Epoch 14/300\n",
            "57000/57000 [==============================] - 0s 8us/step - loss: 0.6950 - acc: 0.4982 - val_loss: 0.6949 - val_acc: 0.5053\n",
            "Epoch 15/300\n",
            "57000/57000 [==============================] - 0s 8us/step - loss: 0.6942 - acc: 0.5000 - val_loss: 0.6935 - val_acc: 0.5053\n",
            "Epoch 16/300\n",
            "57000/57000 [==============================] - 0s 8us/step - loss: 0.6945 - acc: 0.4989 - val_loss: 0.6939 - val_acc: 0.5053\n",
            "Epoch 17/300\n",
            "57000/57000 [==============================] - 0s 8us/step - loss: 0.6966 - acc: 0.4982 - val_loss: 0.6953 - val_acc: 0.5053\n",
            "Epoch 18/300\n",
            "57000/57000 [==============================] - 0s 8us/step - loss: 0.6944 - acc: 0.5021 - val_loss: 0.6960 - val_acc: 0.4947\n",
            "Epoch 19/300\n",
            "57000/57000 [==============================] - 0s 8us/step - loss: 0.6940 - acc: 0.4989 - val_loss: 0.6952 - val_acc: 0.4947\n",
            "Epoch 20/300\n",
            "57000/57000 [==============================] - 0s 8us/step - loss: 0.6945 - acc: 0.5028 - val_loss: 0.6931 - val_acc: 0.5053\n",
            "Epoch 21/300\n",
            " 9000/57000 [===>..........................] - ETA: 0s - loss: 0.6934 - acc: 0.5041"
          ],
          "name": "stdout"
        },
        {
          "output_type": "stream",
          "text": [
            "57000/57000 [==============================] - 0s 8us/step - loss: 0.6955 - acc: 0.4979 - val_loss: 0.6951 - val_acc: 0.4947\n",
            "Epoch 22/300\n",
            "57000/57000 [==============================] - 0s 8us/step - loss: 0.6938 - acc: 0.5004 - val_loss: 0.6949 - val_acc: 0.4947\n",
            "Epoch 23/300\n",
            "57000/57000 [==============================] - 0s 8us/step - loss: 0.6946 - acc: 0.5029 - val_loss: 0.6946 - val_acc: 0.5053\n",
            "Epoch 24/300\n",
            "57000/57000 [==============================] - 0s 8us/step - loss: 0.6943 - acc: 0.4993 - val_loss: 0.6931 - val_acc: 0.5053\n",
            "Epoch 25/300\n",
            "57000/57000 [==============================] - 0s 8us/step - loss: 0.6933 - acc: 0.5047 - val_loss: 0.6933 - val_acc: 0.5053\n",
            "Epoch 26/300\n",
            "57000/57000 [==============================] - 0s 8us/step - loss: 0.6937 - acc: 0.4994 - val_loss: 0.6933 - val_acc: 0.4947\n",
            "Epoch 27/300\n",
            "57000/57000 [==============================] - 0s 8us/step - loss: 0.6967 - acc: 0.4952 - val_loss: 0.6967 - val_acc: 0.5053\n",
            "Epoch 28/300\n",
            "57000/57000 [==============================] - 0s 8us/step - loss: 0.6949 - acc: 0.5026 - val_loss: 0.6973 - val_acc: 0.4947\n",
            "Epoch 29/300\n",
            "57000/57000 [==============================] - 0s 8us/step - loss: 0.6946 - acc: 0.5015 - val_loss: 0.6955 - val_acc: 0.4947\n",
            "Epoch 30/300\n",
            "57000/57000 [==============================] - 0s 8us/step - loss: 0.6947 - acc: 0.4972 - val_loss: 0.6940 - val_acc: 0.5053\n",
            "Epoch 31/300\n",
            "57000/57000 [==============================] - 0s 8us/step - loss: 0.6946 - acc: 0.5004 - val_loss: 0.6932 - val_acc: 0.4947\n",
            "Epoch 32/300\n",
            "57000/57000 [==============================] - 0s 8us/step - loss: 0.6934 - acc: 0.4988 - val_loss: 0.6940 - val_acc: 0.4947\n",
            "Epoch 33/300\n",
            "57000/57000 [==============================] - 0s 8us/step - loss: 0.6941 - acc: 0.4976 - val_loss: 0.6957 - val_acc: 0.4947\n",
            "Epoch 34/300\n",
            "21000/57000 [==========>...................] - ETA: 0s - loss: 0.6954 - acc: 0.4971"
          ],
          "name": "stdout"
        },
        {
          "output_type": "stream",
          "text": [
            "57000/57000 [==============================] - 0s 8us/step - loss: 0.6970 - acc: 0.5006 - val_loss: 0.6935 - val_acc: 0.5053\n",
            "Epoch 35/300\n",
            "57000/57000 [==============================] - 0s 8us/step - loss: 0.6944 - acc: 0.5004 - val_loss: 0.6932 - val_acc: 0.5053\n",
            "Epoch 36/300\n",
            "57000/57000 [==============================] - 0s 8us/step - loss: 0.6937 - acc: 0.5055 - val_loss: 0.6959 - val_acc: 0.4947\n",
            "Epoch 37/300\n",
            "57000/57000 [==============================] - 0s 8us/step - loss: 0.6939 - acc: 0.4993 - val_loss: 0.6932 - val_acc: 0.4947\n",
            "Epoch 38/300\n",
            "57000/57000 [==============================] - 0s 8us/step - loss: 0.6960 - acc: 0.5017 - val_loss: 0.7026 - val_acc: 0.5053\n",
            "Epoch 39/300\n",
            "57000/57000 [==============================] - 0s 8us/step - loss: 0.6949 - acc: 0.5006 - val_loss: 0.6935 - val_acc: 0.5053\n",
            "Epoch 40/300\n",
            "57000/57000 [==============================] - 0s 8us/step - loss: 0.6938 - acc: 0.4978 - val_loss: 0.6931 - val_acc: 0.5053\n",
            "Epoch 41/300\n",
            "57000/57000 [==============================] - 0s 8us/step - loss: 0.6938 - acc: 0.4997 - val_loss: 0.6978 - val_acc: 0.4947\n",
            "Epoch 42/300\n",
            "57000/57000 [==============================] - 0s 8us/step - loss: 0.6990 - acc: 0.5012 - val_loss: 0.6938 - val_acc: 0.5053\n",
            "Epoch 43/300\n",
            "57000/57000 [==============================] - 0s 8us/step - loss: 0.6952 - acc: 0.4976 - val_loss: 0.6931 - val_acc: 0.5053\n",
            "Epoch 44/300\n",
            "57000/57000 [==============================] - 0s 8us/step - loss: 0.6939 - acc: 0.5004 - val_loss: 0.6952 - val_acc: 0.4947\n",
            "Epoch 45/300\n",
            "57000/57000 [==============================] - 0s 8us/step - loss: 0.6937 - acc: 0.5028 - val_loss: 0.6958 - val_acc: 0.4947\n",
            "Epoch 46/300\n",
            "57000/57000 [==============================] - 0s 8us/step - loss: 0.6939 - acc: 0.4982 - val_loss: 0.6931 - val_acc: 0.5053\n",
            "Epoch 47/300\n",
            "39000/57000 [===================>..........] - ETA: 0s - loss: 0.6935 - acc: 0.4993"
          ],
          "name": "stdout"
        },
        {
          "output_type": "stream",
          "text": [
            "57000/57000 [==============================] - 0s 8us/step - loss: 0.6935 - acc: 0.5019 - val_loss: 0.6933 - val_acc: 0.4947\n",
            "Epoch 48/300\n",
            "57000/57000 [==============================] - 0s 8us/step - loss: 0.6943 - acc: 0.4998 - val_loss: 0.6945 - val_acc: 0.5053\n",
            "Epoch 49/300\n",
            "57000/57000 [==============================] - 0s 8us/step - loss: 0.6958 - acc: 0.5000 - val_loss: 0.6958 - val_acc: 0.4947\n",
            "Epoch 50/300\n",
            "57000/57000 [==============================] - 0s 8us/step - loss: 0.6940 - acc: 0.5001 - val_loss: 0.6931 - val_acc: 0.5053\n",
            "Epoch 51/300\n",
            "57000/57000 [==============================] - 0s 8us/step - loss: 0.6943 - acc: 0.4974 - val_loss: 0.6932 - val_acc: 0.4947\n",
            "Epoch 52/300\n",
            "57000/57000 [==============================] - 0s 8us/step - loss: 0.6942 - acc: 0.5007 - val_loss: 0.6934 - val_acc: 0.5053\n",
            "Epoch 53/300\n",
            "57000/57000 [==============================] - 0s 8us/step - loss: 0.6935 - acc: 0.5000 - val_loss: 0.6954 - val_acc: 0.4947\n",
            "Epoch 54/300\n",
            "57000/57000 [==============================] - 0s 8us/step - loss: 0.6935 - acc: 0.5006 - val_loss: 0.6933 - val_acc: 0.5053\n",
            "Epoch 55/300\n",
            "57000/57000 [==============================] - 0s 8us/step - loss: 0.6946 - acc: 0.5011 - val_loss: 0.6932 - val_acc: 0.5053\n",
            "Epoch 56/300\n",
            "57000/57000 [==============================] - 0s 8us/step - loss: 0.6967 - acc: 0.5011 - val_loss: 0.6932 - val_acc: 0.4947\n",
            "Epoch 57/300\n",
            "57000/57000 [==============================] - 0s 8us/step - loss: 0.6952 - acc: 0.4981 - val_loss: 0.6955 - val_acc: 0.5053\n",
            "Epoch 58/300\n",
            "57000/57000 [==============================] - 0s 8us/step - loss: 0.6938 - acc: 0.5003 - val_loss: 0.6932 - val_acc: 0.5053\n",
            "Epoch 59/300\n",
            "57000/57000 [==============================] - 0s 8us/step - loss: 0.6942 - acc: 0.4971 - val_loss: 0.6932 - val_acc: 0.4947\n",
            "Epoch 60/300\n",
            "27000/57000 [=============>................] - ETA: 0s - loss: 0.6940 - acc: 0.4981"
          ],
          "name": "stdout"
        },
        {
          "output_type": "stream",
          "text": [
            "57000/57000 [==============================] - 0s 8us/step - loss: 0.6938 - acc: 0.4999 - val_loss: 0.6931 - val_acc: 0.5053\n",
            "Epoch 61/300\n",
            "57000/57000 [==============================] - 0s 8us/step - loss: 0.6932 - acc: 0.5024 - val_loss: 0.6931 - val_acc: 0.5053\n",
            "Epoch 62/300\n",
            "57000/57000 [==============================] - 0s 8us/step - loss: 0.6939 - acc: 0.4991 - val_loss: 0.6963 - val_acc: 0.5053\n",
            "Epoch 63/300\n",
            "57000/57000 [==============================] - 0s 8us/step - loss: 0.6944 - acc: 0.5006 - val_loss: 0.6947 - val_acc: 0.4947\n",
            "Epoch 64/300\n",
            "57000/57000 [==============================] - 0s 8us/step - loss: 0.6938 - acc: 0.4988 - val_loss: 0.6933 - val_acc: 0.5053\n",
            "Epoch 65/300\n",
            "57000/57000 [==============================] - 0s 8us/step - loss: 0.6941 - acc: 0.5009 - val_loss: 0.6944 - val_acc: 0.4947\n",
            "Epoch 66/300\n",
            "57000/57000 [==============================] - 0s 8us/step - loss: 0.6935 - acc: 0.5000 - val_loss: 0.6936 - val_acc: 0.4947\n",
            "Epoch 67/300\n",
            "57000/57000 [==============================] - 0s 8us/step - loss: 0.6963 - acc: 0.5002 - val_loss: 0.7049 - val_acc: 0.5053\n",
            "Epoch 68/300\n",
            "57000/57000 [==============================] - 0s 8us/step - loss: 0.6948 - acc: 0.5044 - val_loss: 0.6950 - val_acc: 0.5053\n",
            "Epoch 69/300\n",
            "57000/57000 [==============================] - 0s 8us/step - loss: 0.6936 - acc: 0.5000 - val_loss: 0.6934 - val_acc: 0.4947\n",
            "Epoch 70/300\n",
            "57000/57000 [==============================] - 0s 8us/step - loss: 0.6951 - acc: 0.4974 - val_loss: 0.6931 - val_acc: 0.5053\n",
            "Epoch 71/300\n",
            "57000/57000 [==============================] - 0s 8us/step - loss: 0.6939 - acc: 0.5011 - val_loss: 0.6931 - val_acc: 0.5053\n",
            "Epoch 72/300\n",
            "57000/57000 [==============================] - 0s 8us/step - loss: 0.6944 - acc: 0.5002 - val_loss: 0.6940 - val_acc: 0.4947\n",
            "Epoch 73/300\n",
            "39000/57000 [===================>..........] - ETA: 0s - loss: 0.6937 - acc: 0.5009"
          ],
          "name": "stdout"
        },
        {
          "output_type": "stream",
          "text": [
            "57000/57000 [==============================] - 0s 8us/step - loss: 0.6941 - acc: 0.5008 - val_loss: 0.6942 - val_acc: 0.4947\n",
            "Epoch 74/300\n",
            "57000/57000 [==============================] - 0s 8us/step - loss: 0.6942 - acc: 0.4991 - val_loss: 0.6931 - val_acc: 0.5053\n",
            "Epoch 75/300\n",
            "57000/57000 [==============================] - 0s 8us/step - loss: 0.6956 - acc: 0.5021 - val_loss: 0.6971 - val_acc: 0.5053\n",
            "Epoch 76/300\n",
            "57000/57000 [==============================] - 0s 8us/step - loss: 0.6987 - acc: 0.5031 - val_loss: 0.6940 - val_acc: 0.4947\n",
            "Epoch 77/300\n",
            "57000/57000 [==============================] - 0s 8us/step - loss: 0.6939 - acc: 0.5002 - val_loss: 0.6936 - val_acc: 0.4947\n",
            "Epoch 78/300\n",
            "57000/57000 [==============================] - 0s 8us/step - loss: 0.6935 - acc: 0.5011 - val_loss: 0.6935 - val_acc: 0.4947\n",
            "Epoch 79/300\n",
            "57000/57000 [==============================] - 0s 8us/step - loss: 0.6935 - acc: 0.5018 - val_loss: 0.6936 - val_acc: 0.5053\n",
            "Epoch 80/300\n",
            "57000/57000 [==============================] - 0s 8us/step - loss: 0.6935 - acc: 0.5022 - val_loss: 0.6932 - val_acc: 0.4947\n",
            "Epoch 81/300\n",
            "57000/57000 [==============================] - 0s 8us/step - loss: 0.6939 - acc: 0.5007 - val_loss: 0.6935 - val_acc: 0.5053\n",
            "Epoch 82/300\n",
            "57000/57000 [==============================] - 0s 8us/step - loss: 0.6943 - acc: 0.4982 - val_loss: 0.6935 - val_acc: 0.4947\n",
            "Epoch 83/300\n",
            "57000/57000 [==============================] - 0s 8us/step - loss: 0.6949 - acc: 0.4989 - val_loss: 0.6931 - val_acc: 0.5053\n",
            "Epoch 84/300\n",
            "57000/57000 [==============================] - 0s 8us/step - loss: 0.6948 - acc: 0.4984 - val_loss: 0.6931 - val_acc: 0.5053\n",
            "Epoch 85/300\n",
            "57000/57000 [==============================] - 0s 8us/step - loss: 0.6936 - acc: 0.5001 - val_loss: 0.6931 - val_acc: 0.5053\n",
            "Epoch 86/300\n",
            "45000/57000 [======================>.......] - ETA: 0s - loss: 0.6957 - acc: 0.4978"
          ],
          "name": "stdout"
        },
        {
          "output_type": "stream",
          "text": [
            "57000/57000 [==============================] - 0s 8us/step - loss: 0.6956 - acc: 0.4999 - val_loss: 0.6974 - val_acc: 0.4947\n",
            "Epoch 87/300\n",
            "57000/57000 [==============================] - 0s 8us/step - loss: 0.6939 - acc: 0.5013 - val_loss: 0.6931 - val_acc: 0.5053\n",
            "Epoch 88/300\n",
            "57000/57000 [==============================] - 0s 8us/step - loss: 0.6956 - acc: 0.5031 - val_loss: 0.6942 - val_acc: 0.4947\n",
            "Epoch 89/300\n",
            "57000/57000 [==============================] - 0s 8us/step - loss: 0.6946 - acc: 0.5009 - val_loss: 0.6931 - val_acc: 0.5053\n",
            "Epoch 90/300\n",
            "57000/57000 [==============================] - 0s 8us/step - loss: 0.6944 - acc: 0.5008 - val_loss: 0.6933 - val_acc: 0.5053\n",
            "Epoch 91/300\n",
            "57000/57000 [==============================] - 0s 8us/step - loss: 0.6934 - acc: 0.5034 - val_loss: 0.6932 - val_acc: 0.5053\n",
            "Epoch 92/300\n",
            "57000/57000 [==============================] - 0s 8us/step - loss: 0.6947 - acc: 0.4982 - val_loss: 0.6936 - val_acc: 0.4947\n",
            "Epoch 93/300\n",
            "57000/57000 [==============================] - 0s 8us/step - loss: 0.6944 - acc: 0.4988 - val_loss: 0.6935 - val_acc: 0.4947\n",
            "Epoch 94/300\n",
            "57000/57000 [==============================] - 0s 8us/step - loss: 0.6946 - acc: 0.4991 - val_loss: 0.6944 - val_acc: 0.5053\n",
            "Epoch 95/300\n",
            "57000/57000 [==============================] - 0s 8us/step - loss: 0.6942 - acc: 0.4983 - val_loss: 0.6961 - val_acc: 0.4947\n",
            "Epoch 96/300\n",
            "57000/57000 [==============================] - 0s 8us/step - loss: 0.6939 - acc: 0.4999 - val_loss: 0.6944 - val_acc: 0.4947\n",
            "Epoch 97/300\n",
            "57000/57000 [==============================] - 0s 8us/step - loss: 0.6936 - acc: 0.4986 - val_loss: 0.6937 - val_acc: 0.5053\n",
            "Epoch 98/300\n",
            "57000/57000 [==============================] - 0s 8us/step - loss: 0.6937 - acc: 0.4984 - val_loss: 0.6944 - val_acc: 0.4947\n",
            "Epoch 99/300\n",
            "48000/57000 [========================>.....] - ETA: 0s - loss: 0.6940 - acc: 0.4962"
          ],
          "name": "stdout"
        },
        {
          "output_type": "stream",
          "text": [
            "57000/57000 [==============================] - 0s 8us/step - loss: 0.6940 - acc: 0.4964 - val_loss: 0.6937 - val_acc: 0.5053\n",
            "Epoch 100/300\n",
            "57000/57000 [==============================] - 0s 8us/step - loss: 0.6938 - acc: 0.4995 - val_loss: 0.6931 - val_acc: 0.5053\n",
            "Epoch 101/300\n",
            "57000/57000 [==============================] - 0s 8us/step - loss: 0.6949 - acc: 0.5003 - val_loss: 0.6954 - val_acc: 0.4947\n",
            "Epoch 102/300\n",
            "57000/57000 [==============================] - 0s 8us/step - loss: 0.6947 - acc: 0.5005 - val_loss: 0.6931 - val_acc: 0.5053\n",
            "Epoch 103/300\n",
            "57000/57000 [==============================] - 0s 8us/step - loss: 0.6946 - acc: 0.5025 - val_loss: 0.6931 - val_acc: 0.5053\n",
            "Epoch 104/300\n",
            "57000/57000 [==============================] - 0s 8us/step - loss: 0.6941 - acc: 0.5014 - val_loss: 0.6931 - val_acc: 0.5053\n",
            "Epoch 105/300\n",
            "57000/57000 [==============================] - 0s 8us/step - loss: 0.6935 - acc: 0.4978 - val_loss: 0.6949 - val_acc: 0.4947\n",
            "Epoch 106/300\n",
            "57000/57000 [==============================] - 0s 8us/step - loss: 0.6941 - acc: 0.5012 - val_loss: 0.6982 - val_acc: 0.4947\n",
            "Epoch 107/300\n",
            "57000/57000 [==============================] - 0s 8us/step - loss: 0.6964 - acc: 0.4995 - val_loss: 0.6997 - val_acc: 0.4947\n",
            "Epoch 108/300\n",
            "57000/57000 [==============================] - 0s 8us/step - loss: 0.6960 - acc: 0.4986 - val_loss: 0.6936 - val_acc: 0.4947\n",
            "Epoch 109/300\n",
            "57000/57000 [==============================] - 0s 8us/step - loss: 0.6935 - acc: 0.4970 - val_loss: 0.6942 - val_acc: 0.4947\n",
            "Epoch 110/300\n",
            "57000/57000 [==============================] - 0s 8us/step - loss: 0.6933 - acc: 0.5024 - val_loss: 0.6944 - val_acc: 0.4947\n",
            "Epoch 111/300\n",
            "57000/57000 [==============================] - 0s 8us/step - loss: 0.6934 - acc: 0.5013 - val_loss: 0.6960 - val_acc: 0.5053\n",
            "Epoch 112/300\n",
            "30000/57000 [==============>...............] - ETA: 0s - loss: 0.6952 - acc: 0.5018"
          ],
          "name": "stdout"
        },
        {
          "output_type": "stream",
          "text": [
            "57000/57000 [==============================] - 0s 8us/step - loss: 0.6955 - acc: 0.5004 - val_loss: 0.6989 - val_acc: 0.5053\n",
            "Epoch 113/300\n",
            "57000/57000 [==============================] - 0s 8us/step - loss: 0.6956 - acc: 0.5002 - val_loss: 0.6942 - val_acc: 0.5053\n",
            "Epoch 114/300\n",
            "57000/57000 [==============================] - 0s 8us/step - loss: 0.6939 - acc: 0.4982 - val_loss: 0.6935 - val_acc: 0.5053\n",
            "Epoch 115/300\n",
            "57000/57000 [==============================] - 0s 8us/step - loss: 0.6946 - acc: 0.5026 - val_loss: 0.6935 - val_acc: 0.5053\n",
            "Epoch 116/300\n",
            "57000/57000 [==============================] - 0s 8us/step - loss: 0.6946 - acc: 0.5018 - val_loss: 0.6931 - val_acc: 0.5053\n",
            "Epoch 117/300\n",
            "57000/57000 [==============================] - 0s 8us/step - loss: 0.6945 - acc: 0.5016 - val_loss: 0.6948 - val_acc: 0.4947\n",
            "Epoch 118/300\n",
            "57000/57000 [==============================] - 0s 8us/step - loss: 0.6939 - acc: 0.4982 - val_loss: 0.6931 - val_acc: 0.5053\n",
            "Epoch 119/300\n",
            "57000/57000 [==============================] - 0s 8us/step - loss: 0.6938 - acc: 0.4984 - val_loss: 0.6945 - val_acc: 0.5053\n",
            "Epoch 120/300\n",
            "57000/57000 [==============================] - 0s 8us/step - loss: 0.6941 - acc: 0.5005 - val_loss: 0.6931 - val_acc: 0.5053\n",
            "Epoch 121/300\n",
            "57000/57000 [==============================] - 0s 8us/step - loss: 0.6936 - acc: 0.5048 - val_loss: 0.6974 - val_acc: 0.4947\n",
            "Epoch 122/300\n",
            "57000/57000 [==============================] - 0s 8us/step - loss: 0.6939 - acc: 0.5000 - val_loss: 0.6934 - val_acc: 0.4947\n",
            "Epoch 123/300\n",
            "57000/57000 [==============================] - 0s 8us/step - loss: 0.6939 - acc: 0.5001 - val_loss: 0.6931 - val_acc: 0.5053\n",
            "Epoch 124/300\n",
            "57000/57000 [==============================] - 0s 8us/step - loss: 0.6940 - acc: 0.5011 - val_loss: 0.6937 - val_acc: 0.5053\n",
            "Epoch 125/300\n",
            "12000/57000 [=====>........................] - ETA: 0s - loss: 0.6932 - acc: 0.5043"
          ],
          "name": "stdout"
        },
        {
          "output_type": "stream",
          "text": [
            "57000/57000 [==============================] - 0s 8us/step - loss: 0.6933 - acc: 0.4997 - val_loss: 0.6931 - val_acc: 0.5053\n",
            "Epoch 126/300\n",
            "57000/57000 [==============================] - 0s 8us/step - loss: 0.6933 - acc: 0.5007 - val_loss: 0.6938 - val_acc: 0.4947\n",
            "Epoch 127/300\n",
            "57000/57000 [==============================] - 0s 8us/step - loss: 0.6937 - acc: 0.5005 - val_loss: 0.6932 - val_acc: 0.4947\n",
            "Epoch 128/300\n",
            "57000/57000 [==============================] - 0s 8us/step - loss: 0.6940 - acc: 0.4989 - val_loss: 0.6931 - val_acc: 0.5053\n",
            "Epoch 129/300\n",
            "57000/57000 [==============================] - 0s 8us/step - loss: 0.6938 - acc: 0.5016 - val_loss: 0.6934 - val_acc: 0.4947\n",
            "Epoch 130/300\n",
            "57000/57000 [==============================] - 0s 8us/step - loss: 0.6934 - acc: 0.4990 - val_loss: 0.6931 - val_acc: 0.5053\n",
            "Epoch 131/300\n",
            "57000/57000 [==============================] - 0s 8us/step - loss: 0.6939 - acc: 0.4986 - val_loss: 0.6946 - val_acc: 0.5053\n",
            "Epoch 132/300\n",
            "57000/57000 [==============================] - 0s 8us/step - loss: 0.6955 - acc: 0.4986 - val_loss: 0.6931 - val_acc: 0.5053\n",
            "Epoch 133/300\n",
            "57000/57000 [==============================] - 0s 8us/step - loss: 0.6935 - acc: 0.5014 - val_loss: 0.6934 - val_acc: 0.4947\n",
            "Epoch 134/300\n",
            "57000/57000 [==============================] - 0s 8us/step - loss: 0.6948 - acc: 0.4966 - val_loss: 0.6937 - val_acc: 0.4947\n",
            "Epoch 135/300\n",
            "57000/57000 [==============================] - 0s 8us/step - loss: 0.6948 - acc: 0.4991 - val_loss: 0.6941 - val_acc: 0.4947\n",
            "Epoch 136/300\n",
            "57000/57000 [==============================] - 0s 8us/step - loss: 0.6943 - acc: 0.4991 - val_loss: 0.6935 - val_acc: 0.4947\n",
            "Epoch 137/300\n",
            "57000/57000 [==============================] - 0s 8us/step - loss: 0.6947 - acc: 0.4999 - val_loss: 0.6940 - val_acc: 0.4947\n",
            "Epoch 138/300\n",
            "39000/57000 [===================>..........] - ETA: 0s - loss: 0.6940 - acc: 0.4970"
          ],
          "name": "stdout"
        },
        {
          "output_type": "stream",
          "text": [
            "57000/57000 [==============================] - 0s 8us/step - loss: 0.6939 - acc: 0.4972 - val_loss: 0.6931 - val_acc: 0.5053\n",
            "Epoch 139/300\n",
            "57000/57000 [==============================] - 0s 8us/step - loss: 0.6948 - acc: 0.5006 - val_loss: 0.6935 - val_acc: 0.5053\n",
            "Epoch 140/300\n",
            "57000/57000 [==============================] - 0s 8us/step - loss: 0.6938 - acc: 0.5012 - val_loss: 0.6931 - val_acc: 0.5053\n",
            "Epoch 141/300\n",
            "57000/57000 [==============================] - 0s 8us/step - loss: 0.6937 - acc: 0.4972 - val_loss: 0.6932 - val_acc: 0.4947\n",
            "Epoch 142/300\n",
            "57000/57000 [==============================] - 0s 8us/step - loss: 0.6936 - acc: 0.4998 - val_loss: 0.6932 - val_acc: 0.4947\n",
            "Epoch 143/300\n",
            "57000/57000 [==============================] - 0s 8us/step - loss: 0.6935 - acc: 0.4992 - val_loss: 0.6946 - val_acc: 0.4947\n",
            "Epoch 144/300\n",
            "57000/57000 [==============================] - 0s 8us/step - loss: 0.6944 - acc: 0.5022 - val_loss: 0.6932 - val_acc: 0.5053\n",
            "Epoch 145/300\n",
            "57000/57000 [==============================] - 0s 8us/step - loss: 0.6948 - acc: 0.4996 - val_loss: 0.6934 - val_acc: 0.5053\n",
            "Epoch 146/300\n",
            "57000/57000 [==============================] - 0s 8us/step - loss: 0.6935 - acc: 0.4999 - val_loss: 0.6944 - val_acc: 0.5053\n",
            "Epoch 147/300\n",
            "57000/57000 [==============================] - 0s 8us/step - loss: 0.6937 - acc: 0.4990 - val_loss: 0.6932 - val_acc: 0.5053\n",
            "Epoch 148/300\n",
            "57000/57000 [==============================] - 0s 8us/step - loss: 0.6933 - acc: 0.5030 - val_loss: 0.6931 - val_acc: 0.5053\n",
            "Epoch 149/300\n",
            "57000/57000 [==============================] - 0s 8us/step - loss: 0.6941 - acc: 0.4971 - val_loss: 0.6932 - val_acc: 0.5053\n",
            "Epoch 150/300\n",
            "57000/57000 [==============================] - 0s 8us/step - loss: 0.6957 - acc: 0.4960 - val_loss: 0.6932 - val_acc: 0.5053\n",
            "Epoch 151/300\n",
            "48000/57000 [========================>.....] - ETA: 0s - loss: 0.6946 - acc: 0.5011"
          ],
          "name": "stdout"
        },
        {
          "output_type": "stream",
          "text": [
            "57000/57000 [==============================] - 0s 8us/step - loss: 0.6946 - acc: 0.5012 - val_loss: 0.6937 - val_acc: 0.5053\n",
            "Epoch 152/300\n",
            "57000/57000 [==============================] - 0s 8us/step - loss: 0.6949 - acc: 0.5007 - val_loss: 0.6944 - val_acc: 0.5053\n",
            "Epoch 153/300\n",
            "57000/57000 [==============================] - 0s 8us/step - loss: 0.6935 - acc: 0.5016 - val_loss: 0.6931 - val_acc: 0.5053\n",
            "Epoch 154/300\n",
            "57000/57000 [==============================] - 0s 8us/step - loss: 0.6936 - acc: 0.5023 - val_loss: 0.6931 - val_acc: 0.5053\n",
            "Epoch 155/300\n",
            "57000/57000 [==============================] - 0s 8us/step - loss: 0.6934 - acc: 0.5019 - val_loss: 0.6944 - val_acc: 0.5053\n",
            "Epoch 156/300\n",
            "57000/57000 [==============================] - 0s 8us/step - loss: 0.6938 - acc: 0.5009 - val_loss: 0.6931 - val_acc: 0.5053\n",
            "Epoch 157/300\n",
            "57000/57000 [==============================] - 0s 8us/step - loss: 0.6938 - acc: 0.4970 - val_loss: 0.6945 - val_acc: 0.5053\n",
            "Epoch 158/300\n",
            "57000/57000 [==============================] - 0s 8us/step - loss: 0.6938 - acc: 0.5001 - val_loss: 0.6934 - val_acc: 0.4947\n",
            "Epoch 159/300\n",
            "57000/57000 [==============================] - 0s 8us/step - loss: 0.6935 - acc: 0.4994 - val_loss: 0.6963 - val_acc: 0.5053\n",
            "Epoch 160/300\n",
            "57000/57000 [==============================] - 0s 8us/step - loss: 0.6949 - acc: 0.4978 - val_loss: 0.6936 - val_acc: 0.5053\n",
            "Epoch 161/300\n",
            "57000/57000 [==============================] - 0s 8us/step - loss: 0.6941 - acc: 0.5031 - val_loss: 0.6987 - val_acc: 0.4947\n",
            "Epoch 162/300\n",
            "57000/57000 [==============================] - 0s 8us/step - loss: 0.6950 - acc: 0.4966 - val_loss: 0.6972 - val_acc: 0.4947\n",
            "Epoch 163/300\n",
            "57000/57000 [==============================] - 0s 8us/step - loss: 0.6975 - acc: 0.4949 - val_loss: 0.6940 - val_acc: 0.4947\n",
            "Epoch 164/300\n",
            "57000/57000 [==============================] - 0s 8us/step - loss: 0.6951 - acc: 0.4993 - val_loss: 0.6966 - val_acc: 0.5053\n"
          ],
          "name": "stdout"
        },
        {
          "output_type": "stream",
          "text": [
            "Epoch 165/300\n",
            "57000/57000 [==============================] - 0s 8us/step - loss: 0.6959 - acc: 0.4995 - val_loss: 0.6953 - val_acc: 0.4947\n",
            "Epoch 166/300\n",
            "57000/57000 [==============================] - 0s 8us/step - loss: 0.6937 - acc: 0.4975 - val_loss: 0.6931 - val_acc: 0.5053\n",
            "Epoch 167/300\n",
            "57000/57000 [==============================] - 0s 8us/step - loss: 0.6936 - acc: 0.4975 - val_loss: 0.6931 - val_acc: 0.5053\n",
            "Epoch 168/300\n",
            "57000/57000 [==============================] - 0s 8us/step - loss: 0.6933 - acc: 0.5001 - val_loss: 0.6931 - val_acc: 0.5053\n",
            "Epoch 169/300\n",
            "57000/57000 [==============================] - 0s 8us/step - loss: 0.6934 - acc: 0.4966 - val_loss: 0.6935 - val_acc: 0.4947\n",
            "Epoch 170/300\n",
            "57000/57000 [==============================] - 0s 8us/step - loss: 0.6933 - acc: 0.5022 - val_loss: 0.6932 - val_acc: 0.4947\n",
            "Epoch 171/300\n",
            "57000/57000 [==============================] - 0s 8us/step - loss: 0.6936 - acc: 0.4974 - val_loss: 0.6936 - val_acc: 0.4947\n",
            "Epoch 172/300\n",
            "57000/57000 [==============================] - 0s 8us/step - loss: 0.6939 - acc: 0.4986 - val_loss: 0.6931 - val_acc: 0.5053\n",
            "Epoch 173/300\n",
            "57000/57000 [==============================] - 0s 8us/step - loss: 0.6933 - acc: 0.5006 - val_loss: 0.6931 - val_acc: 0.5053\n",
            "Epoch 174/300\n",
            "57000/57000 [==============================] - 0s 8us/step - loss: 0.6932 - acc: 0.5031 - val_loss: 0.6933 - val_acc: 0.5053\n",
            "Epoch 175/300\n",
            "57000/57000 [==============================] - 0s 8us/step - loss: 0.6943 - acc: 0.5006 - val_loss: 0.6931 - val_acc: 0.5053\n",
            "Epoch 176/300\n",
            "57000/57000 [==============================] - 0s 8us/step - loss: 0.6939 - acc: 0.4983 - val_loss: 0.6932 - val_acc: 0.4947\n",
            "Epoch 177/300\n",
            "57000/57000 [==============================] - 0s 8us/step - loss: 0.6936 - acc: 0.4991 - val_loss: 0.6932 - val_acc: 0.5053\n",
            "Epoch 178/300\n",
            "39000/57000 [===================>..........] - ETA: 0s - loss: 0.6933 - acc: 0.4994"
          ],
          "name": "stdout"
        },
        {
          "output_type": "stream",
          "text": [
            "57000/57000 [==============================] - 0s 8us/step - loss: 0.6934 - acc: 0.4991 - val_loss: 0.6944 - val_acc: 0.4947\n",
            "Epoch 179/300\n",
            "57000/57000 [==============================] - 0s 8us/step - loss: 0.6937 - acc: 0.5015 - val_loss: 0.6934 - val_acc: 0.5053\n",
            "Epoch 180/300\n",
            "57000/57000 [==============================] - 0s 8us/step - loss: 0.6935 - acc: 0.5023 - val_loss: 0.6945 - val_acc: 0.4947\n",
            "Epoch 181/300\n",
            "57000/57000 [==============================] - 0s 8us/step - loss: 0.6936 - acc: 0.5051 - val_loss: 0.6931 - val_acc: 0.5053\n",
            "Epoch 182/300\n",
            "57000/57000 [==============================] - 0s 8us/step - loss: 0.6938 - acc: 0.5015 - val_loss: 0.6931 - val_acc: 0.5053\n",
            "Epoch 183/300\n",
            "57000/57000 [==============================] - 0s 8us/step - loss: 0.6951 - acc: 0.5029 - val_loss: 0.6931 - val_acc: 0.5053\n",
            "Epoch 184/300\n",
            "57000/57000 [==============================] - 0s 8us/step - loss: 0.6948 - acc: 0.5025 - val_loss: 0.6939 - val_acc: 0.4947\n",
            "Epoch 185/300\n",
            "57000/57000 [==============================] - 0s 8us/step - loss: 0.6933 - acc: 0.5015 - val_loss: 0.6933 - val_acc: 0.4947\n",
            "Epoch 186/300\n",
            "57000/57000 [==============================] - 0s 8us/step - loss: 0.6933 - acc: 0.4994 - val_loss: 0.6935 - val_acc: 0.5053\n",
            "Epoch 187/300\n",
            "57000/57000 [==============================] - 0s 8us/step - loss: 0.6933 - acc: 0.5023 - val_loss: 0.6934 - val_acc: 0.5053\n",
            "Epoch 188/300\n",
            "57000/57000 [==============================] - 0s 8us/step - loss: 0.6934 - acc: 0.5018 - val_loss: 0.6944 - val_acc: 0.4947\n",
            "Epoch 189/300\n",
            "57000/57000 [==============================] - 0s 8us/step - loss: 0.6941 - acc: 0.4955 - val_loss: 0.6946 - val_acc: 0.4947\n",
            "Epoch 190/300\n",
            "57000/57000 [==============================] - 0s 8us/step - loss: 0.6942 - acc: 0.4979 - val_loss: 0.6932 - val_acc: 0.4947\n",
            "Epoch 191/300\n",
            "36000/57000 [=================>............] - ETA: 0s - loss: 0.6936 - acc: 0.5026"
          ],
          "name": "stdout"
        },
        {
          "output_type": "stream",
          "text": [
            "57000/57000 [==============================] - 0s 8us/step - loss: 0.6935 - acc: 0.5004 - val_loss: 0.6932 - val_acc: 0.4947\n",
            "Epoch 192/300\n",
            "57000/57000 [==============================] - 0s 8us/step - loss: 0.6932 - acc: 0.5011 - val_loss: 0.6932 - val_acc: 0.5053\n",
            "Epoch 193/300\n",
            "57000/57000 [==============================] - 0s 8us/step - loss: 0.6937 - acc: 0.5006 - val_loss: 0.6935 - val_acc: 0.4947\n",
            "Epoch 194/300\n",
            "57000/57000 [==============================] - 0s 8us/step - loss: 0.6936 - acc: 0.4994 - val_loss: 0.6932 - val_acc: 0.4947\n",
            "Epoch 195/300\n",
            "57000/57000 [==============================] - 0s 8us/step - loss: 0.6938 - acc: 0.5008 - val_loss: 0.6947 - val_acc: 0.5053\n",
            "Epoch 196/300\n",
            "57000/57000 [==============================] - 0s 8us/step - loss: 0.6943 - acc: 0.5025 - val_loss: 0.6953 - val_acc: 0.4947\n",
            "Epoch 197/300\n",
            "57000/57000 [==============================] - 0s 8us/step - loss: 0.6937 - acc: 0.4991 - val_loss: 0.6940 - val_acc: 0.4947\n",
            "Epoch 198/300\n",
            "57000/57000 [==============================] - 0s 8us/step - loss: 0.6939 - acc: 0.5005 - val_loss: 0.6941 - val_acc: 0.5053\n",
            "Epoch 199/300\n",
            "57000/57000 [==============================] - 0s 8us/step - loss: 0.6936 - acc: 0.4978 - val_loss: 0.6943 - val_acc: 0.5053\n",
            "Epoch 200/300\n",
            "57000/57000 [==============================] - 0s 8us/step - loss: 0.6942 - acc: 0.4970 - val_loss: 0.6935 - val_acc: 0.5053\n",
            "Epoch 201/300\n",
            "57000/57000 [==============================] - 0s 8us/step - loss: 0.6946 - acc: 0.4988 - val_loss: 0.6946 - val_acc: 0.4947\n",
            "Epoch 202/300\n",
            "57000/57000 [==============================] - 0s 8us/step - loss: 0.6939 - acc: 0.5012 - val_loss: 0.6931 - val_acc: 0.5053\n",
            "Epoch 203/300\n",
            "57000/57000 [==============================] - 0s 8us/step - loss: 0.6934 - acc: 0.4995 - val_loss: 0.6931 - val_acc: 0.5053\n",
            "Epoch 204/300\n",
            "48000/57000 [========================>.....] - ETA: 0s - loss: 0.6937 - acc: 0.5037"
          ],
          "name": "stdout"
        },
        {
          "output_type": "stream",
          "text": [
            "57000/57000 [==============================] - 0s 8us/step - loss: 0.6939 - acc: 0.5037 - val_loss: 0.6934 - val_acc: 0.4947\n",
            "Epoch 205/300\n",
            "57000/57000 [==============================] - 0s 8us/step - loss: 0.6940 - acc: 0.5007 - val_loss: 0.6931 - val_acc: 0.5053\n",
            "Epoch 206/300\n",
            "57000/57000 [==============================] - 0s 8us/step - loss: 0.6938 - acc: 0.5004 - val_loss: 0.6936 - val_acc: 0.4947\n",
            "Epoch 207/300\n",
            "57000/57000 [==============================] - 0s 8us/step - loss: 0.6933 - acc: 0.4991 - val_loss: 0.6941 - val_acc: 0.4947\n",
            "Epoch 208/300\n",
            "57000/57000 [==============================] - 0s 8us/step - loss: 0.6935 - acc: 0.5007 - val_loss: 0.6931 - val_acc: 0.5053\n",
            "Epoch 209/300\n",
            "57000/57000 [==============================] - 0s 8us/step - loss: 0.6935 - acc: 0.4998 - val_loss: 0.6933 - val_acc: 0.5053\n",
            "Epoch 210/300\n",
            "57000/57000 [==============================] - 0s 8us/step - loss: 0.6937 - acc: 0.4962 - val_loss: 0.6931 - val_acc: 0.5053\n",
            "Epoch 211/300\n",
            "57000/57000 [==============================] - 0s 8us/step - loss: 0.6936 - acc: 0.4972 - val_loss: 0.6935 - val_acc: 0.5053\n",
            "Epoch 212/300\n",
            "57000/57000 [==============================] - 0s 8us/step - loss: 0.6935 - acc: 0.5020 - val_loss: 0.6934 - val_acc: 0.5053\n",
            "Epoch 213/300\n",
            "57000/57000 [==============================] - 0s 8us/step - loss: 0.6934 - acc: 0.4988 - val_loss: 0.6934 - val_acc: 0.4947\n",
            "Epoch 214/300\n",
            "57000/57000 [==============================] - 0s 8us/step - loss: 0.6934 - acc: 0.4976 - val_loss: 0.6936 - val_acc: 0.4947\n",
            "Epoch 215/300\n",
            "57000/57000 [==============================] - 0s 8us/step - loss: 0.6938 - acc: 0.4983 - val_loss: 0.6931 - val_acc: 0.5053\n",
            "Epoch 216/300\n",
            "57000/57000 [==============================] - 0s 8us/step - loss: 0.6938 - acc: 0.4999 - val_loss: 0.6941 - val_acc: 0.4947\n",
            "Epoch 217/300\n",
            "57000/57000 [==============================] - 0s 8us/step - loss: 0.6936 - acc: 0.4969 - val_loss: 0.6936 - val_acc: 0.4947\n"
          ],
          "name": "stdout"
        },
        {
          "output_type": "stream",
          "text": [
            "Epoch 218/300\n",
            "57000/57000 [==============================] - 0s 8us/step - loss: 0.6935 - acc: 0.4985 - val_loss: 0.6931 - val_acc: 0.5053\n",
            "Epoch 219/300\n",
            "57000/57000 [==============================] - 0s 8us/step - loss: 0.6935 - acc: 0.4985 - val_loss: 0.6931 - val_acc: 0.5053\n",
            "Epoch 220/300\n",
            "57000/57000 [==============================] - 0s 8us/step - loss: 0.6934 - acc: 0.5006 - val_loss: 0.6937 - val_acc: 0.4947\n",
            "Epoch 221/300\n",
            "57000/57000 [==============================] - 0s 8us/step - loss: 0.6933 - acc: 0.4995 - val_loss: 0.6933 - val_acc: 0.5053\n",
            "Epoch 222/300\n",
            "57000/57000 [==============================] - 0s 8us/step - loss: 0.6938 - acc: 0.5031 - val_loss: 0.6942 - val_acc: 0.4947\n",
            "Epoch 223/300\n",
            "57000/57000 [==============================] - 0s 8us/step - loss: 0.6952 - acc: 0.4971 - val_loss: 0.6940 - val_acc: 0.5053\n",
            "Epoch 224/300\n",
            "57000/57000 [==============================] - 0s 8us/step - loss: 0.6941 - acc: 0.4989 - val_loss: 0.6931 - val_acc: 0.5053\n",
            "Epoch 225/300\n",
            "57000/57000 [==============================] - 0s 8us/step - loss: 0.6937 - acc: 0.5014 - val_loss: 0.6968 - val_acc: 0.4947\n",
            "Epoch 226/300\n",
            "57000/57000 [==============================] - 0s 8us/step - loss: 0.6947 - acc: 0.5022 - val_loss: 0.6977 - val_acc: 0.5053\n",
            "Epoch 227/300\n",
            "57000/57000 [==============================] - 0s 8us/step - loss: 0.6959 - acc: 0.4975 - val_loss: 0.6932 - val_acc: 0.4947\n",
            "Epoch 228/300\n",
            "57000/57000 [==============================] - 0s 8us/step - loss: 0.6933 - acc: 0.5016 - val_loss: 0.6938 - val_acc: 0.5053\n",
            "Epoch 229/300\n",
            "57000/57000 [==============================] - 0s 8us/step - loss: 0.6936 - acc: 0.4985 - val_loss: 0.6933 - val_acc: 0.4947\n",
            "Epoch 230/300\n",
            "57000/57000 [==============================] - 0s 8us/step - loss: 0.6938 - acc: 0.4997 - val_loss: 0.6947 - val_acc: 0.5053\n",
            "Epoch 231/300\n",
            " 3000/57000 [>.............................] - ETA: 0s - loss: 0.6961 - acc: 0.4950"
          ],
          "name": "stdout"
        },
        {
          "output_type": "stream",
          "text": [
            "57000/57000 [==============================] - 0s 8us/step - loss: 0.6938 - acc: 0.5021 - val_loss: 0.6938 - val_acc: 0.4947\n",
            "Epoch 232/300\n",
            "57000/57000 [==============================] - 0s 8us/step - loss: 0.6941 - acc: 0.5022 - val_loss: 0.6933 - val_acc: 0.4947\n",
            "Epoch 233/300\n",
            "57000/57000 [==============================] - 0s 8us/step - loss: 0.6942 - acc: 0.4998 - val_loss: 0.6931 - val_acc: 0.5053\n",
            "Epoch 234/300\n",
            "57000/57000 [==============================] - 0s 8us/step - loss: 0.6936 - acc: 0.5012 - val_loss: 0.6937 - val_acc: 0.4947\n",
            "Epoch 235/300\n",
            "57000/57000 [==============================] - 0s 8us/step - loss: 0.6934 - acc: 0.4997 - val_loss: 0.6934 - val_acc: 0.5053\n",
            "Epoch 236/300\n",
            "57000/57000 [==============================] - 0s 8us/step - loss: 0.6941 - acc: 0.5004 - val_loss: 0.6952 - val_acc: 0.4947\n",
            "Epoch 237/300\n",
            "57000/57000 [==============================] - 0s 8us/step - loss: 0.6937 - acc: 0.4995 - val_loss: 0.6936 - val_acc: 0.5053\n",
            "Epoch 238/300\n",
            "57000/57000 [==============================] - 0s 8us/step - loss: 0.6936 - acc: 0.4994 - val_loss: 0.6932 - val_acc: 0.5053\n",
            "Epoch 239/300\n",
            "57000/57000 [==============================] - 0s 8us/step - loss: 0.6934 - acc: 0.4990 - val_loss: 0.6933 - val_acc: 0.4947\n",
            "Epoch 240/300\n",
            "57000/57000 [==============================] - 0s 8us/step - loss: 0.6937 - acc: 0.4981 - val_loss: 0.6931 - val_acc: 0.5053\n",
            "Epoch 241/300\n",
            "57000/57000 [==============================] - 0s 8us/step - loss: 0.6933 - acc: 0.4986 - val_loss: 0.6931 - val_acc: 0.5053\n",
            "Epoch 242/300\n",
            "57000/57000 [==============================] - 0s 8us/step - loss: 0.6933 - acc: 0.4974 - val_loss: 0.6931 - val_acc: 0.5053\n",
            "Epoch 243/300\n",
            "57000/57000 [==============================] - 0s 8us/step - loss: 0.6947 - acc: 0.4950 - val_loss: 0.6958 - val_acc: 0.5053\n",
            "Epoch 244/300\n",
            "30000/57000 [==============>...............] - ETA: 0s - loss: 0.6946 - acc: 0.5032"
          ],
          "name": "stdout"
        },
        {
          "output_type": "stream",
          "text": [
            "57000/57000 [==============================] - 0s 8us/step - loss: 0.6943 - acc: 0.5014 - val_loss: 0.6951 - val_acc: 0.4947\n",
            "Epoch 245/300\n",
            "57000/57000 [==============================] - 0s 8us/step - loss: 0.6937 - acc: 0.5014 - val_loss: 0.6950 - val_acc: 0.5053\n",
            "Epoch 246/300\n",
            "57000/57000 [==============================] - 0s 8us/step - loss: 0.6935 - acc: 0.4992 - val_loss: 0.6933 - val_acc: 0.4947\n",
            "Epoch 247/300\n",
            "57000/57000 [==============================] - 0s 8us/step - loss: 0.6934 - acc: 0.5006 - val_loss: 0.6931 - val_acc: 0.5053\n",
            "Epoch 248/300\n",
            "57000/57000 [==============================] - 0s 8us/step - loss: 0.6934 - acc: 0.4999 - val_loss: 0.6931 - val_acc: 0.5053\n",
            "Epoch 249/300\n",
            "57000/57000 [==============================] - 0s 8us/step - loss: 0.6936 - acc: 0.4988 - val_loss: 0.6932 - val_acc: 0.4947\n",
            "Epoch 250/300\n",
            "57000/57000 [==============================] - 0s 8us/step - loss: 0.6939 - acc: 0.4994 - val_loss: 0.6931 - val_acc: 0.5053\n",
            "Epoch 251/300\n",
            "57000/57000 [==============================] - 0s 8us/step - loss: 0.6935 - acc: 0.5010 - val_loss: 0.6935 - val_acc: 0.5053\n",
            "Epoch 252/300\n",
            "57000/57000 [==============================] - 0s 8us/step - loss: 0.6943 - acc: 0.4993 - val_loss: 0.6947 - val_acc: 0.4947\n",
            "Epoch 253/300\n",
            "57000/57000 [==============================] - 0s 8us/step - loss: 0.6936 - acc: 0.5003 - val_loss: 0.6936 - val_acc: 0.5053\n",
            "Epoch 254/300\n",
            "57000/57000 [==============================] - 0s 8us/step - loss: 0.6942 - acc: 0.4977 - val_loss: 0.6937 - val_acc: 0.4947\n",
            "Epoch 255/300\n",
            "57000/57000 [==============================] - 0s 8us/step - loss: 0.6941 - acc: 0.5009 - val_loss: 0.6936 - val_acc: 0.5053\n",
            "Epoch 256/300\n",
            "57000/57000 [==============================] - 0s 8us/step - loss: 0.6937 - acc: 0.5035 - val_loss: 0.6932 - val_acc: 0.4947\n",
            "Epoch 257/300\n",
            "18000/57000 [========>.....................] - ETA: 0s - loss: 0.6934 - acc: 0.5010"
          ],
          "name": "stdout"
        },
        {
          "output_type": "stream",
          "text": [
            "57000/57000 [==============================] - 0s 8us/step - loss: 0.6936 - acc: 0.5015 - val_loss: 0.6931 - val_acc: 0.5053\n",
            "Epoch 258/300\n",
            "57000/57000 [==============================] - 0s 8us/step - loss: 0.6934 - acc: 0.4987 - val_loss: 0.6933 - val_acc: 0.4947\n",
            "Epoch 259/300\n",
            "57000/57000 [==============================] - 0s 8us/step - loss: 0.6935 - acc: 0.4979 - val_loss: 0.6931 - val_acc: 0.5053\n",
            "Epoch 260/300\n",
            "57000/57000 [==============================] - 0s 8us/step - loss: 0.6934 - acc: 0.5034 - val_loss: 0.6931 - val_acc: 0.5053\n",
            "Epoch 261/300\n",
            "57000/57000 [==============================] - 0s 8us/step - loss: 0.6942 - acc: 0.4988 - val_loss: 0.6931 - val_acc: 0.5053\n",
            "Epoch 262/300\n",
            "57000/57000 [==============================] - 0s 8us/step - loss: 0.6937 - acc: 0.4972 - val_loss: 0.6935 - val_acc: 0.4947\n",
            "Epoch 263/300\n",
            "57000/57000 [==============================] - 0s 8us/step - loss: 0.6937 - acc: 0.4999 - val_loss: 0.6932 - val_acc: 0.4947\n",
            "Epoch 264/300\n",
            "57000/57000 [==============================] - 0s 8us/step - loss: 0.6936 - acc: 0.4994 - val_loss: 0.6931 - val_acc: 0.5053\n",
            "Epoch 265/300\n",
            "57000/57000 [==============================] - 0s 8us/step - loss: 0.6933 - acc: 0.5017 - val_loss: 0.6938 - val_acc: 0.5053\n",
            "Epoch 266/300\n",
            "57000/57000 [==============================] - 0s 8us/step - loss: 0.6941 - acc: 0.4969 - val_loss: 0.6931 - val_acc: 0.5053\n",
            "Epoch 267/300\n",
            "57000/57000 [==============================] - 0s 8us/step - loss: 0.6937 - acc: 0.4995 - val_loss: 0.6944 - val_acc: 0.4947\n",
            "Epoch 268/300\n",
            "57000/57000 [==============================] - 0s 8us/step - loss: 0.6934 - acc: 0.4976 - val_loss: 0.6931 - val_acc: 0.5053\n",
            "Epoch 269/300\n",
            "57000/57000 [==============================] - 0s 8us/step - loss: 0.6934 - acc: 0.5002 - val_loss: 0.6934 - val_acc: 0.5053\n",
            "Epoch 270/300\n",
            "12000/57000 [=====>........................] - ETA: 0s - loss: 0.6938 - acc: 0.4980"
          ],
          "name": "stdout"
        },
        {
          "output_type": "stream",
          "text": [
            "57000/57000 [==============================] - 0s 8us/step - loss: 0.6940 - acc: 0.4956 - val_loss: 0.6932 - val_acc: 0.4947\n",
            "Epoch 271/300\n",
            "57000/57000 [==============================] - 0s 8us/step - loss: 0.6933 - acc: 0.5048 - val_loss: 0.6946 - val_acc: 0.5053\n",
            "Epoch 272/300\n",
            "57000/57000 [==============================] - 0s 8us/step - loss: 0.6950 - acc: 0.5010 - val_loss: 0.6941 - val_acc: 0.4947\n",
            "Epoch 273/300\n",
            "57000/57000 [==============================] - 0s 8us/step - loss: 0.6961 - acc: 0.5006 - val_loss: 0.6959 - val_acc: 0.4947\n",
            "Epoch 274/300\n",
            "57000/57000 [==============================] - 0s 8us/step - loss: 0.6944 - acc: 0.5038 - val_loss: 0.6940 - val_acc: 0.5053\n",
            "Epoch 275/300\n",
            "57000/57000 [==============================] - 0s 8us/step - loss: 0.6939 - acc: 0.5043 - val_loss: 0.6935 - val_acc: 0.5053\n",
            "Epoch 276/300\n",
            "57000/57000 [==============================] - 0s 8us/step - loss: 0.6933 - acc: 0.5025 - val_loss: 0.6931 - val_acc: 0.5053\n",
            "Epoch 277/300\n",
            "57000/57000 [==============================] - 0s 8us/step - loss: 0.6934 - acc: 0.5009 - val_loss: 0.6942 - val_acc: 0.5053\n",
            "Epoch 278/300\n",
            "57000/57000 [==============================] - 0s 8us/step - loss: 0.6939 - acc: 0.4993 - val_loss: 0.6938 - val_acc: 0.4947\n",
            "Epoch 279/300\n",
            "57000/57000 [==============================] - 0s 8us/step - loss: 0.6936 - acc: 0.4963 - val_loss: 0.6932 - val_acc: 0.4947\n",
            "Epoch 280/300\n",
            "57000/57000 [==============================] - 0s 8us/step - loss: 0.6937 - acc: 0.4984 - val_loss: 0.6933 - val_acc: 0.4947\n",
            "Epoch 281/300\n",
            "57000/57000 [==============================] - 0s 8us/step - loss: 0.6935 - acc: 0.4976 - val_loss: 0.6934 - val_acc: 0.4947\n",
            "Epoch 282/300\n",
            "57000/57000 [==============================] - 0s 8us/step - loss: 0.6940 - acc: 0.4979 - val_loss: 0.6939 - val_acc: 0.5053\n",
            "Epoch 283/300\n",
            "12000/57000 [=====>........................] - ETA: 0s - loss: 0.6950 - acc: 0.5018"
          ],
          "name": "stdout"
        },
        {
          "output_type": "stream",
          "text": [
            "57000/57000 [==============================] - 0s 8us/step - loss: 0.6945 - acc: 0.5019 - val_loss: 0.6940 - val_acc: 0.5053\n",
            "Epoch 284/300\n",
            "57000/57000 [==============================] - 0s 8us/step - loss: 0.6942 - acc: 0.5004 - val_loss: 0.6944 - val_acc: 0.4947\n",
            "Epoch 285/300\n",
            "57000/57000 [==============================] - 0s 8us/step - loss: 0.6936 - acc: 0.5029 - val_loss: 0.6934 - val_acc: 0.4947\n",
            "Epoch 286/300\n",
            "57000/57000 [==============================] - 0s 8us/step - loss: 0.6933 - acc: 0.4982 - val_loss: 0.6937 - val_acc: 0.5053\n",
            "Epoch 287/300\n",
            "57000/57000 [==============================] - 0s 8us/step - loss: 0.6938 - acc: 0.4954 - val_loss: 0.6951 - val_acc: 0.4947\n",
            "Epoch 288/300\n",
            "57000/57000 [==============================] - 0s 8us/step - loss: 0.6937 - acc: 0.5006 - val_loss: 0.6941 - val_acc: 0.5053\n",
            "Epoch 289/300\n",
            "57000/57000 [==============================] - 0s 8us/step - loss: 0.6941 - acc: 0.4983 - val_loss: 0.6935 - val_acc: 0.4947\n",
            "Epoch 290/300\n",
            "57000/57000 [==============================] - 0s 8us/step - loss: 0.6937 - acc: 0.5056 - val_loss: 0.6942 - val_acc: 0.4947\n",
            "Epoch 291/300\n",
            "57000/57000 [==============================] - 0s 8us/step - loss: 0.6935 - acc: 0.4978 - val_loss: 0.6933 - val_acc: 0.4947\n",
            "Epoch 292/300\n",
            "57000/57000 [==============================] - 0s 8us/step - loss: 0.6936 - acc: 0.4995 - val_loss: 0.6931 - val_acc: 0.5053\n",
            "Epoch 293/300\n",
            "57000/57000 [==============================] - 0s 8us/step - loss: 0.6934 - acc: 0.4964 - val_loss: 0.6931 - val_acc: 0.5053\n",
            "Epoch 294/300\n",
            "57000/57000 [==============================] - 0s 8us/step - loss: 0.6935 - acc: 0.5001 - val_loss: 0.6939 - val_acc: 0.4947\n",
            "Epoch 295/300\n",
            "57000/57000 [==============================] - 0s 8us/step - loss: 0.6934 - acc: 0.5001 - val_loss: 0.6932 - val_acc: 0.4947\n",
            "Epoch 296/300\n",
            "48000/57000 [========================>.....] - ETA: 0s - loss: 0.6934 - acc: 0.4968"
          ],
          "name": "stdout"
        },
        {
          "output_type": "stream",
          "text": [
            "57000/57000 [==============================] - 0s 8us/step - loss: 0.6934 - acc: 0.4967 - val_loss: 0.6933 - val_acc: 0.4947\n",
            "Epoch 297/300\n",
            "57000/57000 [==============================] - 0s 8us/step - loss: 0.6940 - acc: 0.4992 - val_loss: 0.6933 - val_acc: 0.4947\n",
            "Epoch 298/300\n",
            "57000/57000 [==============================] - 0s 8us/step - loss: 0.6933 - acc: 0.5002 - val_loss: 0.6931 - val_acc: 0.5053\n",
            "Epoch 299/300\n",
            "57000/57000 [==============================] - 0s 8us/step - loss: 0.6933 - acc: 0.5029 - val_loss: 0.6932 - val_acc: 0.5053\n",
            "Epoch 300/300\n",
            "57000/57000 [==============================] - 0s 8us/step - loss: 0.6944 - acc: 0.4958 - val_loss: 0.6942 - val_acc: 0.4947\n"
          ],
          "name": "stdout"
        },
        {
          "output_type": "display_data",
          "data": {
            "image/png": "[encoded data removed]",
            "text/plain": [
              "<matplotlib.figure.Figure at 0x7f87da74da90>"
            ]
          },
          "metadata": {
            "tags": []
          }
        },
        {
          "output_type": "display_data",
          "data": {
            "image/png": "[encoded data removed]",
            "text/plain": [
              "<matplotlib.figure.Figure at 0x7f87d9e55588>"
            ]
          },
          "metadata": {
            "tags": []
          }
        },
        {
          "output_type": "error",
          "ename": "ValueError",
          "evalue": "ignored",
          "traceback": [
            "\u001b[0;31m---------------------------------------------------------------------------\u001b[0m",
            "\u001b[0;31mValueError\u001b[0m                                Traceback (most recent call last)",
            "\u001b[0;32m<ipython-input-8-2ad1b3c7a65b>\u001b[0m in \u001b[0;36m<module>\u001b[0;34m()\u001b[0m\n\u001b[1;32m     52\u001b[0m \u001b[0;34m\u001b[0m\u001b[0m\n\u001b[1;32m     53\u001b[0m \u001b[0mplt\u001b[0m\u001b[0;34m.\u001b[0m\u001b[0mshow\u001b[0m\u001b[0;34m(\u001b[0m\u001b[0;34m)\u001b[0m\u001b[0;34m\u001b[0m\u001b[0m\n\u001b[0;32m---> 54\u001b[0;31m \u001b[0mpreds\u001b[0m \u001b[0;34m=\u001b[0m \u001b[0mmodel\u001b[0m\u001b[0;34m.\u001b[0m\u001b[0mpredict\u001b[0m\u001b[0;34m(\u001b[0m\u001b[0mXtest\u001b[0m\u001b[0;34m.\u001b[0m\u001b[0mreshape\u001b[0m\u001b[0;34m(\u001b[0m\u001b[0;34m(\u001b[0m\u001b[0mlen\u001b[0m\u001b[0;34m(\u001b[0m\u001b[0mXtest\u001b[0m\u001b[0;34m)\u001b[0m\u001b[0;34m,\u001b[0m \u001b[0mSIZE\u001b[0m\u001b[0;34m,\u001b[0m \u001b[0;36m1\u001b[0m\u001b[0;34m)\u001b[0m\u001b[0;34m)\u001b[0m\u001b[0;34m)\u001b[0m\u001b[0;34m\u001b[0m\u001b[0m\n\u001b[0m\u001b[1;32m     55\u001b[0m \u001b[0mpreds\u001b[0m \u001b[0;34m=\u001b[0m \u001b[0mnp\u001b[0m\u001b[0;34m.\u001b[0m\u001b[0mround\u001b[0m\u001b[0;34m(\u001b[0m\u001b[0mpreds\u001b[0m\u001b[0;34m[\u001b[0m\u001b[0;34m:\u001b[0m\u001b[0;34m,\u001b[0m \u001b[0;36m0\u001b[0m\u001b[0;34m]\u001b[0m\u001b[0;34m)\u001b[0m\u001b[0;34m.\u001b[0m\u001b[0mastype\u001b[0m\u001b[0;34m(\u001b[0m\u001b[0;34m'float32'\u001b[0m\u001b[0;34m)\u001b[0m\u001b[0;34m\u001b[0m\u001b[0m\n\u001b[1;32m     56\u001b[0m \u001b[0macc\u001b[0m \u001b[0;34m=\u001b[0m \u001b[0;34m(\u001b[0m\u001b[0mnp\u001b[0m\u001b[0;34m.\u001b[0m\u001b[0msum\u001b[0m\u001b[0;34m(\u001b[0m\u001b[0mpreds\u001b[0m \u001b[0;34m==\u001b[0m \u001b[0mYtest\u001b[0m\u001b[0;34m)\u001b[0m \u001b[0;34m/\u001b[0m \u001b[0mlen\u001b[0m\u001b[0;34m(\u001b[0m\u001b[0mYtest\u001b[0m\u001b[0;34m)\u001b[0m\u001b[0;34m)\u001b[0m \u001b[0;34m*\u001b[0m \u001b[0;36m100.\u001b[0m\u001b[0;34m\u001b[0m\u001b[0m\n",
            "\u001b[0;32m/usr/local/lib/python3.6/dist-packages/keras/models.py\u001b[0m in \u001b[0;36mpredict\u001b[0;34m(self, x, batch_size, verbose, steps)\u001b[0m\n\u001b[1;32m   1023\u001b[0m             \u001b[0mself\u001b[0m\u001b[0;34m.\u001b[0m\u001b[0mbuild\u001b[0m\u001b[0;34m(\u001b[0m\u001b[0;34m)\u001b[0m\u001b[0;34m\u001b[0m\u001b[0m\n\u001b[1;32m   1024\u001b[0m         return self.model.predict(x, batch_size=batch_size, verbose=verbose,\n\u001b[0;32m-> 1025\u001b[0;31m                                   steps=steps)\n\u001b[0m\u001b[1;32m   1026\u001b[0m \u001b[0;34m\u001b[0m\u001b[0m\n\u001b[1;32m   1027\u001b[0m     \u001b[0;32mdef\u001b[0m \u001b[0mpredict_on_batch\u001b[0m\u001b[0;34m(\u001b[0m\u001b[0mself\u001b[0m\u001b[0;34m,\u001b[0m \u001b[0mx\u001b[0m\u001b[0;34m)\u001b[0m\u001b[0;34m:\u001b[0m\u001b[0;34m\u001b[0m\u001b[0m\n",
            "\u001b[0;32m/usr/local/lib/python3.6/dist-packages/keras/engine/training.py\u001b[0m in \u001b[0;36mpredict\u001b[0;34m(self, x, batch_size, verbose, steps)\u001b[0m\n\u001b[1;32m   1823\u001b[0m                                  \u001b[0;34m'divided by the batch size. Found: '\u001b[0m \u001b[0;34m+\u001b[0m\u001b[0;34m\u001b[0m\u001b[0m\n\u001b[1;32m   1824\u001b[0m                                  \u001b[0mstr\u001b[0m\u001b[0;34m(\u001b[0m\u001b[0mx\u001b[0m\u001b[0;34m[\u001b[0m\u001b[0;36m0\u001b[0m\u001b[0;34m]\u001b[0m\u001b[0;34m.\u001b[0m\u001b[0mshape\u001b[0m\u001b[0;34m[\u001b[0m\u001b[0;36m0\u001b[0m\u001b[0;34m]\u001b[0m\u001b[0;34m)\u001b[0m \u001b[0;34m+\u001b[0m \u001b[0;34m' samples. '\u001b[0m\u001b[0;34m\u001b[0m\u001b[0m\n\u001b[0;32m-> 1825\u001b[0;31m                                  'Batch size: ' + str(batch_size) + '.')\n\u001b[0m\u001b[1;32m   1826\u001b[0m \u001b[0;34m\u001b[0m\u001b[0m\n\u001b[1;32m   1827\u001b[0m         \u001b[0;31m# Prepare inputs, delegate logic to `_predict_loop`.\u001b[0m\u001b[0;34m\u001b[0m\u001b[0;34m\u001b[0m\u001b[0m\n",
            "\u001b[0;31mValueError\u001b[0m: In a stateful network, you should only pass inputs with a number of samples that can be divided by the batch size. Found: 30000 samples. Batch size: 32."
          ]
        }
      ]
    },
    {
      "metadata": {
        "id": "i36G7iJEdAcL",
        "colab_type": "code",
        "colab": {
          "autoexec": {
            "startup": false,
            "wait_interval": 0
          }
        }
      },
      "cell_type": "code",
      "source": [
        ""
      ],
      "execution_count": 0,
      "outputs": []
    }
  ]
}